{
 "cells": [
  {
   "cell_type": "code",
   "execution_count": 1,
   "metadata": {},
   "outputs": [
    {
     "name": "stderr",
     "output_type": "stream",
     "text": [
      "/Users/lex/anaconda3/envs/fastai-cpu/lib/python3.6/importlib/_bootstrap.py:219: RuntimeWarning: numpy.dtype size changed, may indicate binary incompatibility. Expected 96, got 88\n",
      "  return f(*args, **kwds)\n",
      "/Users/lex/anaconda3/envs/fastai-cpu/lib/python3.6/site-packages/sklearn/ensemble/weight_boosting.py:29: DeprecationWarning: numpy.core.umath_tests is an internal NumPy module and should not be imported. It will be removed in a future NumPy release.\n",
      "  from numpy.core.umath_tests import inner1d\n"
     ]
    }
   ],
   "source": [
    "%load_ext autoreload\n",
    "%autoreload 2\n",
    "\n",
    "import numpy as np\n",
    "import pandas as pd\n",
    "from matplotlib import pyplot as plt\n",
    "from pathlib import Path\n",
    "\n",
    "import torch\n",
    "import torch.nn as nn\n",
    "import torch.nn.functional as F\n",
    "from torch.autograd import Variable\n",
    "from tqdm import tqdm_notebook\n",
    "\n",
    "from fastai.conv_learner import ConvLearner\n",
    "from fastai.dataset import ImageClassifierData, get_cv_idxs\n",
    "from fastai.transforms import tfms_from_model"
   ]
  },
  {
   "cell_type": "code",
   "execution_count": 2,
   "metadata": {},
   "outputs": [],
   "source": [
    "%matplotlib inline"
   ]
  },
  {
   "cell_type": "markdown",
   "metadata": {},
   "source": [
    "# Lesson 4 - Adding Dropout to spreadsheet CNN"
   ]
  },
  {
   "cell_type": "code",
   "execution_count": 3,
   "metadata": {},
   "outputs": [],
   "source": [
    "PATH = Path('./data/mnist')\n",
    "PATH.mkdir(exist_ok=True)"
   ]
  },
  {
   "cell_type": "markdown",
   "metadata": {},
   "source": [
    "## Dataset"
   ]
  },
  {
   "cell_type": "code",
   "execution_count": 5,
   "metadata": {},
   "outputs": [],
   "source": [
    "!kaggle competitions download -c digit-recognizer --path={PATH}"
   ]
  },
  {
   "cell_type": "code",
   "execution_count": 6,
   "metadata": {},
   "outputs": [],
   "source": [
    "df = pd.read_csv(PATH/'train.csv')"
   ]
  },
  {
   "cell_type": "markdown",
   "metadata": {},
   "source": [
    "### Load a single image"
   ]
  },
  {
   "cell_type": "code",
   "execution_count": 153,
   "metadata": {},
   "outputs": [],
   "source": [
    "img_pixels = df.loc[7, [c for c in df.columns if c.startswith('pixel')]]\n",
    "img_arr = np.array([int(i) for i in img_pixels])\n",
    "img_arr = img_arr.reshape((28, 28))\n",
    "img_arr_float = img_arr / 255."
   ]
  },
  {
   "cell_type": "code",
   "execution_count": 155,
   "metadata": {},
   "outputs": [
    {
     "data": {
      "image/png": "[encoded data removed]",
      "text/plain": [
       "<Figure size 432x288 with 1 Axes>"
      ]
     },
     "metadata": {},
     "output_type": "display_data"
    }
   ],
   "source": [
    "plt.imshow(img_arr_float, cmap='gray')\n",
    "plt.show()"
   ]
  },
  {
   "cell_type": "code",
   "execution_count": 156,
   "metadata": {},
   "outputs": [],
   "source": [
    "img_arr_float = img_arr_float.reshape(1, 28, 28)\n",
    "img_tensor = torch.from_numpy(img_arr_float)\n",
    "img_tensor = img_tensor.unsqueeze(0).cpu().float()"
   ]
  },
  {
   "cell_type": "markdown",
   "metadata": {},
   "source": [
    "### Exploring new model"
   ]
  },
  {
   "cell_type": "markdown",
   "metadata": {},
   "source": [
    "I'll start by improving the model by adding 2 things:\n",
    "  1. Much more output channels in CNN, from 2 to 32 in the first layer and 2 to 64 in the second layer.\n",
    "  2. An extra fully-connected layer on the end.\n",
    "\n",
    "Let's make sure the outputs are as we expect:"
   ]
  },
  {
   "cell_type": "code",
   "execution_count": 157,
   "metadata": {},
   "outputs": [],
   "source": [
    "conv1 = nn.Conv2d(in_channels=1, out_channels=32, kernel_size=3, padding=1)\n",
    "conv2 = nn.Conv2d(in_channels=32, out_channels=64, kernel_size=3, padding=1)"
   ]
  },
  {
   "cell_type": "code",
   "execution_count": 172,
   "metadata": {},
   "outputs": [],
   "source": [
    "output = conv1(Variable(img_tensor))"
   ]
  },
  {
   "cell_type": "code",
   "execution_count": 173,
   "metadata": {},
   "outputs": [
    {
     "data": {
      "text/plain": [
       "torch.Size([1, 32, 28, 28])"
      ]
     },
     "execution_count": 173,
     "metadata": {},
     "output_type": "execute_result"
    }
   ],
   "source": [
    "output.shape"
   ]
  },
  {
   "cell_type": "markdown",
   "metadata": {},
   "source": [
    "Note how I've added 1 pixel of padding on both sides of the output.\n",
    "\n",
    "This means that the conv will return the same size image output, which is slightly easier to deal with. We then know that the Maxpool will return the size by half:"
   ]
  },
  {
   "cell_type": "code",
   "execution_count": 174,
   "metadata": {},
   "outputs": [],
   "source": [
    "output = F.max_pool2d(output, 2)"
   ]
  },
  {
   "cell_type": "code",
   "execution_count": 175,
   "metadata": {},
   "outputs": [
    {
     "data": {
      "text/plain": [
       "torch.Size([1, 32, 14, 14])"
      ]
     },
     "execution_count": 175,
     "metadata": {},
     "output_type": "execute_result"
    }
   ],
   "source": [
    "output.shape"
   ]
  },
  {
   "cell_type": "markdown",
   "metadata": {},
   "source": [
    "We are also adding Dropout. Let's explore what Dropout with 100% probability will look like.\n",
    "\n",
    "First, let's see the output image:"
   ]
  },
  {
   "cell_type": "code",
   "execution_count": 176,
   "metadata": {},
   "outputs": [
    {
     "data": {
      "text/plain": [
       "Variable containing:\n",
       "(0 ,.,.) = \n",
       "  2.1169e-01  2.1169e-01  2.1169e-01  ...   2.1169e-01  2.1169e-01  2.1169e-01\n",
       "  2.1169e-01  2.1169e-01  2.1169e-01  ...   2.1169e-01  2.1169e-01  2.1169e-01\n",
       "  2.1169e-01  2.1169e-01  2.1169e-01  ...   2.1169e-01  2.1169e-01  2.1169e-01\n",
       "                 ...                   ⋱                   ...                \n",
       "  2.1169e-01  2.1409e-01  2.3400e-01  ...   4.1716e-01  2.1169e-01  2.1169e-01\n",
       "  2.1169e-01  2.1169e-01  2.3423e-01  ...   2.1843e-01  2.1169e-01  2.1169e-01\n",
       "  2.1169e-01  2.1169e-01  2.1169e-01  ...   2.1169e-01  2.1169e-01  2.1169e-01\n",
       "\n",
       "(1 ,.,.) = \n",
       "  9.6191e-02  9.6191e-02  9.6191e-02  ...   9.6191e-02  9.6191e-02  9.6191e-02\n",
       "  9.6191e-02  9.6191e-02  9.6191e-02  ...   9.6191e-02  9.6191e-02  9.6191e-02\n",
       "  9.6191e-02  9.6191e-02  9.6191e-02  ...   9.6191e-02  9.6191e-02  9.6191e-02\n",
       "                 ...                   ⋱                   ...                \n",
       "  9.6191e-02  9.6191e-02  1.0339e-02  ...   1.2410e-01  9.6191e-02  9.6191e-02\n",
       "  9.6191e-02  9.6191e-02  9.6191e-02  ...   9.8780e-02  9.6191e-02  9.6191e-02\n",
       "  9.6191e-02  9.6191e-02  9.6191e-02  ...   9.6191e-02  9.6191e-02  9.6191e-02\n",
       "\n",
       "(2 ,.,.) = \n",
       " -2.1987e-01 -2.1987e-01 -2.1987e-01  ...  -2.1987e-01 -2.1987e-01 -2.1987e-01\n",
       " -2.1987e-01 -2.1987e-01 -2.1987e-01  ...  -2.1987e-01 -2.1987e-01 -2.1987e-01\n",
       " -2.1987e-01 -2.1987e-01 -2.1987e-01  ...  -2.1987e-01 -2.1987e-01 -2.1987e-01\n",
       "                 ...                   ⋱                   ...                \n",
       " -2.1987e-01 -2.1047e-01  1.9754e-01  ...  -2.1987e-01 -2.1987e-01 -2.1987e-01\n",
       " -2.1987e-01 -2.1987e-01 -1.3157e-01  ...  -2.1987e-01 -2.1987e-01 -2.1987e-01\n",
       " -2.1987e-01 -2.1987e-01 -2.1987e-01  ...  -2.1987e-01 -2.1987e-01 -2.1987e-01\n",
       "...\n",
       "\n",
       "(29,.,.) = \n",
       "  2.0226e-01  2.0226e-01  2.0226e-01  ...   2.0226e-01  2.0226e-01  2.0226e-01\n",
       "  2.0226e-01  2.0226e-01  2.0226e-01  ...   2.0226e-01  2.0226e-01  2.0226e-01\n",
       "  2.0226e-01  2.0226e-01  2.0226e-01  ...   2.0226e-01  2.0226e-01  2.0226e-01\n",
       "                 ...                   ⋱                   ...                \n",
       "  2.0226e-01  2.1132e-01  4.1036e-01  ...   2.8769e-01  2.0226e-01  2.0226e-01\n",
       "  2.0226e-01  2.0226e-01  2.8742e-01  ...   2.0525e-01  2.0226e-01  2.0226e-01\n",
       "  2.0226e-01  2.0226e-01  2.0226e-01  ...   2.0226e-01  2.0226e-01  2.0226e-01\n",
       "\n",
       "(30,.,.) = \n",
       "  1.3100e-01  1.3100e-01  1.3100e-01  ...   1.3100e-01  1.3100e-01  1.3100e-01\n",
       "  1.3100e-01  1.3100e-01  1.3100e-01  ...   1.3100e-01  1.3100e-01  1.3100e-01\n",
       "  1.3100e-01  1.3100e-01  1.3100e-01  ...   1.3100e-01  1.3100e-01  1.3100e-01\n",
       "                 ...                   ⋱                   ...                \n",
       "  1.3100e-01  1.3302e-01  1.4972e-01  ...   4.1116e-01  1.3100e-01  1.3100e-01\n",
       "  1.3100e-01  1.3100e-01  1.4992e-01  ...   1.3935e-01  1.3100e-01  1.3100e-01\n",
       "  1.3100e-01  1.3100e-01  1.3100e-01  ...   1.3100e-01  1.3100e-01  1.3100e-01\n",
       "\n",
       "(31,.,.) = \n",
       " -5.5982e-02 -5.5982e-02 -5.5982e-02  ...  -5.5982e-02 -5.5982e-02 -5.5982e-02\n",
       " -5.5982e-02 -5.5982e-02 -5.5982e-02  ...  -5.5982e-02 -5.5982e-02 -5.5982e-02\n",
       " -5.5982e-02 -5.5982e-02 -5.5982e-02  ...  -5.5982e-02 -5.5982e-02 -5.5982e-02\n",
       "                 ...                   ⋱                   ...                \n",
       " -5.5982e-02 -4.8172e-02  4.6473e-02  ...   7.0074e-02 -5.5982e-02 -5.5982e-02\n",
       " -5.5982e-02 -5.5982e-02  1.7430e-02  ...  -4.4968e-02 -5.5982e-02 -5.5982e-02\n",
       " -5.5982e-02 -5.5982e-02 -5.5982e-02  ...  -5.5982e-02 -5.5982e-02 -5.5982e-02\n",
       "[torch.FloatTensor of size 32x14x14]"
      ]
     },
     "execution_count": 176,
     "metadata": {},
     "output_type": "execute_result"
    }
   ],
   "source": [
    "output[0]"
   ]
  },
  {
   "cell_type": "markdown",
   "metadata": {},
   "source": [
    "Let's now create Dropout with 100% prob:"
   ]
  },
  {
   "cell_type": "code",
   "execution_count": 189,
   "metadata": {},
   "outputs": [],
   "source": [
    "dropout = nn.Dropout(p=1)"
   ]
  },
  {
   "cell_type": "code",
   "execution_count": 190,
   "metadata": {},
   "outputs": [],
   "source": [
    "dropout_output = dropout(output)"
   ]
  },
  {
   "cell_type": "code",
   "execution_count": 191,
   "metadata": {},
   "outputs": [
    {
     "data": {
      "text/plain": [
       "Variable containing:\n",
       "(0 ,.,.) = \n",
       "   0   0   0  ...    0   0   0\n",
       "   0   0   0  ...    0   0   0\n",
       "   0   0   0  ...    0   0   0\n",
       "     ...       ⋱       ...    \n",
       "   0   0   0  ...    0   0   0\n",
       "   0   0   0  ...    0   0   0\n",
       "   0   0   0  ...    0   0   0\n",
       "\n",
       "(1 ,.,.) = \n",
       "   0   0   0  ...    0   0   0\n",
       "   0   0   0  ...    0   0   0\n",
       "   0   0   0  ...    0   0   0\n",
       "     ...       ⋱       ...    \n",
       "   0   0   0  ...    0   0   0\n",
       "   0   0   0  ...    0   0   0\n",
       "   0   0   0  ...    0   0   0\n",
       "\n",
       "(2 ,.,.) = \n",
       "  -0  -0  -0  ...   -0  -0  -0\n",
       "  -0  -0  -0  ...   -0  -0  -0\n",
       "  -0  -0  -0  ...   -0  -0  -0\n",
       "     ...       ⋱       ...    \n",
       "  -0  -0   0  ...   -0  -0  -0\n",
       "  -0  -0  -0  ...   -0  -0  -0\n",
       "  -0  -0  -0  ...   -0  -0  -0\n",
       "...\n",
       "\n",
       "(29,.,.) = \n",
       "   0   0   0  ...    0   0   0\n",
       "   0   0   0  ...    0   0   0\n",
       "   0   0   0  ...    0   0   0\n",
       "     ...       ⋱       ...    \n",
       "   0   0   0  ...    0   0   0\n",
       "   0   0   0  ...    0   0   0\n",
       "   0   0   0  ...    0   0   0\n",
       "\n",
       "(30,.,.) = \n",
       "   0   0   0  ...    0   0   0\n",
       "   0   0   0  ...    0   0   0\n",
       "   0   0   0  ...    0   0   0\n",
       "     ...       ⋱       ...    \n",
       "   0   0   0  ...    0   0   0\n",
       "   0   0   0  ...    0   0   0\n",
       "   0   0   0  ...    0   0   0\n",
       "\n",
       "(31,.,.) = \n",
       "  -0  -0  -0  ...   -0  -0  -0\n",
       "  -0  -0  -0  ...   -0  -0  -0\n",
       "  -0  -0  -0  ...   -0  -0  -0\n",
       "     ...       ⋱       ...    \n",
       "  -0  -0   0  ...    0  -0  -0\n",
       "  -0  -0   0  ...   -0  -0  -0\n",
       "  -0  -0  -0  ...   -0  -0  -0\n",
       "[torch.FloatTensor of size 32x14x14]"
      ]
     },
     "execution_count": 191,
     "metadata": {},
     "output_type": "execute_result"
    }
   ],
   "source": [
    "dropout_output[0]"
   ]
  },
  {
   "cell_type": "markdown",
   "metadata": {},
   "source": [
    "Notice how all the activations are 0? What about 0.5?"
   ]
  },
  {
   "cell_type": "code",
   "execution_count": 192,
   "metadata": {},
   "outputs": [],
   "source": [
    "dropout = nn.Dropout(p=0.5)\n",
    "dropout_output = dropout(output)"
   ]
  },
  {
   "cell_type": "code",
   "execution_count": 193,
   "metadata": {},
   "outputs": [
    {
     "data": {
      "text/plain": [
       "Variable containing:\n",
       "(0 ,.,.) = \n",
       "  0.4234  0.4234  0.4234  ...   0.4234  0.0000  0.0000\n",
       "  0.4234  0.4234  0.4234  ...   0.0000  0.4234  0.0000\n",
       "  0.0000  0.0000  0.0000  ...   0.0000  0.4234  0.4234\n",
       "           ...             ⋱             ...          \n",
       "  0.4234  0.0000  0.0000  ...   0.8343  0.0000  0.4234\n",
       "  0.4234  0.4234  0.0000  ...   0.4369  0.4234  0.4234\n",
       "  0.0000  0.0000  0.0000  ...   0.0000  0.0000  0.4234\n",
       "\n",
       "(1 ,.,.) = \n",
       "  0.0000  0.1924  0.0000  ...   0.0000  0.1924  0.1924\n",
       "  0.1924  0.0000  0.1924  ...   0.0000  0.1924  0.1924\n",
       "  0.1924  0.1924  0.0000  ...   0.1924  0.0000  0.0000\n",
       "           ...             ⋱             ...          \n",
       "  0.1924  0.0000  0.0207  ...   0.0000  0.1924  0.0000\n",
       "  0.1924  0.1924  0.0000  ...   0.1976  0.0000  0.1924\n",
       "  0.1924  0.0000  0.0000  ...   0.0000  0.0000  0.0000\n",
       "\n",
       "(2 ,.,.) = \n",
       " -0.0000 -0.0000 -0.4397  ...  -0.4397 -0.0000 -0.0000\n",
       " -0.4397 -0.0000 -0.0000  ...  -0.0000 -0.0000 -0.4397\n",
       " -0.4397 -0.4397 -0.4397  ...  -0.0000 -0.0000 -0.4397\n",
       "           ...             ⋱             ...          \n",
       " -0.4397 -0.0000  0.3951  ...  -0.4397 -0.0000 -0.4397\n",
       " -0.0000 -0.0000 -0.2631  ...  -0.4397 -0.4397 -0.4397\n",
       " -0.0000 -0.0000 -0.0000  ...  -0.0000 -0.4397 -0.4397\n",
       "...\n",
       "\n",
       "(29,.,.) = \n",
       "  0.0000  0.4045  0.4045  ...   0.4045  0.0000  0.0000\n",
       "  0.0000  0.4045  0.4045  ...   0.0000  0.4045  0.0000\n",
       "  0.0000  0.4045  0.4045  ...   0.0000  0.4045  0.4045\n",
       "           ...             ⋱             ...          \n",
       "  0.4045  0.0000  0.8207  ...   0.5754  0.0000  0.4045\n",
       "  0.0000  0.4045  0.0000  ...   0.0000  0.4045  0.0000\n",
       "  0.0000  0.4045  0.4045  ...   0.0000  0.4045  0.0000\n",
       "\n",
       "(30,.,.) = \n",
       "  0.0000  0.0000  0.0000  ...   0.2620  0.2620  0.0000\n",
       "  0.0000  0.0000  0.2620  ...   0.2620  0.0000  0.0000\n",
       "  0.0000  0.0000  0.2620  ...   0.2620  0.2620  0.2620\n",
       "           ...             ⋱             ...          \n",
       "  0.0000  0.2660  0.0000  ...   0.0000  0.0000  0.0000\n",
       "  0.0000  0.2620  0.0000  ...   0.0000  0.0000  0.0000\n",
       "  0.2620  0.0000  0.2620  ...   0.0000  0.2620  0.2620\n",
       "\n",
       "(31,.,.) = \n",
       " -0.1120 -0.0000 -0.1120  ...  -0.1120 -0.0000 -0.0000\n",
       " -0.1120 -0.0000 -0.1120  ...  -0.0000 -0.0000 -0.1120\n",
       " -0.1120 -0.0000 -0.1120  ...  -0.1120 -0.1120 -0.0000\n",
       "           ...             ⋱             ...          \n",
       " -0.1120 -0.0000  0.0000  ...   0.1401 -0.0000 -0.1120\n",
       " -0.1120 -0.0000  0.0000  ...  -0.0899 -0.1120 -0.0000\n",
       " -0.0000 -0.0000 -0.0000  ...  -0.0000 -0.0000 -0.0000\n",
       "[torch.FloatTensor of size 32x14x14]"
      ]
     },
     "execution_count": 193,
     "metadata": {},
     "output_type": "execute_result"
    }
   ],
   "source": [
    "dropout_output[0]"
   ]
  },
  {
   "cell_type": "markdown",
   "metadata": {},
   "source": [
    "Now, 50% of the activations are dropped out."
   ]
  },
  {
   "cell_type": "code",
   "execution_count": 135,
   "metadata": {},
   "outputs": [],
   "source": [
    "class SimpleCNN(nn.Module):\n",
    "    def __init__(self, in_channels=1, p=0.5):\n",
    "        super(SimpleCNN, self).__init__()\n",
    "        \n",
    "        self.conv1 = nn.Conv2d(\n",
    "            in_channels=in_channels, out_channels=32, kernel_size=3, padding=1)\n",
    "       \n",
    "        self.conv2 = nn.Conv2d(\n",
    "            in_channels=32, out_channels=64, kernel_size=3, padding=1)\n",
    "        \n",
    "        self.conv2_dropout = nn.Dropout(p=p)\n",
    "\n",
    "        self.fc1 = nn.Linear(in_features=64 * 7 * 7, out_features=1024)\n",
    "        self.fc1_dropout = nn.Dropout(p=p)\n",
    "        self.fc2 = nn.Linear(in_features=1024, out_features=10)\n",
    "        \n",
    "    def forward(self, img_batch):\n",
    "        conv1_output = self.conv1(img_batch)\n",
    "        conv1_relu_output = F.relu(conv1_output)\n",
    "        maxpool1_output = F.max_pool2d(conv1_relu_output, kernel_size=2)\n",
    "        \n",
    "        conv2_output = self.conv2(maxpool1_output)\n",
    "        relu2_output = F.relu(conv2_output)\n",
    "        maxpool2_output = F.max_pool2d(relu2_output, kernel_size=2)\n",
    "        dropout2_output = self.conv2_dropout(maxpool2_output)\n",
    "        \n",
    "        flattened_output = dropout2_output.view(img_batch.size(0), -1)\n",
    "        \n",
    "        fc1_output = self.fc1(flattened_output)\n",
    "        fc1_relu_output = F.relu(fc1_output)\n",
    "        \n",
    "        fc1_dropout_output = self.fc1_dropout(fc1_relu_output)\n",
    "        fc2_output = self.fc2(fc1_dropout_output)\n",
    "        return F.log_softmax(fc2_output, dim=1)"
   ]
  },
  {
   "cell_type": "markdown",
   "metadata": {},
   "source": [
    "## Train with Fast.ai ConvLearner (no dropout)"
   ]
  },
  {
   "cell_type": "markdown",
   "metadata": {},
   "source": [
    "I can then create a ImageClassifierData object as usual, use the `from_model_data` constructor to create a `ConvLearner` from my custom model."
   ]
  },
  {
   "cell_type": "code",
   "execution_count": 15,
   "metadata": {},
   "outputs": [],
   "source": [
    "train_df = pd.read_csv(PATH/'train_prepared.csv')"
   ]
  },
  {
   "cell_type": "code",
   "execution_count": 16,
   "metadata": {},
   "outputs": [],
   "source": [
    "val_idx = get_cv_idxs(len(train_df))"
   ]
  },
  {
   "cell_type": "markdown",
   "metadata": {},
   "source": [
    "Let's start with a CNN that drops activations with a probability of 0% (ie no Dropout)."
   ]
  },
  {
   "cell_type": "code",
   "execution_count": 136,
   "metadata": {},
   "outputs": [],
   "source": [
    "cnn = SimpleCNN(in_channels=3, p=0.)"
   ]
  },
  {
   "cell_type": "code",
   "execution_count": 137,
   "metadata": {},
   "outputs": [
    {
     "data": {
      "text/plain": [
       "SimpleCNN(\n",
       "  (conv1): Conv2d(3, 32, kernel_size=(3, 3), stride=(1, 1), padding=(1, 1))\n",
       "  (conv2): Conv2d(32, 64, kernel_size=(3, 3), stride=(1, 1), padding=(1, 1))\n",
       "  (conv2_dropout): Dropout(p=0.0)\n",
       "  (fc1): Linear(in_features=3136, out_features=1024, bias=True)\n",
       "  (fc1_dropout): Dropout(p=0.0)\n",
       "  (fc2): Linear(in_features=1024, out_features=10, bias=True)\n",
       ")"
      ]
     },
     "execution_count": 137,
     "metadata": {},
     "output_type": "execute_result"
    }
   ],
   "source": [
    "cnn"
   ]
  },
  {
   "cell_type": "code",
   "execution_count": 138,
   "metadata": {},
   "outputs": [],
   "source": [
    "data = ImageClassifierData.from_csv(\n",
    "    PATH, 'train', PATH/'train_prepared.csv', tfms=tfms_from_model(cnn, 28), val_idxs=val_idx, suffix='.jpg')"
   ]
  },
  {
   "cell_type": "code",
   "execution_count": 139,
   "metadata": {},
   "outputs": [],
   "source": [
    "conv_learner = ConvLearner.from_model_data(cnn, data)"
   ]
  },
  {
   "cell_type": "code",
   "execution_count": 140,
   "metadata": {
    "scrolled": true
   },
   "outputs": [
    {
     "data": {
      "application/vnd.jupyter.widget-view+json": {
       "model_id": "65baf2d015de40f4bb07eeaed7f0ddb9",
       "version_major": 2,
       "version_minor": 0
      },
      "text/plain": [
       "HBox(children=(IntProgress(value=0, description='Epoch', max=1), HTML(value='')))"
      ]
     },
     "metadata": {},
     "output_type": "display_data"
    },
    {
     "name": "stdout",
     "output_type": "stream",
     "text": [
      " 71%|███████   | 374/525 [00:29<00:12, 12.53it/s, loss=1.13] "
     ]
    }
   ],
   "source": [
    "conv_learner.lr_find()"
   ]
  },
  {
   "cell_type": "code",
   "execution_count": 141,
   "metadata": {},
   "outputs": [
    {
     "data": {
      "image/png": "[encoded data removed]",
      "text/plain": [
       "<Figure size 432x288 with 1 Axes>"
      ]
     },
     "metadata": {},
     "output_type": "display_data"
    }
   ],
   "source": [
    "conv_learner.sched.plot()"
   ]
  },
  {
   "cell_type": "code",
   "execution_count": 29,
   "metadata": {},
   "outputs": [
    {
     "data": {
      "application/vnd.jupyter.widget-view+json": {
       "model_id": "e27c2a75b73b421093aa70b43f7f52e6",
       "version_major": 2,
       "version_minor": 0
      },
      "text/plain": [
       "HBox(children=(IntProgress(value=0, description='Epoch', max=10), HTML(value='')))"
      ]
     },
     "metadata": {},
     "output_type": "display_data"
    },
    {
     "name": "stdout",
     "output_type": "stream",
     "text": [
      "epoch      trn_loss   val_loss   accuracy                     \n",
      "    0      0.089397   0.112462   0.963333  \n",
      "    1      0.065815   0.067821   0.980595                     \n",
      "    2      0.041379   0.061611   0.981071                     \n",
      "    3      0.036552   0.074447   0.978214                     \n",
      "    4      0.036247   0.060566   0.985952                     \n",
      "    5      0.020039   0.048966   0.987976                     \n",
      "    6      0.034077   0.095807   0.977381                      \n",
      "    7      0.020217   0.057499   0.986071                     \n",
      "    8      0.021807   0.075542   0.985595                     \n",
      "    9      0.047973   0.133513   0.976548                     \n"
     ]
    },
    {
     "data": {
      "text/plain": [
       "[array([0.13351]), 0.976547619047619]"
      ]
     },
     "execution_count": 29,
     "metadata": {},
     "output_type": "execute_result"
    }
   ],
   "source": [
    "conv_learner.fit(0.05, 10)"
   ]
  },
  {
   "cell_type": "code",
   "execution_count": 101,
   "metadata": {},
   "outputs": [
    {
     "data": {
      "image/png": "[encoded data removed]",
      "text/plain": [
       "<Figure size 432x288 with 1 Axes>"
      ]
     },
     "metadata": {},
     "output_type": "display_data"
    }
   ],
   "source": [
    "epoch_num = list(range(conv_learner.sched.epoch))\n",
    "plt.plot(epoch_num, conv_learner.sched.val_losses, label='Validation loss')\n",
    "plt.plot(\n",
    "    epoch_num,\n",
    "    [conv_learner.sched.losses[i-1] for i in conv_learner.sched.epochs],\n",
    "    label='Training loss')\n",
    "\n",
    "plt.xlabel('Epoch')\n",
    "plt.ylabel('Loss')\n",
    "plt.legend(loc='upper right')\n",
    "\n",
    "plt.show()"
   ]
  },
  {
   "cell_type": "markdown",
   "metadata": {},
   "source": [
    "### Train with Dropout"
   ]
  },
  {
   "cell_type": "markdown",
   "metadata": {},
   "source": [
    "Let's add a bit of dropout. Set it initially to 0.4 and see if we can train a bit longer before we start to overfit."
   ]
  },
  {
   "cell_type": "code",
   "execution_count": 142,
   "metadata": {},
   "outputs": [],
   "source": [
    "cnn = SimpleCNN(in_channels=3, p=0.5)"
   ]
  },
  {
   "cell_type": "code",
   "execution_count": 143,
   "metadata": {},
   "outputs": [
    {
     "data": {
      "text/plain": [
       "SimpleCNN(\n",
       "  (conv1): Conv2d(3, 32, kernel_size=(3, 3), stride=(1, 1), padding=(1, 1))\n",
       "  (conv2): Conv2d(32, 64, kernel_size=(3, 3), stride=(1, 1), padding=(1, 1))\n",
       "  (conv2_dropout): Dropout(p=0.5)\n",
       "  (fc1): Linear(in_features=3136, out_features=1024, bias=True)\n",
       "  (fc1_dropout): Dropout(p=0.5)\n",
       "  (fc2): Linear(in_features=1024, out_features=10, bias=True)\n",
       ")"
      ]
     },
     "execution_count": 143,
     "metadata": {},
     "output_type": "execute_result"
    }
   ],
   "source": [
    "cnn"
   ]
  },
  {
   "cell_type": "code",
   "execution_count": 144,
   "metadata": {},
   "outputs": [],
   "source": [
    "conv_learner = ConvLearner.from_model_data(cnn, data)"
   ]
  },
  {
   "cell_type": "code",
   "execution_count": 145,
   "metadata": {},
   "outputs": [
    {
     "data": {
      "application/vnd.jupyter.widget-view+json": {
       "model_id": "17ace52b20894ec79198e4d8fa907879",
       "version_major": 2,
       "version_minor": 0
      },
      "text/plain": [
       "HBox(children=(IntProgress(value=0, description='Epoch', max=1), HTML(value='')))"
      ]
     },
     "metadata": {},
     "output_type": "display_data"
    },
    {
     "name": "stdout",
     "output_type": "stream",
     "text": [
      "epoch      trn_loss   val_loss   accuracy                    \n",
      "    0      2.480965   3.082173   0.111548  \n"
     ]
    }
   ],
   "source": [
    "conv_learner.lr_find()"
   ]
  },
  {
   "cell_type": "code",
   "execution_count": 146,
   "metadata": {},
   "outputs": [
    {
     "data": {
      "image/png": "[encoded data removed]",
      "text/plain": [
       "<Figure size 432x288 with 1 Axes>"
      ]
     },
     "metadata": {},
     "output_type": "display_data"
    }
   ],
   "source": [
    "conv_learner.sched.plot()"
   ]
  },
  {
   "cell_type": "code",
   "execution_count": 147,
   "metadata": {},
   "outputs": [
    {
     "data": {
      "application/vnd.jupyter.widget-view+json": {
       "model_id": "edb7a423a30b49d08a9a10f3973c9a20",
       "version_major": 2,
       "version_minor": 0
      },
      "text/plain": [
       "HBox(children=(IntProgress(value=0, description='Epoch', max=10), HTML(value='')))"
      ]
     },
     "metadata": {},
     "output_type": "display_data"
    },
    {
     "name": "stdout",
     "output_type": "stream",
     "text": [
      "epoch      trn_loss   val_loss   accuracy                    \n",
      "    0      0.135178   0.067422   0.98      \n",
      "    1      0.097621   0.054712   0.982976                     \n",
      "    2      0.080287   0.048799   0.984048                     \n",
      "    3      0.069733   0.040563   0.987381                     \n",
      "    4      0.05925    0.032146   0.989524                     \n",
      "    5      0.050756   0.034987   0.98869                      \n",
      "    6      0.048073   0.029558   0.99131                      \n",
      "    7      0.03602    0.028385   0.990833                     \n",
      "    8      0.036472   0.026458   0.991548                     \n",
      "    9      0.037791   0.027421   0.99119                      \n"
     ]
    },
    {
     "data": {
      "text/plain": [
       "[array([0.02742]), 0.9911904761904762]"
      ]
     },
     "execution_count": 147,
     "metadata": {},
     "output_type": "execute_result"
    }
   ],
   "source": [
    "conv_learner.fit(0.01, 10)"
   ]
  },
  {
   "cell_type": "code",
   "execution_count": 148,
   "metadata": {},
   "outputs": [
    {
     "data": {
      "image/png": "[encoded data removed]",
      "text/plain": [
       "<Figure size 432x288 with 1 Axes>"
      ]
     },
     "metadata": {},
     "output_type": "display_data"
    }
   ],
   "source": [
    "epoch_num = list(range(conv_learner.sched.epoch))\n",
    "plt.plot(epoch_num, conv_learner.sched.val_losses, label='Validation loss')\n",
    "plt.plot(\n",
    "    epoch_num,\n",
    "    [conv_learner.sched.losses[i-1] for i in conv_learner.sched.epochs],\n",
    "    label='Training loss')\n",
    "\n",
    "plt.xlabel('Epoch')\n",
    "plt.ylabel('Loss')\n",
    "plt.legend(loc='upper right')\n",
    "\n",
    "plt.show()"
   ]
  },
  {
   "cell_type": "markdown",
   "metadata": {},
   "source": [
    "### Evalute on the test set"
   ]
  },
  {
   "cell_type": "code",
   "execution_count": 200,
   "metadata": {},
   "outputs": [],
   "source": [
    "test_df = pd.read_csv(PATH/'test.csv')"
   ]
  },
  {
   "cell_type": "code",
   "execution_count": 201,
   "metadata": {},
   "outputs": [],
   "source": [
    "img_1 = test_df.loc[6, [c for c in df.columns if c.startswith('pixel')]]\n",
    "img_arr = np.array(img_1)\n",
    "img_arr = img_arr.reshape((28, 28))\n",
    "img_float = np.array(img_arr) * (1/255)\n",
    "img_float = np.stack((img_float,) * 3, axis=-1)\n",
    "img_float = img_float.transpose((2, 0, 1))\n",
    "img_tensor = torch.from_numpy(img_float)\n",
    "img_tensor = img_tensor.unsqueeze(0).cpu().float()"
   ]
  },
  {
   "cell_type": "code",
   "execution_count": 202,
   "metadata": {},
   "outputs": [],
   "source": [
    "preds = torch.exp(conv_learner.model(Variable(img_tensor)))"
   ]
  },
  {
   "cell_type": "code",
   "execution_count": 203,
   "metadata": {},
   "outputs": [
    {
     "data": {
      "text/plain": [
       "<matplotlib.image.AxesImage at 0x1c32570e48>"
      ]
     },
     "execution_count": 203,
     "metadata": {},
     "output_type": "execute_result"
    },
    {
     "data": {
      "image/png": "[encoded data removed]",
      "text/plain": [
       "<Figure size 432x288 with 1 Axes>"
      ]
     },
     "metadata": {},
     "output_type": "display_data"
    }
   ],
   "source": [
    "plt.imshow(img_arr, cmap='gray')"
   ]
  },
  {
   "cell_type": "code",
   "execution_count": 204,
   "metadata": {},
   "outputs": [
    {
     "data": {
      "text/plain": [
       "Variable containing:\n",
       " 0.9273  0.0032  0.0162  0.0028  0.0042  0.0016  0.0131  0.0046  0.0128  0.0142\n",
       "[torch.FloatTensor of size 1x10]"
      ]
     },
     "execution_count": 204,
     "metadata": {},
     "output_type": "execute_result"
    }
   ],
   "source": [
    "preds"
   ]
  },
  {
   "cell_type": "code",
   "execution_count": 205,
   "metadata": {},
   "outputs": [
    {
     "data": {
      "text/plain": [
       "0"
      ]
     },
     "execution_count": 205,
     "metadata": {},
     "output_type": "execute_result"
    }
   ],
   "source": [
    "np.argmax(torch.exp(preds.data).numpy())"
   ]
  }
 ],
 "metadata": {
  "kernelspec": {
   "display_name": "Python 3",
   "language": "python",
   "name": "python3"
  },
  "language_info": {
   "codemirror_mode": {
    "name": "ipython",
    "version": 3
   },
   "file_extension": ".py",
   "mimetype": "text/x-python",
   "name": "python",
   "nbconvert_exporter": "python",
   "pygments_lexer": "ipython3",
   "version": "3.6.6"
  }
 },
 "nbformat": 4,
 "nbformat_minor": 2
}
