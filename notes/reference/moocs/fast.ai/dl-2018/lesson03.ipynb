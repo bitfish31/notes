{
 "cells": [
  {
   "cell_type": "markdown",
   "metadata": {},
   "source": [
    "# Lesson 3"
   ]
  },
  {
   "cell_type": "code",
   "execution_count": 1,
   "metadata": {},
   "outputs": [],
   "source": [
    "# Put these at the top of every notebook to get automatic reloading and inline plotting\n",
    "%reload_ext autoreload\n",
    "%autoreload 2\n",
    "%matplotlib inline\n",
    "\n",
    "import math\n",
    "\n",
    "import matplotlib.pyplot as plt"
   ]
  },
  {
   "cell_type": "markdown",
   "metadata": {},
   "source": [
    "## 00:00:00 - Examples of students study materials\n",
    "\n",
    "* [AWS fastai GPU Image Setup](https://github.com/reshamas/fastai_deeplearn_part1/blob/master/tools/aws_ami_gpu_setup.md).\n",
    "* [tmux on AWS](https://github.com/reshamas/fastai_deeplearn_part1/blob/master/tools/tmux.md).\n",
    "* [Case Study: A world class image classifier for dogs and cats (err.., anything)](https://medium.com/@apiltamang/case-study-a-world-class-image-classifier-for-dogs-and-cats-err-anything-9cf39ee4690e)\n",
    "  * Summary of last lessons.\n",
    "* [Estimating an Optimal Learning Rate For a Deep Neural Network](https://towardsdatascience.com/estimating-optimal-learning-rate-for-a-deep-neural-network-ce32f2556ce0)\n",
    "* [A practitioner's guide to PyTorch](https://towardsdatascience.com/a-practitioners-guide-to-pytorch-1d0f6a238040)\n",
    "* [Visualizing Learning rate vs Batch size](https://miguel-data-sc.github.io/2017-11-05-first/)\n",
    "* [Do smoother areas of the error surface lead to better generalization?](https://medium.com/@radekosmulski/do-smoother-areas-of-the-error-surface-lead-to-better-generalization-b5f93b9edf5b)\n",
    "* [Convolutional Neural Network in 5 minutes](https://hackernoon.com/convolutional-neural-network-in-5-minutes-8f867eb9ca39)\n",
    "* [Decoding the ResNet architecture](http://teleported.in/posts/decoding-resnet-architecture/)\n",
    "\n",
    "* [Fast.AI beginner forum](http://forums.fast.ai/c/part1v2-beg)."
   ]
  },
  {
   "cell_type": "markdown",
   "metadata": {},
   "source": [
    "## 00:06:30 - Recap of lessons so far\n",
    "\n",
    "* So far looked at image classification and CNNs as a practitioner.\n",
    "* Going to look at CNN theory today.\n",
    "* Then, intro to CNN for structured data.\n",
    "* Language RNN intro.\n",
    "* Collaborative filtering intro.\n",
    "* Then a deep dive into those topics, basically in reverse."
   ]
  },
  {
   "cell_type": "markdown",
   "metadata": {},
   "source": [
    "## 00:08:30 - Review of previous week's assignment\n",
    "\n",
    "* Make sure you know how to download data (see [Kaggle API](https://github.com/Kaggle/kaggle-api)).\n",
    "  * Tip for just downloading the dataset you want: install [CurlWget](https://chrome.google.com/webstore/detail/curlwget/jmocjfidanebdlinpbcdkcmgdifblncg?hl=en).\n",
    "     * After starting a download, it stores all your headers and cookies needed to download something on the command-line.\n",
    "  * Can put the data anywhere and symlink to it in your project directory: `ln -s /some/path/to/data data/my-data`.\n",
    "  * Add `-l` flag to `ls` to show the symlink source.\n",
    "* Introduces `bn.freeze`: use if your images are very similar to ImageNet images.\n",
    "  * Causes the batch normalization moving averages to not be updated."
   ]
  },
  {
   "cell_type": "markdown",
   "metadata": {},
   "source": [
    "## 00:21:52 - Dogs and Cats in Keras/Tensorflow"
   ]
  },
  {
   "cell_type": "markdown",
   "metadata": {},
   "source": [
    "* See [notebook](https://github.com/fastai/fastai/blob/master/courses/dl1/keras_lesson1.ipynb) for walkthrough.\n",
    "* Had to first install [CUDA 9.0 (not 9.1)](https://stackoverflow.com/questions/42326748/tensorflow-on-gpu-no-known-devices-despite-cudas-devicequery-returning-a-pas)\n",
    "\n",
    "```\n",
    "sudo dpkg -i cuda-repo-ubuntu1604_9.0.176-1_amd64.deb\n",
    "sudo apt-key adv --fetch-keys \\\n",
    "     http://developer.download.nvidia.com/compute/cuda/repos/ubuntu1604/x86_64/7fa2af80.pub\n",
    "sudo apt-get update\n",
    "sudo apt-get install cuda-9-0\n",
    "```"
   ]
  },
  {
   "cell_type": "code",
   "execution_count": 2,
   "metadata": {},
   "outputs": [],
   "source": [
    "!pip install --quiet tensorflow-gpu==1.5.0 keras==2.1.4 h5py"
   ]
  },
  {
   "cell_type": "code",
   "execution_count": 3,
   "metadata": {},
   "outputs": [],
   "source": [
    "PATH = 'data/dogscats/'\n",
    "sz = 224\n",
    "batch_size = 64"
   ]
  },
  {
   "cell_type": "code",
   "execution_count": 4,
   "metadata": {},
   "outputs": [
    {
     "name": "stderr",
     "output_type": "stream",
     "text": [
      "/home/lex/anaconda3/envs/fastai/lib/python3.6/site-packages/h5py/__init__.py:36: FutureWarning: Conversion of the second argument of issubdtype from `float` to `np.floating` is deprecated. In future, it will be treated as `np.float64 == np.dtype(float).type`.\n",
      "  from ._conv import register_converters as _register_converters\n",
      "Using TensorFlow backend.\n"
     ]
    }
   ],
   "source": [
    "import numpy as np\n",
    "from keras.preprocessing.image import ImageDataGenerator\n",
    "from keras.preprocessing import image\n",
    "\n",
    "from keras.layers import Dropout, Flatten, Dense\n",
    "from keras.applications import ResNet50\n",
    "from keras.models import Model, Sequential\n",
    "from keras.layers import Dense, GlobalAveragePooling2D\n",
    "from keras import backend as K\n",
    "from keras.applications.resnet50 import preprocess_input\n",
    "import h5py"
   ]
  },
  {
   "cell_type": "code",
   "execution_count": 5,
   "metadata": {},
   "outputs": [],
   "source": [
    "train_data_dir = f'{PATH}train'\n",
    "val_data_dir = f'{PATH}valid'"
   ]
  },
  {
   "cell_type": "markdown",
   "metadata": {},
   "source": [
    "* Keras `ImageDataGenerator` expects image in a similar way to the `from_paths` method, with a folder per class.\n",
    "  * Can pass the types of data augmentation you want to do to the constructor."
   ]
  },
  {
   "cell_type": "code",
   "execution_count": 6,
   "metadata": {},
   "outputs": [
    {
     "name": "stdout",
     "output_type": "stream",
     "text": [
      "Found 23000 images belonging to 2 classes.\n",
      "Found 2000 images belonging to 2 classes.\n"
     ]
    }
   ],
   "source": [
    "train_datagen = ImageDataGenerator(\n",
    "    preprocessing_function=preprocess_input,\n",
    "    shear_range=0.2, zoom_range=0.2, horizontal_flip=True)\n",
    "\n",
    "test_datagen = ImageDataGenerator(preprocessing_function=preprocess_input)\n",
    "\n",
    "train_generator = train_datagen.flow_from_directory(\n",
    "    train_data_dir, target_size=(sz, sz), batch_size=batch_size,\n",
    "    class_mode='binary')\n",
    "\n",
    "validation_generator = test_datagen.flow_from_directory(\n",
    "    val_data_dir, shuffle=False, target_size=(sz, sz),\n",
    "    batch_size=batch_size, class_mode='binary')"
   ]
  },
  {
   "cell_type": "markdown",
   "metadata": {},
   "source": [
    "* Keras tends to need more lines to achieve similar results to Fast.ai's library."
   ]
  },
  {
   "cell_type": "code",
   "execution_count": 7,
   "metadata": {},
   "outputs": [],
   "source": [
    "base_model = ResNet50(weights='imagenet', include_top=False)\n",
    "x = base_model.output\n",
    "x = GlobalAveragePooling2D()(x)\n",
    "x = Dense(1024, activation='relu')(x)\n",
    "predictions = Dense(1, activation='sigmoid')(x)"
   ]
  },
  {
   "cell_type": "code",
   "execution_count": 8,
   "metadata": {},
   "outputs": [],
   "source": [
    "model = Model(inputs=base_model.input, outputs=predictions)\n",
    "for layer in base_model.layers: layer.trainable = False\n",
    "model.compile(optimizer='rmsprop', loss='binary_crossentropy', metrics=['accuracy'])"
   ]
  },
  {
   "cell_type": "code",
   "execution_count": 9,
   "metadata": {},
   "outputs": [
    {
     "name": "stdout",
     "output_type": "stream",
     "text": [
      "Epoch 1/3\n",
      "359/359 [==============================] - 197s 548ms/step - loss: 0.4403 - acc: 0.9325 - val_loss: 0.0492 - val_acc: 0.9859\n",
      "Epoch 2/3\n",
      "359/359 [==============================] - 193s 538ms/step - loss: 0.0800 - acc: 0.9713 - val_loss: 0.0700 - val_acc: 0.9830\n",
      "Epoch 3/3\n",
      "359/359 [==============================] - 193s 539ms/step - loss: 0.0708 - acc: 0.9752 - val_loss: 0.0756 - val_acc: 0.9824\n",
      "CPU times: user 15min 1s, sys: 31.2 s, total: 15min 32s\n",
      "Wall time: 9min 43s\n"
     ]
    },
    {
     "data": {
      "text/plain": [
       "<keras.callbacks.History at 0x7f89138e1518>"
      ]
     },
     "execution_count": 9,
     "metadata": {},
     "output_type": "execute_result"
    }
   ],
   "source": [
    "%%time\n",
    "model.fit_generator(\n",
    "    train_generator,\n",
    "    train_generator.n // batch_size,\n",
    "    epochs=3, workers=4, validation_data=validation_generator,\n",
    "    validation_steps=validation_generator.n // batch_size)"
   ]
  },
  {
   "cell_type": "markdown",
   "metadata": {},
   "source": [
    "* Unfreeze earlier layers and continue training:"
   ]
  },
  {
   "cell_type": "code",
   "execution_count": 10,
   "metadata": {},
   "outputs": [],
   "source": [
    "split_at = 140\n",
    "for layer in model.layers[:split_at]: layer.trainable = False\n",
    "for layer in model.layers[split_at:]: layer.trainable = True\n",
    "model.compile(optimizer='rmsprop', loss='binary_crossentropy', metrics=['accuracy'])"
   ]
  },
  {
   "cell_type": "code",
   "execution_count": 11,
   "metadata": {},
   "outputs": [
    {
     "name": "stdout",
     "output_type": "stream",
     "text": [
      "Epoch 1/1\n",
      "359/359 [==============================] - 239s 666ms/step - loss: 0.0794 - acc: 0.9738 - val_loss: 7.9354 - val_acc: 0.4990\n",
      "CPU times: user 5min 39s, sys: 21.5 s, total: 6min\n",
      "Wall time: 4min\n"
     ]
    },
    {
     "data": {
      "text/plain": [
       "<keras.callbacks.History at 0x7f8a144fb668>"
      ]
     },
     "execution_count": 11,
     "metadata": {},
     "output_type": "execute_result"
    }
   ],
   "source": [
    "%%time\n",
    "model.fit_generator(\n",
    "    train_generator,\n",
    "    train_generator.n // batch_size,\n",
    "    epochs=1, workers=4, validation_data=validation_generator,\n",
    "    validation_steps=validation_generator.n // batch_size)"
   ]
  },
  {
   "cell_type": "markdown",
   "metadata": {},
   "source": [
    "### 00:30:00 - Reasons to use Keras/TF over PyTorch\n",
    "\n",
    "* Deploying to mobile: PyTorch on mobile is early.\n",
    "* If you work for a company already using TF.\n",
    "  * Harder to get same state of the art results in Keras/TF, but doable.\n",
    "    * Have to reimplement SGDR.\n",
    "    * Have to implement differential learning rates and batch norm freezing."
   ]
  },
  {
   "cell_type": "markdown",
   "metadata": {},
   "source": [
    "## 00:32:08 - Revisit Dog Breeds\n",
    "\n",
    "## 00:32:45 - Submitting to Kaggle\n",
    "\n",
    "* For each competition, there's an evaluation page that tells you what to submit.\n",
    "* For dog breeds:\n",
    "  \n",
    "  \"\n",
    "  Submissions are evaluated on Multi Class Log Loss between the predicted probability and the   observed target.\n",
    "\n",
    "  Submission File\n",
    "  For each image in the test set, you must predict a probability for each of the different breeds. The file should contain a header and have the following format:\n",
    "\n",
    "  ```\n",
    "  id,affenpinscher,afghan_hound,..,yorkshire_terrier\n",
    "000621fb3cbb32d8935728e48679680e,0.0083,0.0,...,0.0083\n",
    "etc.\n",
    "   ```\n",
    "   \"\n",
    "   \n",
    "* Pass in `is_test=True` to TTA to use test data (need to pass the test data into the data class):\n",
    "  ```\n",
    "  log_preds, y = learn.TTA(is_test=True)\n",
    "  probs = np.mean(np.exp(log_preds), axis=0)\n",
    "  ```\n",
    "  \n",
    "* Can load it into a Pandas data frame as follows:\n",
    "\n",
    "  ```\n",
    "  df = pd.DataFrame(probs)\n",
    "  df.columns = data.classes\n",
    "  df.insert(0, 'id', [o[5:-4] for o in data.test_ds.fnames])\n",
    "  ```\n",
    "\n",
    "* Can save DataFrame as CSV:\n",
    "\n",
    "  ```\n",
    "  df.to_save('filename.gz', compression=gzip, index=False)\n",
    "  ```\n",
    "\n",
    "* Can use the `FileLink` function to download file from the notebook:\n",
    "\n",
    "  ```\n",
    "  from IPython.display import FileLink\n",
    "  FileLink('filename.gz')\n",
    "  ```"
   ]
  },
  {
   "cell_type": "markdown",
   "metadata": {},
   "source": [
    "* To make a prediction for a single file:\n",
    "\n",
    "  ```\n",
    "  trn_fms, val_tfms = tfms_from_model(arch, sz)\n",
    "  \n",
    "  ds = FilesIndexArrayDataset([fn], np.array([0]), val_tfms, PATH)\n",
    "  dl = DataLoader(ds)\n",
    "  preds = learn.predict_dl(dl)\n",
    "  np.argmax(preds)\n",
    "  ```\n",
    "  \n",
    "  * Shorter version:\n",
    "\n",
    "      ```\n",
    "      im = trn_tfms(Image.open(PATH + fn))\n",
    "      preds = learn.predict_array(im[None])\n",
    "      np.argmax(preds)\n",
    "      ```\n",
    "      \n",
    "      * Note that the image needs to be transformed first. `tfms_from_model` returns train and val transform function.\n",
    "      * Also, predict_array expects a mini-batch with an extra first axis, `im[None]` does that:"
   ]
  },
  {
   "cell_type": "code",
   "execution_count": 12,
   "metadata": {},
   "outputs": [
    {
     "name": "stdout",
     "output_type": "stream",
     "text": [
      "(3,)\n",
      "(1, 3)\n"
     ]
    }
   ],
   "source": [
    "arr = np.array([1,2,3])\n",
    "\n",
    "print(arr.shape)\n",
    "\n",
    "print(arr[None].shape)"
   ]
  },
  {
   "cell_type": "markdown",
   "metadata": {},
   "source": [
    "## 00:42:27 - CNN theory\n",
    "\n",
    "* Convolution is a matrix, which is used to perform a dot product on every section of an image, to generate a smaller image with some feature highlighted.\n",
    "  * Visual example from [Image Kernels Explained Visually](http://setosa.io/ev/image-kernels/) by Victor Powell.\n",
    "  \n",
    "### 00:43:19 - Visual CNN explanation by Otavio Good\n",
    "  \n",
    "<img src=\"https://i.gyazo.com/3ccfa8a6b50de7c202cba7eee3e6fbcb.gif\" width=\"400px\">\n",
    "\n",
    "* Otavio Good (creator of WordLens, now part of Google Translate) created a [visualisation of CNNs](https://youtu.be/Oqm9vsf_hvU?t=4m26s).\n",
    "\n",
    "1\\. Start by creating another matrix, which is the result of running a convolution over ever image block. The convolutions have been learned by the model, though in this example it's finding certain vertical edges or dark to light transitions.\n",
    "\n",
    "<img src=\"https://i.gyazo.com/28256a2824c3ca6d9e2c15a6e31150f2.gif\" width=\"400px\">\n",
    "\n",
    "2\\. Generate more matrices by doing the same thing against the source image using other filters.\n",
    "\n",
    "3\\. Put the generated matrices through your non-linearity, which is mostly `Relu`, which throws away the negatives:\n",
    "\n",
    "<img src=\"https://i.gyazo.com/e70ff6ad83cba34da614fe24637d825c.gif\" width=\"400px\">\n",
    "\n",
    "4\\. Next layer is a max pool. Which replaces every 2x2 grid with it's max pixel:\n",
    "\n",
    "<img src=\"https://i.gyazo.com/e3422914ec28aef61321f90e5e05da0b.gif\" width=\"400px\">\n",
    "\n",
    "5\\. Run all the generated layers through another set of filter, activations and max pool.\n",
    "\n",
    "6\\. For the layers returned, use the learned weights in the final layer to make final predictions:\n",
    "\n",
    "<img src=\"https://i.gyazo.com/d779619f2adad8e38f27f2184905b6b7.gif\" width=\"400px\">\n",
    "\n",
    "### 00:49:50 - Spreadsheet CNN explanation\n",
    "\n",
    "* Available as a Google Doc [here](https://docs.google.com/spreadsheets/d/1R1txOXd28BBIuSlYEBIj8YiM1AwhgIjtlFgKNQ15rsM).\n",
    "\n",
    "* Newer CNN architectures generally don't contain fully-connected final layers.\n",
    "  * VGG contains 2 fully-connected layers.\n",
    "  \n",
    "#### 01:05:27 - Audience questions\n",
    "\n",
    "* Question 1: What would a multi channel input look like?\n",
    "* Answer 1: You'd have a filter for each channel, that would be concatenated.\n",
    "  * Same principals apply to data with another dimension than channels.\n",
    "\n",
    "* Kernel values start with random values and SGD is used to find the optimial kernels."
   ]
  },
  {
   "cell_type": "markdown",
   "metadata": {},
   "source": [
    "### 01:08:46 - Final Layers\n",
    "\n",
    "* Final layers would require a set of weights for each possible class output.\n",
    "  * You'd perform a dot product against the output layers and those weights.\n",
    "  * You'd then have a set of numbers returned, one for each class:\n",
    "  \n",
    "     * cat = -1.83\n",
    "     * dog = 2.85\n",
    "     * plane = 3.86\n",
    "     * fish = 4.08\n",
    "     * building = 4.07\n",
    "  * Since they would be log values, you'd take the `exp` to remove any negatives:\n",
    "    * cat = ``math.exp(-1.83) = 0.16041356777517274``\n",
    "    * dog = ``math.exp(2.85) = 17.28778184056764``\n",
    "    * plane = ``math.exp(3.86) = 47.46535136885352``\n",
    "    * fish = ``math.exp(4.08) = 59.14546984988227``\n",
    "    * building = ``math.exp(4.07) = 58.556962591892386``\n",
    "  * Then run the softmax activation function to get their final values.\n",
    "\n",
    "  \n",
    "  \n",
    "### 01:12:00 - What's an Activation Function?\n",
    "\n",
    "* A function that's applied to activations.\n",
    "  * Always takes in 1 number and returns another number: `max(0, $some_activation)`\n",
    "* Why?\n",
    "  * If you were to stack a bunch of linear functions together, you'd end up with another linear function.\n",
    "  * By adding non-linearity, you can then approximate any type of function.\n",
    "* In Deep Learning activation function = non-linearity.\n",
    "\n",
    "### 01:14:08 - Softmax\n",
    "\n",
    "* Softmax activation has 2 probability-like properties that make it attractive for the last layer:\n",
    "  * All values sum to one.\n",
    "  * All values are between 0 and 1.\n",
    "  \n",
    "* Softmax is calculated as follows: `math.exp(output) / sum(math.exp(i) for i in all_outputs)`\n",
    "\n",
    "* Because you have calculated the `exp` value before the final calculation, it tends to emphasis larger values a lot.\n",
    "  * Final results tend to point to a single thing - making it not suitable for multilabel classification.\n",
    "  \n",
    "### 01:15:59 - Most important math for Deep Learning\n",
    "\n",
    "* Logarithms:\n",
    "  * `log(x * y) = log(x) + log(y)`\n",
    "  * `log(x/y) = log(x) - log(y)`\n",
    "  * `if log(x) == y then e**y == x`\n",
    "* Plotting logs:"
   ]
  },
  {
   "cell_type": "code",
   "execution_count": 17,
   "metadata": {},
   "outputs": [
    {
     "data": {
      "text/plain": [
       "[<matplotlib.lines.Line2D at 0x7f8913d54a90>]"
      ]
     },
     "execution_count": 17,
     "metadata": {},
     "output_type": "execute_result"
    },
    {
     "data": {
      "image/png": "[encoded data removed]",
      "text/plain": [
       "<Figure size 432x288 with 1 Axes>"
      ]
     },
     "metadata": {},
     "output_type": "display_data"
    }
   ],
   "source": [
    "plt.plot([math.log(i) for i in range(1, 1001)])"
   ]
  },
  {
   "cell_type": "markdown",
   "metadata": {},
   "source": [
    "* Plotting exp:"
   ]
  },
  {
   "cell_type": "code",
   "execution_count": 27,
   "metadata": {},
   "outputs": [
    {
     "data": {
      "text/plain": [
       "[<matplotlib.lines.Line2D at 0x7f8914232b00>]"
      ]
     },
     "execution_count": 27,
     "metadata": {},
     "output_type": "execute_result"
    },
    {
     "data": {
      "image/png": "[encoded data removed]",
      "text/plain": [
       "<Figure size 432x288 with 1 Axes>"
      ]
     },
     "metadata": {},
     "output_type": "display_data"
    }
   ],
   "source": [
    "plt.plot(range(-5, 5), [math.exp(i) for i in range(-5, 5)])"
   ]
  },
  {
   "cell_type": "markdown",
   "metadata": {},
   "source": [
    "## 01:20:25 - Revisit Planets competition\n",
    "\n",
    "* The planetary dataset has images with multilabel like `haze`, `water` etc.\n",
    "  * Since we want to predict multithings, softmax isn't so good.\n",
    "* Good practise to \"anthropomorphise your activations functions\":\n",
    "  * Softmax - \"I want to pick a single thing\"\n",
    "* Fast.AI knows what to do under the hood with multilabels.\n",
    "  * It will detect multilabel data and change the underlying activation function.\n",
    "\n",
    "### 01:25:25 - Data object attributes\n",
    "\n",
    "* Data object (`ImageClassifierData`) has these attributes:\n",
    "  * `val_ds` - Validation [Dataset](http://pytorch.org/docs/master/data.html#torch.utils.data.Dataset)\n",
    "    * Use to get a single image.\n",
    "  * `val_dl` - Validation [DataLoader](http://pytorch.org/docs/master/data.html#torch.utils.data.DataLoader)\n",
    "    * Use to get a transformed minibatch.\n",
    "* PyTorch is more Pythonic than Tensorflow, which \"reinvents the wheel\" a lot.\n",
    "\n",
    "### 01:41:17 - f2 metric\n",
    "\n",
    "* f beta function: how much do you weight false negatives vs false positives?\n",
    "* f2: `f beta with beta = 2`\n",
    "  * Used because that's what Planets used for the competition.\n",
    "  * Defined as follows:\n",
    "    ```\n",
    "    fbeta_score(targets, predictions, 2, average='samples')\n",
    "    ```\n",
    "    \n",
    "* Fast.ai design philosophy: get everything you probably want by default, but allow you to change it.\n",
    "\n",
    "### 01:44:24 - Sigmoid (multilabel activation function)\n",
    "\n",
    "* Similar to softmax, but doesn't divide the values by the sum.\n",
    "* It should return a number between 0 and 1.\n",
    "* Allows multiple things to be high.\n",
    "* On the last layer, it's calculated as `math.exp(activiation) / (1 + math.exp(activation))`.\n",
    "* Sigmoid math notation: ${\\displaystyle S(x)={\\frac {1}{1+e^{-x}}}={\\frac {e^{x}}{e^{x}+1}}.}$\n",
    "  * Shape:"
   ]
  },
  {
   "cell_type": "code",
   "execution_count": 32,
   "metadata": {},
   "outputs": [
    {
     "data": {
      "text/plain": [
       "[<matplotlib.lines.Line2D at 0x7f891441a0b8>]"
      ]
     },
     "execution_count": 32,
     "metadata": {},
     "output_type": "execute_result"
    },
    {
     "data": {
      "image/png": "[encoded data removed]",
      "text/plain": [
       "<Figure size 432x288 with 1 Axes>"
      ]
     },
     "metadata": {},
     "output_type": "display_data"
    }
   ],
   "source": [
    "sigmoid = lambda x: math.exp(x) / (1 + math.exp(x))\n",
    "plt.plot(range(-10, 10), [sigmoid(i) for i in range(-10, 10)])"
   ]
  },
  {
   "cell_type": "markdown",
   "metadata": {},
   "source": [
    "* used in Logistic Reg."
   ]
  },
  {
   "cell_type": "markdown",
   "metadata": {},
   "source": [
    "## 01:47:30 - Audience questions \n",
    "\n",
    "* Question 1: why only learn the last layer on the Planet dataset, given how different it is to ImageNet?\n",
    "* Answer 1: to ensure final layer weights aren't random when training earlier layers - they'll likely take longer to train otherwise.\n",
    "\n",
    "* Question 2: what is trained when you unfreeze earlier layers - the kernels?\n",
    "* Answer 2: Training in conv layers is training filters/kernels. Only FC layers have trainable weights.\n",
    "\n",
    "* Question 3: In example of training satellite images, how do you get an that's 64x64?\n",
    "* Answer 3: Depends on the transform. When using data augmentation, it takes a randomly choosen crop.\n",
    "\n",
    "* Question 4: Is the choice of metric different to the loss function?\n",
    "* Answer 4: Yes - loss function is covered next week. \n",
    "\n",
    "* Question 5: Multipass modelling, does the training have to be multiclass?\n",
    "* Answer 5: Might be possible.\n",
    "\n",
    "* Question 6: Differential learning rates: are they spread evenly across the layers?\n",
    "* Answer 6: Yes. It uses layer groups, which were hand picked by Jeremy.\n",
    "  * Last one always refers to the last layer.\n",
    "  * Can be overriden in the library.\n",
    "  \n",
    "* Question 7: How can you dump the layers of the model?\n",
    "* Answer 7:"
   ]
  },
  {
   "cell_type": "code",
   "execution_count": 8,
   "metadata": {},
   "outputs": [],
   "source": [
    "# Put these at the top of every notebook to get automatic reloading and inline plotting\n",
    "%reload_ext autoreload\n",
    "%autoreload 2\n",
    "%matplotlib inline\n",
    "\n",
    "import math\n",
    "\n",
    "import matplotlib.pyplot as plt\n",
    "\n",
    "from fastai.fastai.dataset import ImageClassifierData\n",
    "from fastai.fastai.conv_learner import ConvLearner\n",
    "from torchvision.models import resnet34\n",
    "from fastai.fastai.transforms import tfms_from_model"
   ]
  },
  {
   "cell_type": "code",
   "execution_count": 9,
   "metadata": {},
   "outputs": [],
   "source": [
    "PATH = 'data/dogscats/'\n",
    "arch = resnet34\n",
    "sz = 224\n",
    "batch_size = 64"
   ]
  },
  {
   "cell_type": "code",
   "execution_count": 16,
   "metadata": {},
   "outputs": [],
   "source": [
    "data = ImageClassifierData.from_paths(PATH, tfms=tfms_from_model(arch, sz), bs=batch_size)\n",
    "learn = ConvLearner.pretrained(arch, data, precompute=False)"
   ]
  },
  {
   "cell_type": "code",
   "execution_count": 18,
   "metadata": {},
   "outputs": [
    {
     "data": {
      "text/plain": [
       "array([[-0.20914, -1.66749],\n",
       "       [-0.1687 , -1.86279],\n",
       "       [-0.15854, -1.91996],\n",
       "       ...,\n",
       "       [-0.0468 , -3.08508],\n",
       "       [-0.24362, -1.53149],\n",
       "       [-0.09405, -2.41057]], dtype=float32)"
      ]
     },
     "execution_count": 18,
     "metadata": {},
     "output_type": "execute_result"
    }
   ],
   "source": [
    "# Need to run this first, apparently:\n",
    "# http://forums.fast.ai/t/understanding-code-error-expected-more-than-1-value-per-channel-when-training/9257/10\n",
    "learn.predict()"
   ]
  },
  {
   "cell_type": "code",
   "execution_count": 34,
   "metadata": {},
   "outputs": [
    {
     "name": "stdout",
     "output_type": "stream",
     "text": [
      "OrderedDict([('Conv2d-1',\n",
      "              OrderedDict([('input_shape', [-1, 3, 224, 224]),\n",
      "                           ('output_shape', [-1, 64, 112, 112]),\n",
      "                           ('trainable', False),\n",
      "                           ('nb_params', 9408)])),\n",
      "             ('BatchNorm2d-2',\n",
      "              OrderedDict([('input_shape', [-1, 64, 112, 112]),\n",
      "                           ('output_shape', [-1, 64, 112, 112]),\n",
      "                           ('trainable', False),\n",
      "                           ('nb_params', 128)])),\n",
      "             ('ReLU-3',\n",
      "              OrderedDict([('input_shape', [-1, 64, 112, 112]),\n",
      "                           ('output_shape', [-1, 64, 112, 112]),\n",
      "                           ('nb_params', 0)])),\n",
      "             ('MaxPool2d-4',\n",
      "              OrderedDict([('input_shape', [-1, 64, 112, 112]),\n",
      "                           ('output_shape', [-1, 64, 56, 56]),\n",
      "                           ('nb_params', 0)])),\n",
      "             ('Conv2d-5',\n",
      "              OrderedDict([('input_shape', [-1, 64, 56, \n"
     ]
    }
   ],
   "source": [
    "import pprint\n",
    "\n",
    "summary = learn.summary()\n",
    "\n",
    "# Print a sample of it:\n",
    "print(str(pprint.pformat(summary))[:1000])"
   ]
  },
  {
   "cell_type": "markdown",
   "metadata": {},
   "source": [
    "* Question 8: why was my plot empty when I ran lr_find?\n",
    "* Answer 8: if you have a tiny dataset, you can't get enough minibatches for lr_find."
   ]
  },
  {
   "cell_type": "markdown",
   "metadata": {},
   "source": [
    "## 01:59:47 - Intro to structured data\n",
    "\n",
    "* Academia mostly ignores structured data, because it's harder to share.\n",
    "* Couple of new imports:"
   ]
  },
  {
   "cell_type": "code",
   "execution_count": 37,
   "metadata": {},
   "outputs": [],
   "source": [
    "# Structures data library\n",
    "from fastai.fastai.structured import *\n",
    "\n",
    "# Columnar data library\n",
    "from fastai.fastai.column_data import *"
   ]
  },
  {
   "cell_type": "code",
   "execution_count": 38,
   "metadata": {},
   "outputs": [],
   "source": [
    "PATH = 'data/rossman/'"
   ]
  },
  {
   "cell_type": "markdown",
   "metadata": {},
   "source": [
    "* If you're not familiar with Pandas, checkout book called [Python for Data Analysis](https://www.amazon.com/Python-Data-Analysis-Wrangling-IPython/dp/1449319793).\n",
    "\n",
    "* Download Rossman dataset:"
   ]
  },
  {
   "cell_type": "code",
   "execution_count": 40,
   "metadata": {},
   "outputs": [
    {
     "name": "stdout",
     "output_type": "stream",
     "text": [
      "sample_submission.csv.zip: Downloaded 55KB of 55KB\n",
      "store.csv.zip: Downloaded 8KB of 8KB\n",
      "test.csv.zip: Downloaded 143KB of 143KB\n",
      "train.csv.zip: Downloaded 6MB of 6MB\n"
     ]
    }
   ],
   "source": [
    "!kaggle competitions download -c rossmann-store-sales --path='{PATH}'"
   ]
  },
  {
   "cell_type": "code",
   "execution_count": 42,
   "metadata": {},
   "outputs": [
    {
     "name": "stdout",
     "output_type": "stream",
     "text": [
      "total 6008\r\n",
      "-rw-rw-r-- 1 lex lex   56579 Apr  1 03:37 sample_submission.csv.zip\r\n",
      "-rw-rw-r-- 1 lex lex    8529 Apr  1 03:37 store.csv.zip\r\n",
      "-rw-rw-r-- 1 lex lex  146686 Apr  1 03:37 test.csv.zip\r\n",
      "-rw-rw-r-- 1 lex lex 5931096 Apr  1 03:37 train.csv.zip\r\n"
     ]
    }
   ],
   "source": [
    "!ls -l {PATH}"
   ]
  },
  {
   "cell_type": "code",
   "execution_count": 45,
   "metadata": {},
   "outputs": [],
   "source": [
    "for file in os.listdir(PATH):\n",
    "    if not file.endswith('zip'):\n",
    "        continue\n",
    "        \n",
    "    !unzip -q -d {PATH} {PATH}{file}"
   ]
  },
  {
   "cell_type": "markdown",
   "metadata": {},
   "source": [
    "* Also download external datasets provided by Kaggle participants:"
   ]
  },
  {
   "cell_type": "code",
   "execution_count": 46,
   "metadata": {},
   "outputs": [
    {
     "name": "stdout",
     "output_type": "stream",
     "text": [
      "--2018-04-01 03:41:50--  http://files.fast.ai/part2/lesson14/rossmann.tgz\n",
      "Resolving files.fast.ai (files.fast.ai)... 67.205.15.147\n",
      "Connecting to files.fast.ai (files.fast.ai)|67.205.15.147|:80... connected.\n",
      "HTTP request sent, awaiting response... 200 OK\n",
      "Length: 7730448 (7.4M) [text/plain]\n",
      "Saving to: ‘data/rossman/rossmann.tgz’\n",
      "\n",
      "rossmann.tgz        100%[===================>]   7.37M   294KB/s    in 23s     \n",
      "\n",
      "2018-04-01 03:42:13 (326 KB/s) - ‘data/rossman/rossmann.tgz’ saved [7730448/7730448]\n",
      "\n"
     ]
    }
   ],
   "source": [
    "!wget http://files.fast.ai/part2/lesson14/rossmann.tgz --directory-prefix={PATH}"
   ]
  },
  {
   "cell_type": "code",
   "execution_count": 48,
   "metadata": {},
   "outputs": [
    {
     "name": "stdout",
     "output_type": "stream",
     "text": [
      "googletrend.csv\n",
      "sample_submission.csv\n",
      "state_names.csv\n",
      "store.csv\n",
      "store_states.csv\n",
      "test.csv\n",
      "train.csv\n",
      "weather.csv\n"
     ]
    }
   ],
   "source": [
    "!tar -zxvf {PATH}rossmann.tgz -C {PATH}"
   ]
  },
  {
   "cell_type": "code",
   "execution_count": null,
   "metadata": {},
   "outputs": [],
   "source": []
  }
 ],
 "metadata": {
  "kernelspec": {
   "display_name": "Python 3",
   "language": "python",
   "name": "python3"
  },
  "language_info": {
   "codemirror_mode": {
    "name": "ipython",
    "version": 3
   },
   "file_extension": ".py",
   "mimetype": "text/x-python",
   "name": "python",
   "nbconvert_exporter": "python",
   "pygments_lexer": "ipython3",
   "version": "3.6.5"
  }
 },
 "nbformat": 4,
 "nbformat_minor": 2
}
