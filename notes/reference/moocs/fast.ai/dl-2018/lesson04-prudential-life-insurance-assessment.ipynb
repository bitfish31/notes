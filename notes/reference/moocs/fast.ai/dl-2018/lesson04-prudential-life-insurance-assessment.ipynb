{
 "cells": [
  {
   "cell_type": "markdown",
   "metadata": {},
   "source": [
    "# Prudential Life Insurance Assessment\n",
    "\n",
    "An example of the structured data lessons from Lesson 4 on another dataset."
   ]
  },
  {
   "cell_type": "code",
   "execution_count": 1,
   "metadata": {},
   "outputs": [],
   "source": [
    "%reload_ext autoreload\n",
    "%autoreload 2\n",
    "%matplotlib inline\n",
    "\n",
    "import os\n",
    "from pathlib import Path\n",
    "import pandas as pd\n",
    "import numpy as np\n",
    "\n",
    "import torch\n",
    "from torch import nn\n",
    "import torch.nn.functional as F\n",
    "from fastai import structured\n",
    "from fastai.column_data import ColumnarModelData\n",
    "from fastai.dataset import get_cv_idxs\n",
    "from sklearn.metrics import cohen_kappa_score\n",
    "from ml_metrics import quadratic_weighted_kappa\n",
    "from torch.nn.init import kaiming_uniform, kaiming_normal"
   ]
  },
  {
   "cell_type": "code",
   "execution_count": 2,
   "metadata": {},
   "outputs": [],
   "source": [
    "PATH = Path('./data/prudential')\n",
    "PATH.mkdir(exist_ok=True)"
   ]
  },
  {
   "cell_type": "markdown",
   "metadata": {},
   "source": [
    "## Download dataset"
   ]
  },
  {
   "cell_type": "code",
   "execution_count": 6,
   "metadata": {},
   "outputs": [
    {
     "name": "stdout",
     "output_type": "stream",
     "text": [
      "Warning: Looks like you're using an outdated API Version, please consider updating (server 1.4.4 / client 1.4.3)\n",
      "Downloading sample_submission.csv.zip to data/prudential\n",
      "  0%|                                               | 0.00/24.9k [00:00<?, ?B/s]\n",
      "100%|███████████████████████████████████████| 24.9k/24.9k [00:00<00:00, 948kB/s]\n",
      "Downloading test.csv.zip to data/prudential\n",
      " 98%|█████████████████████████████████████ | 1.00M/1.02M [00:00<00:00, 1.40MB/s]\n",
      "100%|██████████████████████████████████████| 1.02M/1.02M [00:00<00:00, 1.40MB/s]\n",
      "Downloading train.csv.zip to data/prudential\n",
      " 97%|████████████████████████████████████▋ | 3.00M/3.10M [00:02<00:00, 1.46MB/s]\n",
      "100%|██████████████████████████████████████| 3.10M/3.10M [00:02<00:00, 1.47MB/s]\n"
     ]
    }
   ],
   "source": [
    "!kaggle competitions download -c prudential-life-insurance-assessment --path={PATH}"
   ]
  },
  {
   "cell_type": "code",
   "execution_count": 10,
   "metadata": {},
   "outputs": [],
   "source": [
    "for file in os.listdir(PATH):\n",
    "    if not file.endswith('zip'):\n",
    "        continue\n",
    "        \n",
    "    !unzip -q -d {PATH} {PATH}/{file}"
   ]
  },
  {
   "cell_type": "code",
   "execution_count": 3,
   "metadata": {},
   "outputs": [],
   "source": [
    "train_df = pd.read_csv(PATH/'train.csv')"
   ]
  },
  {
   "cell_type": "code",
   "execution_count": 4,
   "metadata": {},
   "outputs": [
    {
     "data": {
      "text/html": [
       "<div>\n",
       "<style scoped>\n",
       "    .dataframe tbody tr th:only-of-type {\n",
       "        vertical-align: middle;\n",
       "    }\n",
       "\n",
       "    .dataframe tbody tr th {\n",
       "        vertical-align: top;\n",
       "    }\n",
       "\n",
       "    .dataframe thead th {\n",
       "        text-align: right;\n",
       "    }\n",
       "</style>\n",
       "<table border=\"1\" class=\"dataframe\">\n",
       "  <thead>\n",
       "    <tr style=\"text-align: right;\">\n",
       "      <th></th>\n",
       "      <th>Id</th>\n",
       "      <th>Product_Info_1</th>\n",
       "      <th>Product_Info_2</th>\n",
       "      <th>Product_Info_3</th>\n",
       "      <th>Product_Info_4</th>\n",
       "      <th>Product_Info_5</th>\n",
       "      <th>Product_Info_6</th>\n",
       "      <th>Product_Info_7</th>\n",
       "      <th>Ins_Age</th>\n",
       "      <th>Ht</th>\n",
       "      <th>...</th>\n",
       "      <th>Medical_Keyword_40</th>\n",
       "      <th>Medical_Keyword_41</th>\n",
       "      <th>Medical_Keyword_42</th>\n",
       "      <th>Medical_Keyword_43</th>\n",
       "      <th>Medical_Keyword_44</th>\n",
       "      <th>Medical_Keyword_45</th>\n",
       "      <th>Medical_Keyword_46</th>\n",
       "      <th>Medical_Keyword_47</th>\n",
       "      <th>Medical_Keyword_48</th>\n",
       "      <th>Response</th>\n",
       "    </tr>\n",
       "  </thead>\n",
       "  <tbody>\n",
       "    <tr>\n",
       "      <th>0</th>\n",
       "      <td>2</td>\n",
       "      <td>1</td>\n",
       "      <td>D3</td>\n",
       "      <td>10</td>\n",
       "      <td>0.076923</td>\n",
       "      <td>2</td>\n",
       "      <td>1</td>\n",
       "      <td>1</td>\n",
       "      <td>0.641791</td>\n",
       "      <td>0.581818</td>\n",
       "      <td>...</td>\n",
       "      <td>0</td>\n",
       "      <td>0</td>\n",
       "      <td>0</td>\n",
       "      <td>0</td>\n",
       "      <td>0</td>\n",
       "      <td>0</td>\n",
       "      <td>0</td>\n",
       "      <td>0</td>\n",
       "      <td>0</td>\n",
       "      <td>8</td>\n",
       "    </tr>\n",
       "    <tr>\n",
       "      <th>1</th>\n",
       "      <td>5</td>\n",
       "      <td>1</td>\n",
       "      <td>A1</td>\n",
       "      <td>26</td>\n",
       "      <td>0.076923</td>\n",
       "      <td>2</td>\n",
       "      <td>3</td>\n",
       "      <td>1</td>\n",
       "      <td>0.059701</td>\n",
       "      <td>0.600000</td>\n",
       "      <td>...</td>\n",
       "      <td>0</td>\n",
       "      <td>0</td>\n",
       "      <td>0</td>\n",
       "      <td>0</td>\n",
       "      <td>0</td>\n",
       "      <td>0</td>\n",
       "      <td>0</td>\n",
       "      <td>0</td>\n",
       "      <td>0</td>\n",
       "      <td>4</td>\n",
       "    </tr>\n",
       "    <tr>\n",
       "      <th>2</th>\n",
       "      <td>6</td>\n",
       "      <td>1</td>\n",
       "      <td>E1</td>\n",
       "      <td>26</td>\n",
       "      <td>0.076923</td>\n",
       "      <td>2</td>\n",
       "      <td>3</td>\n",
       "      <td>1</td>\n",
       "      <td>0.029851</td>\n",
       "      <td>0.745455</td>\n",
       "      <td>...</td>\n",
       "      <td>0</td>\n",
       "      <td>0</td>\n",
       "      <td>0</td>\n",
       "      <td>0</td>\n",
       "      <td>0</td>\n",
       "      <td>0</td>\n",
       "      <td>0</td>\n",
       "      <td>0</td>\n",
       "      <td>0</td>\n",
       "      <td>8</td>\n",
       "    </tr>\n",
       "    <tr>\n",
       "      <th>3</th>\n",
       "      <td>7</td>\n",
       "      <td>1</td>\n",
       "      <td>D4</td>\n",
       "      <td>10</td>\n",
       "      <td>0.487179</td>\n",
       "      <td>2</td>\n",
       "      <td>3</td>\n",
       "      <td>1</td>\n",
       "      <td>0.164179</td>\n",
       "      <td>0.672727</td>\n",
       "      <td>...</td>\n",
       "      <td>0</td>\n",
       "      <td>0</td>\n",
       "      <td>0</td>\n",
       "      <td>0</td>\n",
       "      <td>0</td>\n",
       "      <td>0</td>\n",
       "      <td>0</td>\n",
       "      <td>0</td>\n",
       "      <td>0</td>\n",
       "      <td>8</td>\n",
       "    </tr>\n",
       "    <tr>\n",
       "      <th>4</th>\n",
       "      <td>8</td>\n",
       "      <td>1</td>\n",
       "      <td>D2</td>\n",
       "      <td>26</td>\n",
       "      <td>0.230769</td>\n",
       "      <td>2</td>\n",
       "      <td>3</td>\n",
       "      <td>1</td>\n",
       "      <td>0.417910</td>\n",
       "      <td>0.654545</td>\n",
       "      <td>...</td>\n",
       "      <td>0</td>\n",
       "      <td>0</td>\n",
       "      <td>0</td>\n",
       "      <td>0</td>\n",
       "      <td>0</td>\n",
       "      <td>0</td>\n",
       "      <td>0</td>\n",
       "      <td>0</td>\n",
       "      <td>0</td>\n",
       "      <td>8</td>\n",
       "    </tr>\n",
       "  </tbody>\n",
       "</table>\n",
       "<p>5 rows × 128 columns</p>\n",
       "</div>"
      ],
      "text/plain": [
       "   Id  Product_Info_1 Product_Info_2  Product_Info_3  Product_Info_4  \\\n",
       "0   2               1             D3              10        0.076923   \n",
       "1   5               1             A1              26        0.076923   \n",
       "2   6               1             E1              26        0.076923   \n",
       "3   7               1             D4              10        0.487179   \n",
       "4   8               1             D2              26        0.230769   \n",
       "\n",
       "   Product_Info_5  Product_Info_6  Product_Info_7   Ins_Age        Ht  \\\n",
       "0               2               1               1  0.641791  0.581818   \n",
       "1               2               3               1  0.059701  0.600000   \n",
       "2               2               3               1  0.029851  0.745455   \n",
       "3               2               3               1  0.164179  0.672727   \n",
       "4               2               3               1  0.417910  0.654545   \n",
       "\n",
       "     ...     Medical_Keyword_40  Medical_Keyword_41  Medical_Keyword_42  \\\n",
       "0    ...                      0                   0                   0   \n",
       "1    ...                      0                   0                   0   \n",
       "2    ...                      0                   0                   0   \n",
       "3    ...                      0                   0                   0   \n",
       "4    ...                      0                   0                   0   \n",
       "\n",
       "   Medical_Keyword_43  Medical_Keyword_44  Medical_Keyword_45  \\\n",
       "0                   0                   0                   0   \n",
       "1                   0                   0                   0   \n",
       "2                   0                   0                   0   \n",
       "3                   0                   0                   0   \n",
       "4                   0                   0                   0   \n",
       "\n",
       "   Medical_Keyword_46  Medical_Keyword_47  Medical_Keyword_48  Response  \n",
       "0                   0                   0                   0         8  \n",
       "1                   0                   0                   0         4  \n",
       "2                   0                   0                   0         8  \n",
       "3                   0                   0                   0         8  \n",
       "4                   0                   0                   0         8  \n",
       "\n",
       "[5 rows x 128 columns]"
      ]
     },
     "execution_count": 4,
     "metadata": {},
     "output_type": "execute_result"
    }
   ],
   "source": [
    "train_df.head()"
   ]
  },
  {
   "cell_type": "markdown",
   "metadata": {},
   "source": [
    "Extra feature engineering taken from the forum"
   ]
  },
  {
   "cell_type": "code",
   "execution_count": 5,
   "metadata": {},
   "outputs": [],
   "source": [
    "train_df['Product_Info_2_char'] = train_df.Product_Info_2.str[0]\n",
    "train_df['Product_Info_2_num'] = train_df.Product_Info_2.str[1]\n",
    "train_df['BMI_Age'] = train_df['BMI'] * train_df['Ins_Age']\n",
    "med_keyword_columns = train_df.columns[train_df.columns.str.startswith('Medical_Keyword_')]\n",
    "train_df['Med_Keywords_Count'] = train_df[med_keyword_columns].sum(axis=1)\n",
    "train_df['num_na'] = train_df.apply(lambda x: sum(x.isnull()), 1)"
   ]
  },
  {
   "cell_type": "code",
   "execution_count": 6,
   "metadata": {},
   "outputs": [],
   "source": [
    "categorical_columns = 'Product_Info_1, Product_Info_2, Product_Info_3, Product_Info_5, Product_Info_6, Product_Info_7, Employment_Info_2, Employment_Info_3, Employment_Info_5, InsuredInfo_1, InsuredInfo_2, InsuredInfo_3, InsuredInfo_4, InsuredInfo_5, InsuredInfo_6, InsuredInfo_7, Insurance_History_1, Insurance_History_2, Insurance_History_3, Insurance_History_4, Insurance_History_7, Insurance_History_8, Insurance_History_9, Family_Hist_1, Medical_History_2, Medical_History_3, Medical_History_4, Medical_History_5, Medical_History_6, Medical_History_7, Medical_History_8, Medical_History_9, Medical_History_11, Medical_History_12, Medical_History_13, Medical_History_14, Medical_History_16, Medical_History_17, Medical_History_18, Medical_History_19, Medical_History_20, Medical_History_21, Medical_History_22, Medical_History_23, Medical_History_25, Medical_History_26, Medical_History_27, Medical_History_28, Medical_History_29, Medical_History_30, Medical_History_31, Medical_History_33, Medical_History_34, Medical_History_35, Medical_History_36, Medical_History_37, Medical_History_38, Medical_History_39, Medical_History_40, Medical_History_41'.split(', ')"
   ]
  },
  {
   "cell_type": "code",
   "execution_count": 7,
   "metadata": {},
   "outputs": [],
   "source": [
    "categorical_columns += ['Product_Info_2_char', 'Product_Info_2_num']"
   ]
  },
  {
   "cell_type": "code",
   "execution_count": 8,
   "metadata": {},
   "outputs": [],
   "source": [
    "cont_columns = 'Product_Info_4, Ins_Age, Ht, Wt, BMI, Employment_Info_1, Employment_Info_4, Employment_Info_6, Insurance_History_5, Family_Hist_2, Family_Hist_3, Family_Hist_4, Family_Hist_5, Medical_History_1, Medical_History_10, Medical_History_15, Medical_History_24, Medical_History_32'.split(', ')"
   ]
  },
  {
   "cell_type": "code",
   "execution_count": 9,
   "metadata": {},
   "outputs": [],
   "source": [
    "cont_columns += [c for c in train_df.columns if c.startswith('Medical_Keyword_')] + ['BMI_Age', 'Med_Keywords_Count', 'num_na']"
   ]
  },
  {
   "cell_type": "code",
   "execution_count": 10,
   "metadata": {},
   "outputs": [
    {
     "data": {
      "text/html": [
       "<div>\n",
       "<style scoped>\n",
       "    .dataframe tbody tr th:only-of-type {\n",
       "        vertical-align: middle;\n",
       "    }\n",
       "\n",
       "    .dataframe tbody tr th {\n",
       "        vertical-align: top;\n",
       "    }\n",
       "\n",
       "    .dataframe thead th {\n",
       "        text-align: right;\n",
       "    }\n",
       "</style>\n",
       "<table border=\"1\" class=\"dataframe\">\n",
       "  <thead>\n",
       "    <tr style=\"text-align: right;\">\n",
       "      <th></th>\n",
       "      <th>Product_Info_1</th>\n",
       "      <th>Product_Info_2</th>\n",
       "      <th>Product_Info_3</th>\n",
       "      <th>Product_Info_5</th>\n",
       "      <th>Product_Info_6</th>\n",
       "      <th>Product_Info_7</th>\n",
       "      <th>Employment_Info_2</th>\n",
       "      <th>Employment_Info_3</th>\n",
       "      <th>Employment_Info_5</th>\n",
       "      <th>InsuredInfo_1</th>\n",
       "      <th>...</th>\n",
       "      <th>Medical_History_34</th>\n",
       "      <th>Medical_History_35</th>\n",
       "      <th>Medical_History_36</th>\n",
       "      <th>Medical_History_37</th>\n",
       "      <th>Medical_History_38</th>\n",
       "      <th>Medical_History_39</th>\n",
       "      <th>Medical_History_40</th>\n",
       "      <th>Medical_History_41</th>\n",
       "      <th>Product_Info_2_char</th>\n",
       "      <th>Product_Info_2_num</th>\n",
       "    </tr>\n",
       "  </thead>\n",
       "  <tbody>\n",
       "    <tr>\n",
       "      <th>0</th>\n",
       "      <td>1</td>\n",
       "      <td>D3</td>\n",
       "      <td>10</td>\n",
       "      <td>2</td>\n",
       "      <td>1</td>\n",
       "      <td>1</td>\n",
       "      <td>12</td>\n",
       "      <td>1</td>\n",
       "      <td>3</td>\n",
       "      <td>1</td>\n",
       "      <td>...</td>\n",
       "      <td>3</td>\n",
       "      <td>1</td>\n",
       "      <td>2</td>\n",
       "      <td>2</td>\n",
       "      <td>1</td>\n",
       "      <td>3</td>\n",
       "      <td>3</td>\n",
       "      <td>3</td>\n",
       "      <td>D</td>\n",
       "      <td>3</td>\n",
       "    </tr>\n",
       "    <tr>\n",
       "      <th>1</th>\n",
       "      <td>1</td>\n",
       "      <td>A1</td>\n",
       "      <td>26</td>\n",
       "      <td>2</td>\n",
       "      <td>3</td>\n",
       "      <td>1</td>\n",
       "      <td>1</td>\n",
       "      <td>3</td>\n",
       "      <td>2</td>\n",
       "      <td>1</td>\n",
       "      <td>...</td>\n",
       "      <td>1</td>\n",
       "      <td>1</td>\n",
       "      <td>2</td>\n",
       "      <td>2</td>\n",
       "      <td>1</td>\n",
       "      <td>3</td>\n",
       "      <td>3</td>\n",
       "      <td>1</td>\n",
       "      <td>A</td>\n",
       "      <td>1</td>\n",
       "    </tr>\n",
       "    <tr>\n",
       "      <th>2</th>\n",
       "      <td>1</td>\n",
       "      <td>E1</td>\n",
       "      <td>26</td>\n",
       "      <td>2</td>\n",
       "      <td>3</td>\n",
       "      <td>1</td>\n",
       "      <td>9</td>\n",
       "      <td>1</td>\n",
       "      <td>2</td>\n",
       "      <td>1</td>\n",
       "      <td>...</td>\n",
       "      <td>3</td>\n",
       "      <td>1</td>\n",
       "      <td>3</td>\n",
       "      <td>2</td>\n",
       "      <td>1</td>\n",
       "      <td>3</td>\n",
       "      <td>3</td>\n",
       "      <td>1</td>\n",
       "      <td>E</td>\n",
       "      <td>1</td>\n",
       "    </tr>\n",
       "    <tr>\n",
       "      <th>3</th>\n",
       "      <td>1</td>\n",
       "      <td>D4</td>\n",
       "      <td>10</td>\n",
       "      <td>2</td>\n",
       "      <td>3</td>\n",
       "      <td>1</td>\n",
       "      <td>9</td>\n",
       "      <td>1</td>\n",
       "      <td>3</td>\n",
       "      <td>2</td>\n",
       "      <td>...</td>\n",
       "      <td>3</td>\n",
       "      <td>1</td>\n",
       "      <td>2</td>\n",
       "      <td>2</td>\n",
       "      <td>1</td>\n",
       "      <td>3</td>\n",
       "      <td>3</td>\n",
       "      <td>1</td>\n",
       "      <td>D</td>\n",
       "      <td>4</td>\n",
       "    </tr>\n",
       "    <tr>\n",
       "      <th>4</th>\n",
       "      <td>1</td>\n",
       "      <td>D2</td>\n",
       "      <td>26</td>\n",
       "      <td>2</td>\n",
       "      <td>3</td>\n",
       "      <td>1</td>\n",
       "      <td>9</td>\n",
       "      <td>1</td>\n",
       "      <td>2</td>\n",
       "      <td>1</td>\n",
       "      <td>...</td>\n",
       "      <td>3</td>\n",
       "      <td>1</td>\n",
       "      <td>3</td>\n",
       "      <td>2</td>\n",
       "      <td>1</td>\n",
       "      <td>3</td>\n",
       "      <td>3</td>\n",
       "      <td>1</td>\n",
       "      <td>D</td>\n",
       "      <td>2</td>\n",
       "    </tr>\n",
       "  </tbody>\n",
       "</table>\n",
       "<p>5 rows × 62 columns</p>\n",
       "</div>"
      ],
      "text/plain": [
       "   Product_Info_1 Product_Info_2  Product_Info_3  Product_Info_5  \\\n",
       "0               1             D3              10               2   \n",
       "1               1             A1              26               2   \n",
       "2               1             E1              26               2   \n",
       "3               1             D4              10               2   \n",
       "4               1             D2              26               2   \n",
       "\n",
       "   Product_Info_6  Product_Info_7  Employment_Info_2  Employment_Info_3  \\\n",
       "0               1               1                 12                  1   \n",
       "1               3               1                  1                  3   \n",
       "2               3               1                  9                  1   \n",
       "3               3               1                  9                  1   \n",
       "4               3               1                  9                  1   \n",
       "\n",
       "   Employment_Info_5  InsuredInfo_1         ...          Medical_History_34  \\\n",
       "0                  3              1         ...                           3   \n",
       "1                  2              1         ...                           1   \n",
       "2                  2              1         ...                           3   \n",
       "3                  3              2         ...                           3   \n",
       "4                  2              1         ...                           3   \n",
       "\n",
       "   Medical_History_35  Medical_History_36  Medical_History_37  \\\n",
       "0                   1                   2                   2   \n",
       "1                   1                   2                   2   \n",
       "2                   1                   3                   2   \n",
       "3                   1                   2                   2   \n",
       "4                   1                   3                   2   \n",
       "\n",
       "   Medical_History_38  Medical_History_39  Medical_History_40  \\\n",
       "0                   1                   3                   3   \n",
       "1                   1                   3                   3   \n",
       "2                   1                   3                   3   \n",
       "3                   1                   3                   3   \n",
       "4                   1                   3                   3   \n",
       "\n",
       "   Medical_History_41  Product_Info_2_char  Product_Info_2_num  \n",
       "0                   3                    D                   3  \n",
       "1                   1                    A                   1  \n",
       "2                   1                    E                   1  \n",
       "3                   1                    D                   4  \n",
       "4                   1                    D                   2  \n",
       "\n",
       "[5 rows x 62 columns]"
      ]
     },
     "execution_count": 10,
     "metadata": {},
     "output_type": "execute_result"
    }
   ],
   "source": [
    "train_df[categorical_columns].head()"
   ]
  },
  {
   "cell_type": "code",
   "execution_count": 11,
   "metadata": {},
   "outputs": [
    {
     "data": {
      "text/html": [
       "<div>\n",
       "<style scoped>\n",
       "    .dataframe tbody tr th:only-of-type {\n",
       "        vertical-align: middle;\n",
       "    }\n",
       "\n",
       "    .dataframe tbody tr th {\n",
       "        vertical-align: top;\n",
       "    }\n",
       "\n",
       "    .dataframe thead th {\n",
       "        text-align: right;\n",
       "    }\n",
       "</style>\n",
       "<table border=\"1\" class=\"dataframe\">\n",
       "  <thead>\n",
       "    <tr style=\"text-align: right;\">\n",
       "      <th></th>\n",
       "      <th>Product_Info_4</th>\n",
       "      <th>Ins_Age</th>\n",
       "      <th>Ht</th>\n",
       "      <th>Wt</th>\n",
       "      <th>BMI</th>\n",
       "      <th>Employment_Info_1</th>\n",
       "      <th>Employment_Info_4</th>\n",
       "      <th>Employment_Info_6</th>\n",
       "      <th>Insurance_History_5</th>\n",
       "      <th>Family_Hist_2</th>\n",
       "      <th>...</th>\n",
       "      <th>Medical_Keyword_42</th>\n",
       "      <th>Medical_Keyword_43</th>\n",
       "      <th>Medical_Keyword_44</th>\n",
       "      <th>Medical_Keyword_45</th>\n",
       "      <th>Medical_Keyword_46</th>\n",
       "      <th>Medical_Keyword_47</th>\n",
       "      <th>Medical_Keyword_48</th>\n",
       "      <th>BMI_Age</th>\n",
       "      <th>Med_Keywords_Count</th>\n",
       "      <th>num_na</th>\n",
       "    </tr>\n",
       "  </thead>\n",
       "  <tbody>\n",
       "    <tr>\n",
       "      <th>0</th>\n",
       "      <td>0.076923</td>\n",
       "      <td>0.641791</td>\n",
       "      <td>0.581818</td>\n",
       "      <td>0.148536</td>\n",
       "      <td>0.323008</td>\n",
       "      <td>0.028</td>\n",
       "      <td>0.0</td>\n",
       "      <td>NaN</td>\n",
       "      <td>0.000667</td>\n",
       "      <td>NaN</td>\n",
       "      <td>...</td>\n",
       "      <td>0</td>\n",
       "      <td>0</td>\n",
       "      <td>0</td>\n",
       "      <td>0</td>\n",
       "      <td>0</td>\n",
       "      <td>0</td>\n",
       "      <td>0</td>\n",
       "      <td>0.207304</td>\n",
       "      <td>0</td>\n",
       "      <td>6</td>\n",
       "    </tr>\n",
       "    <tr>\n",
       "      <th>1</th>\n",
       "      <td>0.076923</td>\n",
       "      <td>0.059701</td>\n",
       "      <td>0.600000</td>\n",
       "      <td>0.131799</td>\n",
       "      <td>0.272288</td>\n",
       "      <td>0.000</td>\n",
       "      <td>0.0</td>\n",
       "      <td>0.0018</td>\n",
       "      <td>0.000133</td>\n",
       "      <td>0.188406</td>\n",
       "      <td>...</td>\n",
       "      <td>0</td>\n",
       "      <td>0</td>\n",
       "      <td>0</td>\n",
       "      <td>0</td>\n",
       "      <td>0</td>\n",
       "      <td>0</td>\n",
       "      <td>0</td>\n",
       "      <td>0.016256</td>\n",
       "      <td>0</td>\n",
       "      <td>5</td>\n",
       "    </tr>\n",
       "    <tr>\n",
       "      <th>2</th>\n",
       "      <td>0.076923</td>\n",
       "      <td>0.029851</td>\n",
       "      <td>0.745455</td>\n",
       "      <td>0.288703</td>\n",
       "      <td>0.428780</td>\n",
       "      <td>0.030</td>\n",
       "      <td>0.0</td>\n",
       "      <td>0.0300</td>\n",
       "      <td>NaN</td>\n",
       "      <td>0.304348</td>\n",
       "      <td>...</td>\n",
       "      <td>0</td>\n",
       "      <td>0</td>\n",
       "      <td>0</td>\n",
       "      <td>0</td>\n",
       "      <td>0</td>\n",
       "      <td>0</td>\n",
       "      <td>0</td>\n",
       "      <td>0.012799</td>\n",
       "      <td>0</td>\n",
       "      <td>7</td>\n",
       "    </tr>\n",
       "    <tr>\n",
       "      <th>3</th>\n",
       "      <td>0.487179</td>\n",
       "      <td>0.164179</td>\n",
       "      <td>0.672727</td>\n",
       "      <td>0.205021</td>\n",
       "      <td>0.352438</td>\n",
       "      <td>0.042</td>\n",
       "      <td>0.0</td>\n",
       "      <td>0.2000</td>\n",
       "      <td>NaN</td>\n",
       "      <td>0.420290</td>\n",
       "      <td>...</td>\n",
       "      <td>0</td>\n",
       "      <td>0</td>\n",
       "      <td>0</td>\n",
       "      <td>0</td>\n",
       "      <td>0</td>\n",
       "      <td>0</td>\n",
       "      <td>0</td>\n",
       "      <td>0.057863</td>\n",
       "      <td>1</td>\n",
       "      <td>7</td>\n",
       "    </tr>\n",
       "    <tr>\n",
       "      <th>4</th>\n",
       "      <td>0.230769</td>\n",
       "      <td>0.417910</td>\n",
       "      <td>0.654545</td>\n",
       "      <td>0.234310</td>\n",
       "      <td>0.424046</td>\n",
       "      <td>0.027</td>\n",
       "      <td>0.0</td>\n",
       "      <td>0.0500</td>\n",
       "      <td>NaN</td>\n",
       "      <td>0.463768</td>\n",
       "      <td>...</td>\n",
       "      <td>0</td>\n",
       "      <td>0</td>\n",
       "      <td>0</td>\n",
       "      <td>0</td>\n",
       "      <td>0</td>\n",
       "      <td>0</td>\n",
       "      <td>0</td>\n",
       "      <td>0.177213</td>\n",
       "      <td>0</td>\n",
       "      <td>8</td>\n",
       "    </tr>\n",
       "  </tbody>\n",
       "</table>\n",
       "<p>5 rows × 69 columns</p>\n",
       "</div>"
      ],
      "text/plain": [
       "   Product_Info_4   Ins_Age        Ht        Wt       BMI  Employment_Info_1  \\\n",
       "0        0.076923  0.641791  0.581818  0.148536  0.323008              0.028   \n",
       "1        0.076923  0.059701  0.600000  0.131799  0.272288              0.000   \n",
       "2        0.076923  0.029851  0.745455  0.288703  0.428780              0.030   \n",
       "3        0.487179  0.164179  0.672727  0.205021  0.352438              0.042   \n",
       "4        0.230769  0.417910  0.654545  0.234310  0.424046              0.027   \n",
       "\n",
       "   Employment_Info_4  Employment_Info_6  Insurance_History_5  Family_Hist_2  \\\n",
       "0                0.0                NaN             0.000667            NaN   \n",
       "1                0.0             0.0018             0.000133       0.188406   \n",
       "2                0.0             0.0300                  NaN       0.304348   \n",
       "3                0.0             0.2000                  NaN       0.420290   \n",
       "4                0.0             0.0500                  NaN       0.463768   \n",
       "\n",
       "    ...    Medical_Keyword_42  Medical_Keyword_43  Medical_Keyword_44  \\\n",
       "0   ...                     0                   0                   0   \n",
       "1   ...                     0                   0                   0   \n",
       "2   ...                     0                   0                   0   \n",
       "3   ...                     0                   0                   0   \n",
       "4   ...                     0                   0                   0   \n",
       "\n",
       "   Medical_Keyword_45  Medical_Keyword_46  Medical_Keyword_47  \\\n",
       "0                   0                   0                   0   \n",
       "1                   0                   0                   0   \n",
       "2                   0                   0                   0   \n",
       "3                   0                   0                   0   \n",
       "4                   0                   0                   0   \n",
       "\n",
       "   Medical_Keyword_48   BMI_Age  Med_Keywords_Count  num_na  \n",
       "0                   0  0.207304                   0       6  \n",
       "1                   0  0.016256                   0       5  \n",
       "2                   0  0.012799                   0       7  \n",
       "3                   0  0.057863                   1       7  \n",
       "4                   0  0.177213                   0       8  \n",
       "\n",
       "[5 rows x 69 columns]"
      ]
     },
     "execution_count": 11,
     "metadata": {},
     "output_type": "execute_result"
    }
   ],
   "source": [
    "train_df[cont_columns].head()"
   ]
  },
  {
   "cell_type": "code",
   "execution_count": 12,
   "metadata": {},
   "outputs": [],
   "source": [
    "train_df = train_df[categorical_columns + cont_columns + ['Response']]"
   ]
  },
  {
   "cell_type": "code",
   "execution_count": 13,
   "metadata": {},
   "outputs": [
    {
     "data": {
      "text/plain": [
       "132"
      ]
     },
     "execution_count": 13,
     "metadata": {},
     "output_type": "execute_result"
    }
   ],
   "source": [
    "len(train_df.columns)"
   ]
  },
  {
   "cell_type": "markdown",
   "metadata": {},
   "source": [
    "### Convert to categorical"
   ]
  },
  {
   "cell_type": "code",
   "execution_count": 14,
   "metadata": {},
   "outputs": [],
   "source": [
    "for col in categorical_columns:\n",
    "    train_df[col] = train_df[col].astype('category').cat.as_ordered()"
   ]
  },
  {
   "cell_type": "code",
   "execution_count": 15,
   "metadata": {},
   "outputs": [
    {
     "data": {
      "text/plain": [
       "CategoricalDtype(categories=[1, 2], ordered=True)"
      ]
     },
     "execution_count": 15,
     "metadata": {},
     "output_type": "execute_result"
    }
   ],
   "source": [
    "train_df['Product_Info_1'].dtype"
   ]
  },
  {
   "cell_type": "code",
   "execution_count": 16,
   "metadata": {},
   "outputs": [
    {
     "data": {
      "text/plain": [
       "(59381, 132)"
      ]
     },
     "execution_count": 16,
     "metadata": {},
     "output_type": "execute_result"
    }
   ],
   "source": [
    "train_df.shape"
   ]
  },
  {
   "cell_type": "markdown",
   "metadata": {},
   "source": [
    "### Numericalise and process DataFrame"
   ]
  },
  {
   "cell_type": "code",
   "execution_count": 17,
   "metadata": {},
   "outputs": [],
   "source": [
    "df, y, nas, mapper = structured.proc_df(train_df, 'Response', do_scale=True)\n",
    "y = y.astype('float')"
   ]
  },
  {
   "cell_type": "code",
   "execution_count": 18,
   "metadata": {},
   "outputs": [],
   "source": [
    "num_targets = len(set(y))"
   ]
  },
  {
   "cell_type": "markdown",
   "metadata": {},
   "source": [
    "### Create ColumnData object (instead of ImageClassifierData)"
   ]
  },
  {
   "cell_type": "code",
   "execution_count": 19,
   "metadata": {},
   "outputs": [],
   "source": [
    "cv_idx = get_cv_idxs(len(df))"
   ]
  },
  {
   "cell_type": "code",
   "execution_count": 20,
   "metadata": {},
   "outputs": [
    {
     "data": {
      "text/plain": [
       "array([41952, 28556,  7984, ..., 39401,  9440, 31775])"
      ]
     },
     "execution_count": 20,
     "metadata": {},
     "output_type": "execute_result"
    }
   ],
   "source": [
    "cv_idx"
   ]
  },
  {
   "cell_type": "code",
   "execution_count": 21,
   "metadata": {},
   "outputs": [],
   "source": [
    "model_data = ColumnarModelData.from_data_frame(\n",
    "    PATH, cv_idx, df, y, cat_flds=categorical_columns, is_reg=True)"
   ]
  },
  {
   "cell_type": "code",
   "execution_count": 22,
   "metadata": {},
   "outputs": [
    {
     "data": {
      "text/plain": [
       "144"
      ]
     },
     "execution_count": 22,
     "metadata": {},
     "output_type": "execute_result"
    }
   ],
   "source": [
    "model_data.trn_ds[0][0].shape[0] + model_data.trn_ds[0][1].shape[0]"
   ]
  },
  {
   "cell_type": "code",
   "execution_count": 23,
   "metadata": {},
   "outputs": [
    {
     "data": {
      "text/plain": [
       "(82,)"
      ]
     },
     "execution_count": 23,
     "metadata": {},
     "output_type": "execute_result"
    }
   ],
   "source": [
    "model_data.trn_ds[0][1].shape"
   ]
  },
  {
   "cell_type": "markdown",
   "metadata": {},
   "source": [
    "### Get embedding sizes\n",
    "\n",
    "The formula Jeremy uses for getting embedding sizes is: cardinality / 2 (maxed out at 50).\n",
    "\n",
    "We reproduce that below:"
   ]
  },
  {
   "cell_type": "code",
   "execution_count": 24,
   "metadata": {},
   "outputs": [],
   "source": [
    "categorical_column_sizes = [\n",
    "    (c, len(train_df[c].cat.categories) + 1) for c in categorical_columns]"
   ]
  },
  {
   "cell_type": "code",
   "execution_count": 25,
   "metadata": {},
   "outputs": [
    {
     "data": {
      "text/plain": [
       "[('Product_Info_1', 3),\n",
       " ('Product_Info_2', 20),\n",
       " ('Product_Info_3', 35),\n",
       " ('Product_Info_5', 3),\n",
       " ('Product_Info_6', 3)]"
      ]
     },
     "execution_count": 25,
     "metadata": {},
     "output_type": "execute_result"
    }
   ],
   "source": [
    "categorical_column_sizes[:5]"
   ]
  },
  {
   "cell_type": "code",
   "execution_count": 26,
   "metadata": {},
   "outputs": [],
   "source": [
    "embedding_sizes = [(c, min(50, (c+1)//2)) for _, c in categorical_column_sizes]"
   ]
  },
  {
   "cell_type": "code",
   "execution_count": 27,
   "metadata": {},
   "outputs": [
    {
     "data": {
      "text/plain": [
       "[(3, 2), (20, 10), (35, 18), (3, 2), (3, 2)]"
      ]
     },
     "execution_count": 27,
     "metadata": {},
     "output_type": "execute_result"
    }
   ],
   "source": [
    "embedding_sizes[:5]"
   ]
  },
  {
   "cell_type": "code",
   "execution_count": 140,
   "metadata": {},
   "outputs": [],
   "source": [
    "def emb_init(x):\n",
    "    x = x.weight.data\n",
    "    sc = 2/(x.size(1)+1)\n",
    "    x.uniform_(-sc,sc)"
   ]
  },
  {
   "cell_type": "code",
   "execution_count": 141,
   "metadata": {},
   "outputs": [],
   "source": [
    "class MixedInputModel(nn.Module):\n",
    "    def __init__(self, emb_sizes, num_cont):\n",
    "        super().__init__()\n",
    "        \n",
    "        embedding_layers = []\n",
    "        for size, dim in emb_sizes:\n",
    "            embedding_layers.append(\n",
    "                nn.Embedding(\n",
    "                    num_embeddings=size, embedding_dim=dim))\n",
    "        \n",
    "        self.embeddings = nn.ModuleList(embedding_layers)\n",
    "        for emb in self.embeddings: emb_init(emb)\n",
    "        self.embedding_dropout = nn.Dropout(0.04)\n",
    "        \n",
    "        self.batch_norm_cont = nn.BatchNorm1d(num_cont)\n",
    "        \n",
    "        num_emb = sum(e.embedding_dim for e in self.embeddings)\n",
    "        \n",
    "        self.fc1 = nn.Linear(\n",
    "            in_features=num_emb + num_cont,\n",
    "            out_features=1000)\n",
    "        kaiming_normal(self.fc1.weight.data)\n",
    "        self.dropout_fc1 = nn.Dropout(p=0.01)\n",
    "        self.batch_norm_fc1 = nn.BatchNorm1d(1000)\n",
    "        \n",
    "        self.fc2 = nn.Linear(\n",
    "            in_features=1000,\n",
    "            out_features=500)\n",
    "        kaiming_normal(self.fc2.weight.data)\n",
    "        self.dropout_fc2 = nn.Dropout(p=0.01)\n",
    "        self.batch_norm_fc2 = nn.BatchNorm1d(500)\n",
    "        \n",
    "        self.output_fc = nn.Linear(\n",
    "            in_features=500,\n",
    "            out_features=1\n",
    "        )\n",
    "        kaiming_normal(self.output_fc.weight.data)\n",
    "        self.sigmoid = nn.Sigmoid()\n",
    "        \n",
    "        \n",
    "    def forward(self, categorical_input, continuous_input):\n",
    "        # Add categorical embeddings together\n",
    "        categorical_embeddings = [e(categorical_input[:,i]) for i, e in enumerate(self.embeddings)]\n",
    "        categorical_embeddings = torch.cat(categorical_embeddings, 1)\n",
    "        categorical_embeddings_dropout = self.embedding_dropout(categorical_embeddings)\n",
    "             \n",
    "        # Batch normalise continuos vars\n",
    "        continuous_input_batch_norm = self.batch_norm_cont(continuous_input)\n",
    "        \n",
    "        # Create a single vector\n",
    "        x = torch.cat([\n",
    "            categorical_embeddings_dropout, continuous_input_batch_norm\n",
    "        ], dim=1)\n",
    "        \n",
    "        # Fully-connected layer 1\n",
    "        fc1_output = self.fc1(x)\n",
    "        fc1_relu_output = F.relu(fc1_output)\n",
    "        fc1_dropout_output = self.dropout_fc1(fc1_relu_output)\n",
    "        fc1_batch_norm = self.batch_norm_fc1(fc1_dropout_output)\n",
    "        \n",
    "        # Fully-connected layer 2\n",
    "        fc2_output = self.fc2(fc1_batch_norm)\n",
    "        fc2_relu_output = F.relu(fc2_output)\n",
    "        fc2_batch_norm = self.batch_norm_fc2(fc2_relu_output)\n",
    "        fc2_dropout_output = self.dropout_fc2(fc2_batch_norm)\n",
    "        \n",
    "        output = self.output_fc(fc2_dropout_output)\n",
    "        output = self.sigmoid(output)\n",
    "        \n",
    "        output = output * 7\n",
    "        output = output + 1\n",
    "\n",
    "        return output"
   ]
  },
  {
   "cell_type": "code",
   "execution_count": 142,
   "metadata": {},
   "outputs": [],
   "source": [
    "num_cont = len(df.columns) - len(categorical_columns)\n",
    "\n",
    "model = MixedInputModel(\n",
    "    embedding_sizes,\n",
    "    num_cont\n",
    ")"
   ]
  },
  {
   "cell_type": "code",
   "execution_count": 143,
   "metadata": {},
   "outputs": [
    {
     "data": {
      "text/plain": [
       "MixedInputModel(\n",
       "  (embeddings): ModuleList(\n",
       "    (0): Embedding(3, 2)\n",
       "    (1): Embedding(20, 10)\n",
       "    (2): Embedding(35, 18)\n",
       "    (3): Embedding(3, 2)\n",
       "    (4): Embedding(3, 2)\n",
       "    (5): Embedding(4, 2)\n",
       "    (6): Embedding(37, 19)\n",
       "    (7): Embedding(3, 2)\n",
       "    (8): Embedding(3, 2)\n",
       "    (9): Embedding(4, 2)\n",
       "    (10): Embedding(3, 2)\n",
       "    (11): Embedding(12, 6)\n",
       "    (12): Embedding(3, 2)\n",
       "    (13): Embedding(3, 2)\n",
       "    (14): Embedding(3, 2)\n",
       "    (15): Embedding(3, 2)\n",
       "    (16): Embedding(3, 2)\n",
       "    (17): Embedding(4, 2)\n",
       "    (18): Embedding(4, 2)\n",
       "    (19): Embedding(4, 2)\n",
       "    (20): Embedding(4, 2)\n",
       "    (21): Embedding(4, 2)\n",
       "    (22): Embedding(4, 2)\n",
       "    (23): Embedding(4, 2)\n",
       "    (24): Embedding(580, 50)\n",
       "    (25): Embedding(4, 2)\n",
       "    (26): Embedding(3, 2)\n",
       "    (27): Embedding(4, 2)\n",
       "    (28): Embedding(4, 2)\n",
       "    (29): Embedding(4, 2)\n",
       "    (30): Embedding(4, 2)\n",
       "    (31): Embedding(4, 2)\n",
       "    (32): Embedding(4, 2)\n",
       "    (33): Embedding(4, 2)\n",
       "    (34): Embedding(4, 2)\n",
       "    (35): Embedding(4, 2)\n",
       "    (36): Embedding(4, 2)\n",
       "    (37): Embedding(4, 2)\n",
       "    (38): Embedding(4, 2)\n",
       "    (39): Embedding(4, 2)\n",
       "    (40): Embedding(4, 2)\n",
       "    (41): Embedding(4, 2)\n",
       "    (42): Embedding(3, 2)\n",
       "    (43): Embedding(4, 2)\n",
       "    (44): Embedding(4, 2)\n",
       "    (45): Embedding(4, 2)\n",
       "    (46): Embedding(4, 2)\n",
       "    (47): Embedding(4, 2)\n",
       "    (48): Embedding(4, 2)\n",
       "    (49): Embedding(4, 2)\n",
       "    (50): Embedding(4, 2)\n",
       "    (51): Embedding(3, 2)\n",
       "    (52): Embedding(4, 2)\n",
       "    (53): Embedding(4, 2)\n",
       "    (54): Embedding(4, 2)\n",
       "    (55): Embedding(4, 2)\n",
       "    (56): Embedding(3, 2)\n",
       "    (57): Embedding(4, 2)\n",
       "    (58): Embedding(4, 2)\n",
       "    (59): Embedding(4, 2)\n",
       "    (60): Embedding(6, 3)\n",
       "    (61): Embedding(9, 5)\n",
       "  )\n",
       "  (embedding_dropout): Dropout(p=0.04)\n",
       "  (batch_norm_cont): BatchNorm1d(82, eps=1e-05, momentum=0.1, affine=True)\n",
       "  (fc1): Linear(in_features=303, out_features=1000, bias=True)\n",
       "  (dropout_fc1): Dropout(p=0.01)\n",
       "  (batch_norm_fc1): BatchNorm1d(1000, eps=1e-05, momentum=0.1, affine=True)\n",
       "  (fc2): Linear(in_features=1000, out_features=500, bias=True)\n",
       "  (dropout_fc2): Dropout(p=0.01)\n",
       "  (batch_norm_fc2): BatchNorm1d(500, eps=1e-05, momentum=0.1, affine=True)\n",
       "  (output_fc): Linear(in_features=500, out_features=1, bias=True)\n",
       "  (sigmoid): Sigmoid()\n",
       ")"
      ]
     },
     "execution_count": 143,
     "metadata": {},
     "output_type": "execute_result"
    }
   ],
   "source": [
    "model"
   ]
  },
  {
   "cell_type": "code",
   "execution_count": 144,
   "metadata": {},
   "outputs": [],
   "source": [
    "from fastai.column_data import StructuredLearner"
   ]
  },
  {
   "cell_type": "code",
   "execution_count": 145,
   "metadata": {},
   "outputs": [],
   "source": [
    "def weighted_kappa_metric(probs, y):\n",
    "    return quadratic_weighted_kappa(probs[:,0], y[:,0])"
   ]
  },
  {
   "cell_type": "code",
   "execution_count": 146,
   "metadata": {},
   "outputs": [],
   "source": [
    "learner = StructuredLearner.from_model_data(model, model_data, metrics=[weighted_kappa_metric])"
   ]
  },
  {
   "cell_type": "code",
   "execution_count": 147,
   "metadata": {},
   "outputs": [
    {
     "data": {
      "application/vnd.jupyter.widget-view+json": {
       "model_id": "78ee5188c2ca40218a5fd9605fcb2aaf",
       "version_major": 2,
       "version_minor": 0
      },
      "text/plain": [
       "HBox(children=(IntProgress(value=0, description='Epoch', max=1), HTML(value='')))"
      ]
     },
     "metadata": {},
     "output_type": "display_data"
    },
    {
     "name": "stdout",
     "output_type": "stream",
     "text": [
      "epoch      trn_loss   val_loss   weighted_kappa_metric      \n",
      "    0      10.12092   9.828057   0.257332  \n"
     ]
    }
   ],
   "source": [
    "learner.lr_find()"
   ]
  },
  {
   "cell_type": "code",
   "execution_count": 148,
   "metadata": {},
   "outputs": [
    {
     "data": {
      "image/png": "[encoded data removed]",
      "text/plain": [
       "<Figure size 432x288 with 1 Axes>"
      ]
     },
     "metadata": {},
     "output_type": "display_data"
    }
   ],
   "source": [
    "learner.sched.plot()"
   ]
  },
  {
   "cell_type": "code",
   "execution_count": 149,
   "metadata": {},
   "outputs": [
    {
     "name": "stdout",
     "output_type": "stream",
     "text": [
      "fit() warning: use_wd_sched is set to True, but weight decay(s) passed are 0. Use wds to pass weight decay values.\n"
     ]
    },
    {
     "data": {
      "application/vnd.jupyter.widget-view+json": {
       "model_id": "80278fae5fdf4ff5b371b289cf2acb2a",
       "version_major": 2,
       "version_minor": 0
      },
      "text/plain": [
       "HBox(children=(IntProgress(value=0, description='Epoch', max=3), HTML(value='')))"
      ]
     },
     "metadata": {},
     "output_type": "display_data"
    },
    {
     "name": "stdout",
     "output_type": "stream",
     "text": [
      "epoch      trn_loss   val_loss   weighted_kappa_metric       \n",
      "    0      4.045112   4.093557   0.500641  \n",
      "    1      3.890376   3.969434   0.511264                   \n",
      "    2      3.697106   3.902796   0.517778                    \n"
     ]
    },
    {
     "data": {
      "text/plain": [
       "[array([3.9028]), 0.5177778103949219]"
      ]
     },
     "execution_count": 149,
     "metadata": {},
     "output_type": "execute_result"
    }
   ],
   "source": [
    "learner.fit(0.0001, 3, use_wd_sched=True)"
   ]
  },
  {
   "cell_type": "code",
   "execution_count": 150,
   "metadata": {},
   "outputs": [
    {
     "name": "stdout",
     "output_type": "stream",
     "text": [
      "fit() warning: use_wd_sched is set to True, but weight decay(s) passed are 0. Use wds to pass weight decay values.\n"
     ]
    },
    {
     "data": {
      "application/vnd.jupyter.widget-view+json": {
       "model_id": "cc24b55a5cdf41cc9f2dfd0476747df8",
       "version_major": 2,
       "version_minor": 0
      },
      "text/plain": [
       "HBox(children=(IntProgress(value=0, description='Epoch', max=31), HTML(value='')))"
      ]
     },
     "metadata": {},
     "output_type": "display_data"
    },
    {
     "name": "stdout",
     "output_type": "stream",
     "text": [
      "epoch      trn_loss   val_loss   weighted_kappa_metric      \n",
      "    0      3.669837   3.878638   0.525141  \n",
      "    1      3.753951   3.853548   0.531628                   \n",
      "    2      3.693147   3.823528   0.537189                   \n",
      "    3      3.769119   3.787117   0.532412                   \n",
      "    4      3.518593   3.804554   0.537648                   \n",
      "    5      3.534063   3.783307   0.542196                   \n",
      "    6      3.596886   3.779415   0.542739                   \n",
      "    7      3.571018   3.778712   0.541825                    \n",
      "    8      3.641947   3.760956   0.54653                    \n",
      "    9      3.546584   3.752363   0.554844                    \n",
      "    10     3.656892   3.735377   0.551656                   \n",
      "    11     3.458163   3.745283   0.554712                    \n",
      "    12     3.429208   3.739722   0.550354                    \n",
      "    13     3.492735   3.718385   0.550943                    \n",
      "    14     3.367725   3.742327   0.551551                   \n",
      "    15     3.435102   3.764339   0.549016                   \n",
      "    16     3.39208    3.745095   0.555498                   \n",
      "    17     3.369494   3.778072   0.555524                   \n",
      "    18     3.557012   3.739735   0.547905                   \n",
      "    19     3.377399   3.736502   0.557275                    \n",
      "    20     3.438189   3.801713   0.55953                    \n",
      "    21     3.318981   3.77109    0.553916                   \n",
      "    22     3.308797   3.784635   0.55882                    \n",
      "    23     3.191291   3.75078    0.567412                   \n",
      "    24     3.154368   3.761348   0.556422                    \n",
      "    25     3.196123   3.768691   0.563026                    \n",
      "    26     3.196808   3.73859    0.561961                   \n",
      "    27     3.242004   3.723597   0.564393                   \n",
      "    28     3.186991   3.774825   0.556722                   \n",
      "    29     3.182807   3.746873   0.559449                    \n",
      "    30     3.108987   3.75402    0.559776                   \n"
     ]
    },
    {
     "data": {
      "text/plain": [
       "[array([3.75402]), 0.5597761107909427]"
      ]
     },
     "execution_count": 150,
     "metadata": {},
     "output_type": "execute_result"
    }
   ],
   "source": [
    "learner.fit(0.0001, 5, cycle_len=1, cycle_mult=2, use_wd_sched=True)"
   ]
  },
  {
   "cell_type": "code",
   "execution_count": 151,
   "metadata": {},
   "outputs": [
    {
     "name": "stdout",
     "output_type": "stream",
     "text": [
      "fit() warning: use_wd_sched is set to True, but weight decay(s) passed are 0. Use wds to pass weight decay values.\n"
     ]
    },
    {
     "data": {
      "application/vnd.jupyter.widget-view+json": {
       "model_id": "a18e6c2296a74208a853571638b3fa0d",
       "version_major": 2,
       "version_minor": 0
      },
      "text/plain": [
       "HBox(children=(IntProgress(value=0, description='Epoch', max=7), HTML(value='')))"
      ]
     },
     "metadata": {},
     "output_type": "display_data"
    },
    {
     "name": "stdout",
     "output_type": "stream",
     "text": [
      "epoch      trn_loss   val_loss   weighted_kappa_metric      \n",
      "    0      3.139123   3.736645   0.561148  \n",
      "    1      3.069922   3.761296   0.5581                     \n",
      "    2      3.16154    3.75898    0.556315                    \n",
      "    3      3.167846   3.765681   0.552248                   \n",
      "    4      3.088502   3.771049   0.557628                   \n",
      "    5      3.270517   3.763619   0.561866                    \n",
      "    6      3.176511   3.758319   0.557705                   \n"
     ]
    },
    {
     "data": {
      "text/plain": [
       "[array([3.75832]), 0.5577047550521828]"
      ]
     },
     "execution_count": 151,
     "metadata": {},
     "output_type": "execute_result"
    }
   ],
   "source": [
    "learner.fit(0.00001, 3, cycle_len=1, cycle_mult=2, use_wd_sched=True)"
   ]
  },
  {
   "cell_type": "markdown",
   "metadata": {},
   "source": [
    "There's either a bug in my implementation, or a NN doesn't do that well at this problem."
   ]
  }
 ],
 "metadata": {
  "kernelspec": {
   "display_name": "Python 3",
   "language": "python",
   "name": "python3"
  },
  "language_info": {
   "codemirror_mode": {
    "name": "ipython",
    "version": 3
   },
   "file_extension": ".py",
   "mimetype": "text/x-python",
   "name": "python",
   "nbconvert_exporter": "python",
   "pygments_lexer": "ipython3",
   "version": "3.6.6"
  }
 },
 "nbformat": 4,
 "nbformat_minor": 2
}
