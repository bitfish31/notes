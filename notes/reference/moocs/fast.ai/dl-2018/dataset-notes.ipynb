{
 "cells": [
  {
   "cell_type": "markdown",
   "metadata": {},
   "source": [
    "# Dataset notes"
   ]
  },
  {
   "cell_type": "markdown",
   "metadata": {},
   "source": [
    "If you have a dataset that doesn't fit into the standard Fast.ai formats, in general, I'd recommend thinking of a way to convert them over. It's going to mean you're working on solving the problem quicker and fighting against Fast.ai less.\n",
    "\n",
    "If you have image data in a weird format, can you convert it into folder of images and a CSV with an image per line?\n",
    "\n",
    "If you have time series data, can you join into a single entry per row?\n",
    "\n",
    "If you have text data, can you munge it into a format similar to IMDB?\n",
    "\n",
    "If not, let's quickly try to understand how the Fast.ai Datasets and Dataloaders work, and how they compare to PyTorch.\n",
    "\n",
    "For some problems, you will need to create a custom dataset.\n",
    "\n",
    "In this notebook, using the dataset from the [RSNA Pneumonia Detection Challenge](https://www.kaggle.com/c/rsna-pneumonia-detection-challenge) Kaggle competition, which is in a [DICOM](https://en.wikipedia.org/wiki/DICOM) format, I'll show 3 examples:\n",
    "\n",
    "1. Munging data into a Fast.ai friendly format.\n",
    "2. Creating a custom Fast.ai Dataset.\n",
    "3. Create a PyTorch dataset, then using a simple Fast.ai wrapper."
   ]
  },
  {
   "cell_type": "code",
   "execution_count": 94,
   "metadata": {},
   "outputs": [],
   "source": [
    "import pandas as pd\n",
    "from pathlib import Path\n",
    "import pydicom\n",
    "import numpy as np\n",
    "import matplotlib.pyplot as plt\n",
    "from multiprocessing import Pool\n",
    "from fastai.imports import tqdm\n",
    "from fastai.dataset import ImageClassifierData, BaseDataset, ModelData, get_cv_idxs\n",
    "from fastai.dataloader import DataLoader\n",
    "from fastai.transforms import tfms_from_model\n",
    "from fastai.conv_learner import ConvLearner, ConvnetBuilder\n",
    "from torchvision.models import resnet34\n",
    "import torch"
   ]
  },
  {
   "cell_type": "code",
   "execution_count": 95,
   "metadata": {},
   "outputs": [],
   "source": [
    "PATH = Path('./data/rsna-pneumonia')"
   ]
  },
  {
   "cell_type": "code",
   "execution_count": 96,
   "metadata": {},
   "outputs": [],
   "source": [
    "# !kaggle competitions download -c rsna-pneumonia-detection-challenge --path {PATH}\n",
    "# !unzip -qo {PATH}/stage_1_test_images.zip -d {PATH}/stage_1_test_images/\n",
    "# !unzip -qo {PATH}/stage_1_train_labels.csv.zip -d {PATH}\n",
    "# !chmod 777 {PATH}/stage_1_train_labels.csv\n",
    "# !unzip -qo {PATH}/stage_1_train_images.zip -d {PATH}/stage_1_train_images/"
   ]
  },
  {
   "cell_type": "markdown",
   "metadata": {},
   "source": [
    "## Example 1: converting a dataset into a Fast.ai friendly format"
   ]
  },
  {
   "cell_type": "code",
   "execution_count": 97,
   "metadata": {},
   "outputs": [],
   "source": [
    "train_labels_df = pd.read_csv(PATH/'stage_1_train_labels.csv')"
   ]
  },
  {
   "cell_type": "code",
   "execution_count": 98,
   "metadata": {},
   "outputs": [
    {
     "data": {
      "text/html": [
       "<div>\n",
       "<style scoped>\n",
       "    .dataframe tbody tr th:only-of-type {\n",
       "        vertical-align: middle;\n",
       "    }\n",
       "\n",
       "    .dataframe tbody tr th {\n",
       "        vertical-align: top;\n",
       "    }\n",
       "\n",
       "    .dataframe thead th {\n",
       "        text-align: right;\n",
       "    }\n",
       "</style>\n",
       "<table border=\"1\" class=\"dataframe\">\n",
       "  <thead>\n",
       "    <tr style=\"text-align: right;\">\n",
       "      <th></th>\n",
       "      <th>patientId</th>\n",
       "      <th>x</th>\n",
       "      <th>y</th>\n",
       "      <th>width</th>\n",
       "      <th>height</th>\n",
       "      <th>Target</th>\n",
       "    </tr>\n",
       "  </thead>\n",
       "  <tbody>\n",
       "    <tr>\n",
       "      <th>0</th>\n",
       "      <td>0004cfab-14fd-4e49-80ba-63a80b6bddd6</td>\n",
       "      <td>NaN</td>\n",
       "      <td>NaN</td>\n",
       "      <td>NaN</td>\n",
       "      <td>NaN</td>\n",
       "      <td>0</td>\n",
       "    </tr>\n",
       "    <tr>\n",
       "      <th>1</th>\n",
       "      <td>00313ee0-9eaa-42f4-b0ab-c148ed3241cd</td>\n",
       "      <td>NaN</td>\n",
       "      <td>NaN</td>\n",
       "      <td>NaN</td>\n",
       "      <td>NaN</td>\n",
       "      <td>0</td>\n",
       "    </tr>\n",
       "    <tr>\n",
       "      <th>2</th>\n",
       "      <td>00322d4d-1c29-4943-afc9-b6754be640eb</td>\n",
       "      <td>NaN</td>\n",
       "      <td>NaN</td>\n",
       "      <td>NaN</td>\n",
       "      <td>NaN</td>\n",
       "      <td>0</td>\n",
       "    </tr>\n",
       "    <tr>\n",
       "      <th>3</th>\n",
       "      <td>003d8fa0-6bf1-40ed-b54c-ac657f8495c5</td>\n",
       "      <td>NaN</td>\n",
       "      <td>NaN</td>\n",
       "      <td>NaN</td>\n",
       "      <td>NaN</td>\n",
       "      <td>0</td>\n",
       "    </tr>\n",
       "    <tr>\n",
       "      <th>4</th>\n",
       "      <td>00436515-870c-4b36-a041-de91049b9ab4</td>\n",
       "      <td>264.0</td>\n",
       "      <td>152.0</td>\n",
       "      <td>213.0</td>\n",
       "      <td>379.0</td>\n",
       "      <td>1</td>\n",
       "    </tr>\n",
       "  </tbody>\n",
       "</table>\n",
       "</div>"
      ],
      "text/plain": [
       "                              patientId      x      y  width  height  Target\n",
       "0  0004cfab-14fd-4e49-80ba-63a80b6bddd6    NaN    NaN    NaN     NaN       0\n",
       "1  00313ee0-9eaa-42f4-b0ab-c148ed3241cd    NaN    NaN    NaN     NaN       0\n",
       "2  00322d4d-1c29-4943-afc9-b6754be640eb    NaN    NaN    NaN     NaN       0\n",
       "3  003d8fa0-6bf1-40ed-b54c-ac657f8495c5    NaN    NaN    NaN     NaN       0\n",
       "4  00436515-870c-4b36-a041-de91049b9ab4  264.0  152.0  213.0   379.0       1"
      ]
     },
     "execution_count": 98,
     "metadata": {},
     "output_type": "execute_result"
    }
   ],
   "source": [
    "train_labels_df.head()"
   ]
  },
  {
   "cell_type": "markdown",
   "metadata": {},
   "source": [
    "Since you can have multiple rows representing the same patient, i'm going to flatten it keeping only the `Target` column."
   ]
  },
  {
   "cell_type": "code",
   "execution_count": 99,
   "metadata": {},
   "outputs": [],
   "source": [
    "train_target_df = train_labels_df.groupby('patientId').Target.mean().reset_index()"
   ]
  },
  {
   "cell_type": "code",
   "execution_count": 100,
   "metadata": {},
   "outputs": [
    {
     "data": {
      "text/html": [
       "<div>\n",
       "<style scoped>\n",
       "    .dataframe tbody tr th:only-of-type {\n",
       "        vertical-align: middle;\n",
       "    }\n",
       "\n",
       "    .dataframe tbody tr th {\n",
       "        vertical-align: top;\n",
       "    }\n",
       "\n",
       "    .dataframe thead th {\n",
       "        text-align: right;\n",
       "    }\n",
       "</style>\n",
       "<table border=\"1\" class=\"dataframe\">\n",
       "  <thead>\n",
       "    <tr style=\"text-align: right;\">\n",
       "      <th></th>\n",
       "      <th>patientId</th>\n",
       "      <th>Target</th>\n",
       "    </tr>\n",
       "  </thead>\n",
       "  <tbody>\n",
       "    <tr>\n",
       "      <th>0</th>\n",
       "      <td>0004cfab-14fd-4e49-80ba-63a80b6bddd6</td>\n",
       "      <td>0</td>\n",
       "    </tr>\n",
       "    <tr>\n",
       "      <th>1</th>\n",
       "      <td>00313ee0-9eaa-42f4-b0ab-c148ed3241cd</td>\n",
       "      <td>0</td>\n",
       "    </tr>\n",
       "    <tr>\n",
       "      <th>2</th>\n",
       "      <td>00322d4d-1c29-4943-afc9-b6754be640eb</td>\n",
       "      <td>0</td>\n",
       "    </tr>\n",
       "    <tr>\n",
       "      <th>3</th>\n",
       "      <td>003d8fa0-6bf1-40ed-b54c-ac657f8495c5</td>\n",
       "      <td>0</td>\n",
       "    </tr>\n",
       "    <tr>\n",
       "      <th>4</th>\n",
       "      <td>00436515-870c-4b36-a041-de91049b9ab4</td>\n",
       "      <td>1</td>\n",
       "    </tr>\n",
       "  </tbody>\n",
       "</table>\n",
       "</div>"
      ],
      "text/plain": [
       "                              patientId  Target\n",
       "0  0004cfab-14fd-4e49-80ba-63a80b6bddd6       0\n",
       "1  00313ee0-9eaa-42f4-b0ab-c148ed3241cd       0\n",
       "2  00322d4d-1c29-4943-afc9-b6754be640eb       0\n",
       "3  003d8fa0-6bf1-40ed-b54c-ac657f8495c5       0\n",
       "4  00436515-870c-4b36-a041-de91049b9ab4       1"
      ]
     },
     "execution_count": 100,
     "metadata": {},
     "output_type": "execute_result"
    }
   ],
   "source": [
    "train_target_df.head()"
   ]
  },
  {
   "cell_type": "code",
   "execution_count": 101,
   "metadata": {},
   "outputs": [],
   "source": [
    "idx = train_labels_df.iloc[0].patientId\n",
    "img_arr = pydicom.dcmread(str(PATH/'stage_1_train_images'/f'{idx}.dcm'))"
   ]
  },
  {
   "cell_type": "code",
   "execution_count": 102,
   "metadata": {},
   "outputs": [
    {
     "data": {
      "text/plain": [
       "(1024, 1024)"
      ]
     },
     "execution_count": 102,
     "metadata": {},
     "output_type": "execute_result"
    }
   ],
   "source": [
    "img_arr.pixel_array.shape"
   ]
  },
  {
   "cell_type": "markdown",
   "metadata": {},
   "source": [
    "Force a channel dimension by stacking the layers"
   ]
  },
  {
   "cell_type": "code",
   "execution_count": 103,
   "metadata": {},
   "outputs": [],
   "source": [
    "img_arr = np.stack((img_arr.pixel_array,) * 3).transpose(1, 2, 0)"
   ]
  },
  {
   "cell_type": "code",
   "execution_count": 104,
   "metadata": {},
   "outputs": [
    {
     "data": {
      "text/plain": [
       "<matplotlib.image.AxesImage at 0x1c2899c0b8>"
      ]
     },
     "execution_count": 104,
     "metadata": {},
     "output_type": "execute_result"
    },
    {
     "data": {
      "image/png": "[encoded data removed]",
      "text/plain": [
       "<Figure size 432x288 with 1 Axes>"
      ]
     },
     "metadata": {},
     "output_type": "display_data"
    }
   ],
   "source": [
    "plt.imshow(img_arr)"
   ]
  },
  {
   "cell_type": "code",
   "execution_count": 105,
   "metadata": {},
   "outputs": [
    {
     "name": "stdout",
     "output_type": "stream",
     "text": [
      "100%|██████████| 28989/28989 [00:05<00:00, 4903.47it/s]\n"
     ]
    }
   ],
   "source": [
    "train_path = PATH/'train'\n",
    "train_path.mkdir(exist_ok=True)\n",
    "\n",
    "def save_img(row):\n",
    "    idx, row = row\n",
    "    img_path = train_path / f'{row.patientId}.jpg'\n",
    "    if img_path.exists():\n",
    "        return\n",
    "\n",
    "    dcm_img = pydicom.dcmread(str(PATH/'stage_1_train_images'/f'{row.patientId}.dcm'))\n",
    "    img_arr = dcm_img.pixel_array\n",
    "    img_arr = np.stack((img_arr,) * 3).transpose(1, 2, 0)\n",
    "    plt.imsave(img_path, img_arr)\n",
    "    \n",
    "with Pool(8) as p:\n",
    "    list(tqdm(\n",
    "      p.imap(save_img, train_labels_df.iterrows()), total=len(train_labels_df)))"
   ]
  },
  {
   "cell_type": "code",
   "execution_count": 106,
   "metadata": {},
   "outputs": [],
   "source": [
    "train_target_df.to_csv(PATH/'train_target.csv', index=False)"
   ]
  },
  {
   "cell_type": "code",
   "execution_count": 107,
   "metadata": {},
   "outputs": [],
   "source": [
    "size = 32"
   ]
  },
  {
   "cell_type": "code",
   "execution_count": 108,
   "metadata": {},
   "outputs": [],
   "source": [
    "val_idxs = get_cv_idxs(len(train_target_df), seed=42)"
   ]
  },
  {
   "cell_type": "code",
   "execution_count": 109,
   "metadata": {},
   "outputs": [],
   "source": [
    "data = ImageClassifierData.from_csv(\n",
    "    PATH, 'train', PATH/'train_target.csv', val_idxs=val_idxs, tfms=tfms_from_model(resnet34, size), suffix='.jpg')"
   ]
  },
  {
   "cell_type": "code",
   "execution_count": 18,
   "metadata": {},
   "outputs": [
    {
     "data": {
      "application/vnd.jupyter.widget-view+json": {
       "model_id": "7bf5f842983d4e12a92b91a4406cad56",
       "version_major": 2,
       "version_minor": 0
      },
      "text/plain": [
       "HBox(children=(IntProgress(value=0, description='Epoch', max=1), HTML(value='')))"
      ]
     },
     "metadata": {},
     "output_type": "display_data"
    },
    {
     "name": "stdout",
     "output_type": "stream",
     "text": [
      "epoch      trn_loss   val_loss   accuracy                    \n",
      "    0      0.463463   0.440343   0.801207  \n",
      "\n"
     ]
    },
    {
     "data": {
      "text/plain": [
       "[array([0.44034]), 0.8012071651090342]"
      ]
     },
     "execution_count": 18,
     "metadata": {},
     "output_type": "execute_result"
    }
   ],
   "source": [
    "learner = ConvLearner.pretrained(resnet34, data, precompute=True)\n",
    "learner.fit(0.01, 1)"
   ]
  },
  {
   "cell_type": "markdown",
   "metadata": {},
   "source": [
    "## Example 2: creating a Fast.ai dataset"
   ]
  },
  {
   "cell_type": "markdown",
   "metadata": {},
   "source": [
    "All Fast.ai datasets inherit from `fastai.dataset.BaseDataset` which itself inherits from `torch.utils.data.Dataset`.\n",
    "\n",
    "To build a Fast.ai dataset, you need to define 5 methods:\n",
    "\n",
    "* `get_n` - number of elements in a dataset.\n",
    "* `get_c` - number of classes in a dataset.\n",
    "* `get_sz` - maximum size of an image in a dataset (if image content).\n",
    "* `get_x` - get ith input example from the dataset.\n",
    "* `get_y` - get ith target example from the dataset.\n",
    "\n",
    "Let's look at how I could rebuild the `ImageClassifierData` loading the raw data from pydicom."
   ]
  },
  {
   "cell_type": "code",
   "execution_count": 34,
   "metadata": {},
   "outputs": [],
   "source": [
    "class PneumoniaDataset(BaseDataset):\n",
    "    def __init__(self, df, transform=None):\n",
    "        self.df = df\n",
    "        super().__init__(transform)\n",
    "        \n",
    "    def get_n(self):\n",
    "        return len(self.df)\n",
    "    \n",
    "    def get_c(self):\n",
    "        # 2 classes 1 or 0\n",
    "        return 2\n",
    "\n",
    "    def get_sz(self):\n",
    "        # All images are 1024x1024\n",
    "        return 1024\n",
    "    \n",
    "    def get_x(self, i):\n",
    "        row = self.df.iloc[i]\n",
    "        dcm_img = pydicom.dcmread(str(PATH/'stage_1_train_images'/f'{row.patientId}.dcm'))\n",
    "        img_arr = dcm_img.pixel_array\n",
    "        img_arr = np.stack((img_arr,) * 3).transpose(1, 2, 0)\n",
    "        return img_arr\n",
    "    \n",
    "    def get_y(self, i):\n",
    "        row = self.df.iloc[i]\n",
    "        return row.Target"
   ]
  },
  {
   "cell_type": "code",
   "execution_count": 35,
   "metadata": {},
   "outputs": [],
   "source": [
    "trn_tfms, val_tfms = tfms_from_model(resnet34, size)\n",
    "df = pd.read_csv(PATH/'train_target.csv')\n",
    "train_df = df.iloc[val_idxs]\n",
    "val_df = df.drop(val_idxs)"
   ]
  },
  {
   "cell_type": "code",
   "execution_count": 37,
   "metadata": {},
   "outputs": [],
   "source": [
    "train_ds = PneumoniaDataset(train_df, transform=trn_tfms)\n",
    "val_ds = PneumoniaDataset(val_df, transform=val_tfms)"
   ]
  },
  {
   "cell_type": "code",
   "execution_count": 38,
   "metadata": {},
   "outputs": [],
   "source": [
    "X, y = train_ds[100]"
   ]
  },
  {
   "cell_type": "code",
   "execution_count": 39,
   "metadata": {},
   "outputs": [
    {
     "data": {
      "text/plain": [
       "((3, 32, 32), 0)"
      ]
     },
     "execution_count": 39,
     "metadata": {},
     "output_type": "execute_result"
    }
   ],
   "source": [
    "X.shape, y"
   ]
  },
  {
   "cell_type": "code",
   "execution_count": 45,
   "metadata": {},
   "outputs": [],
   "source": [
    "batch_size = 16"
   ]
  },
  {
   "cell_type": "code",
   "execution_count": 46,
   "metadata": {},
   "outputs": [],
   "source": [
    "train_dl = DataLoader(train_ds, batch_size, shuffle=True)\n",
    "val_dl = DataLoader(val_ds, batch_size)"
   ]
  },
  {
   "cell_type": "code",
   "execution_count": 47,
   "metadata": {},
   "outputs": [],
   "source": [
    "X, y = next(iter(train_dl))"
   ]
  },
  {
   "cell_type": "code",
   "execution_count": 48,
   "metadata": {},
   "outputs": [
    {
     "data": {
      "text/plain": [
       "torch.Size([16, 3, 32, 32])"
      ]
     },
     "execution_count": 48,
     "metadata": {},
     "output_type": "execute_result"
    }
   ],
   "source": [
    "X.shape"
   ]
  },
  {
   "cell_type": "code",
   "execution_count": 49,
   "metadata": {},
   "outputs": [
    {
     "data": {
      "text/plain": [
       "torch.Size([16])"
      ]
     },
     "execution_count": 49,
     "metadata": {},
     "output_type": "execute_result"
    }
   ],
   "source": [
    "y.shape"
   ]
  },
  {
   "cell_type": "code",
   "execution_count": 50,
   "metadata": {},
   "outputs": [],
   "source": [
    "data = ModelData.from_dls(PATH, train_dl, val_dl)"
   ]
  },
  {
   "cell_type": "code",
   "execution_count": 53,
   "metadata": {},
   "outputs": [],
   "source": [
    "model = ConvnetBuilder(resnet34, c=train_ds.c, is_multi=False, is_reg=False, pretrained=True)\n",
    "learner = ConvLearner(data, model)"
   ]
  },
  {
   "cell_type": "code",
   "execution_count": 54,
   "metadata": {},
   "outputs": [
    {
     "data": {
      "application/vnd.jupyter.widget-view+json": {
       "model_id": "7407b21027cd4095ae162b09ea1a10ff",
       "version_major": 2,
       "version_minor": 0
      },
      "text/plain": [
       "HBox(children=(IntProgress(value=0, description='Epoch', max=1), HTML(value='')))"
      ]
     },
     "metadata": {},
     "output_type": "display_data"
    },
    {
     "name": "stdout",
     "output_type": "stream",
     "text": [
      " 74%|███████▍  | 238/321 [00:57<00:19,  4.16it/s, loss=2.56] "
     ]
    }
   ],
   "source": [
    "learner.lr_find()"
   ]
  },
  {
   "cell_type": "code",
   "execution_count": 55,
   "metadata": {},
   "outputs": [
    {
     "data": {
      "image/png": "[encoded data removed]",
      "text/plain": [
       "<Figure size 432x288 with 1 Axes>"
      ]
     },
     "metadata": {},
     "output_type": "display_data"
    }
   ],
   "source": [
    "learner.sched.plot()"
   ]
  },
  {
   "cell_type": "code",
   "execution_count": 57,
   "metadata": {},
   "outputs": [],
   "source": [
    "learner.fit(0.002, 1)"
   ]
  },
  {
   "cell_type": "markdown",
   "metadata": {},
   "source": [
    "## Example 3: wrapping a PyTorch in a Fast.ai friendly format"
   ]
  },
  {
   "cell_type": "markdown",
   "metadata": {},
   "source": [
    "The format for PyTorch is a bit simpler and less opinionate than Fast.ai. It only requires you to create 2 methods:\n",
    "\n",
    "* `__len__ `- return the length of the Dataset.\n",
    "* `__getitem__(self, idx)` - a single example."
   ]
  },
  {
   "cell_type": "code",
   "execution_count": 134,
   "metadata": {},
   "outputs": [],
   "source": [
    "class PneumoniaTorchDataset(torch.utils.data.Dataset):\n",
    "    def __init__(self, df):\n",
    "        self.df = df\n",
    "        \n",
    "    def __len__(self):\n",
    "        return len(self.df)\n",
    "    \n",
    "    def __getitem__(self, idx):\n",
    "        row = self.df.iloc[idx]\n",
    "        dcm_img = pydicom.dcmread(str(PATH/'stage_1_train_images'/f'{row.patientId}.dcm'))\n",
    "        img_arr = dcm_img.pixel_array\n",
    "        img_arr = np.stack((img_arr,) * 3).transpose(1, 2, 0)\n",
    "        \n",
    "        # Convert to float\n",
    "        img_arr = img_arr.astype(float) / 255\n",
    "        \n",
    "        return img_arr, row.Target"
   ]
  },
  {
   "cell_type": "markdown",
   "metadata": {},
   "source": [
    "We can wrap it into a Fast.ai format as follows:"
   ]
  },
  {
   "cell_type": "code",
   "execution_count": 135,
   "metadata": {},
   "outputs": [],
   "source": [
    "class TorchWrapperDataset(BaseDataset):\n",
    "    def __init__(self, torch_ds, nb_classes, transform=None):\n",
    "        self.torch_ds = torch_ds\n",
    "        self.nb_classes = nb_classes\n",
    "        super().__init__(transform)\n",
    "        \n",
    "    def __getitem__(self, idx):\n",
    "        return self.get(self.transform, *self.torch_ds[idx])\n",
    "    \n",
    "    def get_c(self):\n",
    "        return self.nb_classes\n",
    "    \n",
    "    def get_n(self):\n",
    "        return len(self.torch_ds)\n",
    "    \n",
    "    def get_sz(self):\n",
    "        x, _ = self[0]\n",
    "        return x.shape[1]"
   ]
  },
  {
   "cell_type": "code",
   "execution_count": 136,
   "metadata": {},
   "outputs": [],
   "source": [
    "train_torch_ds = PneumoniaTorchDataset(train_df)\n",
    "val_torch_ds = PneumoniaTorchDataset(val_df)"
   ]
  },
  {
   "cell_type": "code",
   "execution_count": 137,
   "metadata": {},
   "outputs": [],
   "source": [
    "train_ds = TorchWrapperDataset(train_torch_ds, 2, transform=trn_tfms)\n",
    "val_ds = TorchWrapperDataset(val_torch_ds, 2, transform=val_tfms)"
   ]
  },
  {
   "cell_type": "code",
   "execution_count": 138,
   "metadata": {},
   "outputs": [],
   "source": [
    "train_dl = DataLoader(train_ds, batch_size, shuffle=True)\n",
    "val_dl = DataLoader(val_ds, batch_size)"
   ]
  },
  {
   "cell_type": "code",
   "execution_count": 139,
   "metadata": {},
   "outputs": [],
   "source": [
    "data = ModelData.from_dls(PATH, train_dl, val_dl)"
   ]
  },
  {
   "cell_type": "code",
   "execution_count": 140,
   "metadata": {},
   "outputs": [],
   "source": [
    "model = ConvnetBuilder(resnet34, c=train_ds.c, is_multi=False, is_reg=False, pretrained=True)\n",
    "learner = ConvLearner(data, model)"
   ]
  },
  {
   "cell_type": "code",
   "execution_count": 141,
   "metadata": {},
   "outputs": [
    {
     "data": {
      "application/vnd.jupyter.widget-view+json": {
       "model_id": "2db2a862910c4a57a5e599086a4bc17e",
       "version_major": 2,
       "version_minor": 0
      },
      "text/plain": [
       "HBox(children=(IntProgress(value=0, description='Epoch', max=1), HTML(value='')))"
      ]
     },
     "metadata": {},
     "output_type": "display_data"
    },
    {
     "name": "stdout",
     "output_type": "stream",
     "text": [
      " 74%|███████▍  | 237/321 [01:46<00:37,  2.22it/s, loss=2.49] "
     ]
    }
   ],
   "source": [
    "learner.lr_find()"
   ]
  },
  {
   "cell_type": "code",
   "execution_count": 142,
   "metadata": {},
   "outputs": [
    {
     "data": {
      "image/png": "[encoded data removed]",
      "text/plain": [
       "<Figure size 432x288 with 1 Axes>"
      ]
     },
     "metadata": {},
     "output_type": "display_data"
    }
   ],
   "source": [
    "learner.sched.plot()"
   ]
  },
  {
   "cell_type": "code",
   "execution_count": null,
   "metadata": {},
   "outputs": [
    {
     "data": {
      "application/vnd.jupyter.widget-view+json": {
       "model_id": "220800e1330e4d0ba3e7f4eec4e2d825",
       "version_major": 2,
       "version_minor": 0
      },
      "text/plain": [
       "HBox(children=(IntProgress(value=0, description='Epoch', max=1), HTML(value='')))"
      ]
     },
     "metadata": {},
     "output_type": "display_data"
    },
    {
     "name": "stdout",
     "output_type": "stream",
     "text": [
      " 23%|██▎       | 73/321 [00:32<01:51,  2.22it/s, loss=0.65] "
     ]
    }
   ],
   "source": [
    "learner.fit(0.002, 1)"
   ]
  }
 ],
 "metadata": {
  "kernelspec": {
   "display_name": "Python 3",
   "language": "python",
   "name": "python3"
  },
  "language_info": {
   "codemirror_mode": {
    "name": "ipython",
    "version": 3
   },
   "file_extension": ".py",
   "mimetype": "text/x-python",
   "name": "python",
   "nbconvert_exporter": "python",
   "pygments_lexer": "ipython3",
   "version": "3.6.6"
  }
 },
 "nbformat": 4,
 "nbformat_minor": 2
}
