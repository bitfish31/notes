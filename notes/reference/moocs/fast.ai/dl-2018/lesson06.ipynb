{
 "cells": [
  {
   "cell_type": "markdown",
   "metadata": {},
   "source": [
    "# Lesson 6"
   ]
  },
  {
   "cell_type": "markdown",
   "metadata": {},
   "source": [
    "## 00:00:15 - Blog posts\n",
    "\n",
    "* [Optimization for Deep Learning Highlights in 2017](http://ruder.io/deep-learning-optimization-2017/) by Sebastian Ruder\n",
    "  * Covers learning rate tuning techniques.\n",
    "  * Optimization stuff covered in Fast.ai\n",
    "\n",
    "## 00:02:18 - Collaborative filter review\n",
    "\n",
    "* Model recap: summed to user and movie embeddings, adde the relevant biases and pushed through a sigmoid to force it between 1 and 5.\n",
    "\n",
    "### 00:03:29 - Interpretting model results\n",
    "\n",
    "* Retrain model from last lesson:"
   ]
  },
  {
   "cell_type": "code",
   "execution_count": 1,
   "metadata": {},
   "outputs": [],
   "source": [
    "%reload_ext autoreload\n",
    "%autoreload 2\n",
    "%matplotlib inline\n",
    "\n",
    "from fastai.fastai.learner import *\n",
    "from fastai.fastai.column_data import *"
   ]
  },
  {
   "cell_type": "code",
   "execution_count": 2,
   "metadata": {},
   "outputs": [],
   "source": [
    "PATH = 'data/ml-latest-small/'"
   ]
  },
  {
   "cell_type": "code",
   "execution_count": 3,
   "metadata": {},
   "outputs": [
    {
     "name": "stdout",
     "output_type": "stream",
     "text": [
      "total 7936\r\n",
      "-rw-r--r--  1 lex  staff     8364 18 Oct  2016 README.txt\r\n",
      "-rw-r--r--  1 lex  staff   183372 18 Oct  2016 links.csv\r\n",
      "drwxr-xr-x  7 lex  staff      238 18 Oct  2016 \u001b[34mml-latest-small\u001b[m\u001b[m\r\n",
      "-rw-r--r--  1 lex  staff   918269 18 Oct  2016 ml-latest-small.zip\r\n",
      "drwxr-xr-x  2 lex  staff       68 23 Apr 17:31 \u001b[34mmodels\u001b[m\u001b[m\r\n",
      "-rw-r--r--  1 lex  staff   458390 18 Oct  2016 movies.csv\r\n",
      "-rw-r--r--  1 lex  staff  2438266 18 Oct  2016 ratings.csv\r\n",
      "-rw-r--r--  1 lex  staff    41902 18 Oct  2016 tags.csv\r\n",
      "drwxr-xr-x  2 lex  staff       68 23 Apr 17:31 \u001b[34mtmp\u001b[m\u001b[m\r\n"
     ]
    }
   ],
   "source": [
    "!ls -l {PATH}"
   ]
  },
  {
   "cell_type": "code",
   "execution_count": 10,
   "metadata": {},
   "outputs": [],
   "source": [
    "ratings = pd.read_csv(f'{PATH}ratings.csv')\n",
    "movies = pd.read_csv(f'{PATH}movies.csv')"
   ]
  },
  {
   "cell_type": "code",
   "execution_count": 14,
   "metadata": {},
   "outputs": [
    {
     "data": {
      "text/html": [
       "<div>\n",
       "<style scoped>\n",
       "    .dataframe tbody tr th:only-of-type {\n",
       "        vertical-align: middle;\n",
       "    }\n",
       "\n",
       "    .dataframe tbody tr th {\n",
       "        vertical-align: top;\n",
       "    }\n",
       "\n",
       "    .dataframe thead th {\n",
       "        text-align: right;\n",
       "    }\n",
       "</style>\n",
       "<table border=\"1\" class=\"dataframe\">\n",
       "  <thead>\n",
       "    <tr style=\"text-align: right;\">\n",
       "      <th></th>\n",
       "      <th>userId</th>\n",
       "      <th>movieId</th>\n",
       "      <th>rating</th>\n",
       "      <th>timestamp</th>\n",
       "    </tr>\n",
       "  </thead>\n",
       "  <tbody>\n",
       "    <tr>\n",
       "      <th>0</th>\n",
       "      <td>1</td>\n",
       "      <td>31</td>\n",
       "      <td>2.5</td>\n",
       "      <td>1260759144</td>\n",
       "    </tr>\n",
       "    <tr>\n",
       "      <th>1</th>\n",
       "      <td>1</td>\n",
       "      <td>1029</td>\n",
       "      <td>3.0</td>\n",
       "      <td>1260759179</td>\n",
       "    </tr>\n",
       "    <tr>\n",
       "      <th>2</th>\n",
       "      <td>1</td>\n",
       "      <td>1061</td>\n",
       "      <td>3.0</td>\n",
       "      <td>1260759182</td>\n",
       "    </tr>\n",
       "    <tr>\n",
       "      <th>3</th>\n",
       "      <td>1</td>\n",
       "      <td>1129</td>\n",
       "      <td>2.0</td>\n",
       "      <td>1260759185</td>\n",
       "    </tr>\n",
       "    <tr>\n",
       "      <th>4</th>\n",
       "      <td>1</td>\n",
       "      <td>1172</td>\n",
       "      <td>4.0</td>\n",
       "      <td>1260759205</td>\n",
       "    </tr>\n",
       "  </tbody>\n",
       "</table>\n",
       "</div>"
      ],
      "text/plain": [
       "   userId  movieId  rating   timestamp\n",
       "0       1       31     2.5  1260759144\n",
       "1       1     1029     3.0  1260759179\n",
       "2       1     1061     3.0  1260759182\n",
       "3       1     1129     2.0  1260759185\n",
       "4       1     1172     4.0  1260759205"
      ]
     },
     "execution_count": 14,
     "metadata": {},
     "output_type": "execute_result"
    }
   ],
   "source": [
    "ratings.head()"
   ]
  },
  {
   "cell_type": "code",
   "execution_count": 11,
   "metadata": {},
   "outputs": [],
   "source": [
    "val_idxs = get_cv_idxs(len(ratings))\n",
    "wd = 2e-4\n",
    "n_factors = 50"
   ]
  },
  {
   "cell_type": "code",
   "execution_count": 12,
   "metadata": {},
   "outputs": [],
   "source": [
    "cf = CollabFilterDataset.from_csv(PATH, 'ratings.csv', 'userId', 'movieId', 'rating')\n",
    "learn = cf.get_learner(n_factors, val_idxs, 64, opt_fn=optim.Adam)"
   ]
  },
  {
   "cell_type": "code",
   "execution_count": 16,
   "metadata": {},
   "outputs": [
    {
     "data": {
      "application/vnd.jupyter.widget-view+json": {
       "model_id": "d236b7ad0afe4e88878670598e9a7b05",
       "version_major": 2,
       "version_minor": 0
      },
      "text/plain": [
       "HBox(children=(IntProgress(value=0, description='Epoch', max=3), HTML(value='')))"
      ]
     },
     "metadata": {},
     "output_type": "display_data"
    },
    {
     "name": "stdout",
     "output_type": "stream",
     "text": [
      "epoch      trn_loss   val_loss                                 \n",
      "    0      0.787726   0.808975  \n",
      "    1      0.741712   0.778309                                 \n",
      "    2      0.593008   0.764146                                 \n",
      "\n"
     ]
    },
    {
     "data": {
      "text/plain": [
       "[0.7641464]"
      ]
     },
     "execution_count": 16,
     "metadata": {},
     "output_type": "execute_result"
    }
   ],
   "source": [
    "learn.fit(1e-2, 2, wds=wd, cycle_len=1, cycle_mult=2)"
   ]
  },
  {
   "cell_type": "code",
   "execution_count": 17,
   "metadata": {},
   "outputs": [
    {
     "data": {
      "text/plain": [
       "0.8741544485958989"
      ]
     },
     "execution_count": 17,
     "metadata": {},
     "output_type": "execute_result"
    }
   ],
   "source": [
    "math.sqrt(0.764146)"
   ]
  },
  {
   "cell_type": "code",
   "execution_count": 21,
   "metadata": {},
   "outputs": [],
   "source": [
    "movie_names = movies.set_index('movieId')['title'].to_dict()\n",
    "g = ratings.groupby('movieId')['rating'].count()\n",
    "top_movies = g.sort_values(ascending=False).index.values[:3000]\n",
    "top_movie_idx = np.array([cf.item2idx[o] for o in topMovies])"
   ]
  },
  {
   "cell_type": "markdown",
   "metadata": {},
   "source": [
    "* Can grab model attribute from `learn` as follows:"
   ]
  },
  {
   "cell_type": "code",
   "execution_count": 18,
   "metadata": {},
   "outputs": [],
   "source": [
    "m = learn.model"
   ]
  },
  {
   "cell_type": "code",
   "execution_count": 19,
   "metadata": {},
   "outputs": [
    {
     "data": {
      "text/plain": [
       "EmbeddingDotBias(\n",
       "  (u): Embedding(671, 50)\n",
       "  (i): Embedding(9066, 50)\n",
       "  (ub): Embedding(671, 1)\n",
       "  (ib): Embedding(9066, 1)\n",
       ")"
      ]
     },
     "execution_count": 19,
     "metadata": {},
     "output_type": "execute_result"
    }
   ],
   "source": [
    "m"
   ]
  },
  {
   "cell_type": "markdown",
   "metadata": {},
   "source": [
    "* Nice thing about PyTorch layers and models is they can be called as if they were a function.\n",
    "  * To get a prediction from `m` you could call `m(...)`."
   ]
  },
  {
   "cell_type": "code",
   "execution_count": 22,
   "metadata": {},
   "outputs": [],
   "source": [
    "movie_bias = to_np(m.ib(V(top_movie_idx)))"
   ]
  },
  {
   "cell_type": "code",
   "execution_count": 23,
   "metadata": {},
   "outputs": [],
   "source": [
    "movie_ratings = [(b[0], movie_names[i]) for i, b in zip(top_movies, movie_bias)]"
   ]
  },
  {
   "cell_type": "markdown",
   "metadata": {},
   "source": [
    "* Note: new version of PyTorch has done away with Variables (`V`): everything is done with tensors.\n",
    "* Fetching the top 3000 movie biases, returns you the following:"
   ]
  },
  {
   "cell_type": "code",
   "execution_count": 24,
   "metadata": {},
   "outputs": [
    {
     "data": {
      "text/plain": [
       "array([[ 0.81051],\n",
       "       [ 0.9317 ],\n",
       "       [ 1.28804],\n",
       "       ...,\n",
       "       [ 0.35272],\n",
       "       [-0.07444],\n",
       "       [ 0.23843]], dtype=float32)"
      ]
     },
     "execution_count": 24,
     "metadata": {},
     "output_type": "execute_result"
    }
   ],
   "source": [
    "movie_bias"
   ]
  },
  {
   "cell_type": "markdown",
   "metadata": {},
   "source": [
    "* Jeremy's approach to PyTorch vs Numpy: try to use Numpy for everything, because it tends to be easier to work with. Use PyTorch when you need the GPU.\n",
    "\n",
    "### 00:13:11 - Audience questions\n",
    "\n",
    "* Q1: If you wanted to build a model with the GPU, how would you bring it to production (if you wanted to do inference on a CPU)?\n",
    "* A1: You can move a model onto the CPU with `m.cpu()`:"
   ]
  },
  {
   "cell_type": "code",
   "execution_count": 27,
   "metadata": {},
   "outputs": [
    {
     "data": {
      "text/plain": [
       "EmbeddingDotBias(\n",
       "  (u): Embedding(671, 50)\n",
       "  (i): Embedding(9066, 50)\n",
       "  (ub): Embedding(671, 1)\n",
       "  (ib): Embedding(9066, 1)\n",
       ")"
      ]
     },
     "execution_count": 27,
     "metadata": {},
     "output_type": "execute_result"
    }
   ],
   "source": [
    "m.cpu()"
   ]
  },
  {
   "cell_type": "markdown",
   "metadata": {},
   "source": [
    "* You can also move your variable to the cpu with the same method.\n",
    "* Note: if you machine doesn't have a GPU, then the model will default to being on the CPU.\n",
    "\n",
    "* Q2: If you train the model on the GPU, then save the embeddings and weights, do we have to do anything special to load to CPU?\n",
    "* A2: The `load_model` function in Fast.ai will do that for you."
   ]
  },
  {
   "cell_type": "markdown",
   "metadata": {},
   "source": [
    "### 00:15:40 - Zip function in Python"
   ]
  },
  {
   "cell_type": "markdown",
   "metadata": {},
   "source": [
    "* Iterates through a number of lists at the same time:"
   ]
  },
  {
   "cell_type": "code",
   "execution_count": 30,
   "metadata": {},
   "outputs": [
    {
     "data": {
      "text/plain": [
       "[(1, -1), (2, -2), (3, -3)]"
      ]
     },
     "execution_count": 30,
     "metadata": {},
     "output_type": "execute_result"
    }
   ],
   "source": [
    "[(a, b) for (a, b) in zip([1, 2, 3], [-1, -2, -3])]"
   ]
  },
  {
   "cell_type": "markdown",
   "metadata": {},
   "source": [
    "### 00:16:13 - Worst and best movies"
   ]
  },
  {
   "cell_type": "markdown",
   "metadata": {},
   "source": [
    "* Take a look at the lowest rated movies:"
   ]
  },
  {
   "cell_type": "code",
   "execution_count": 26,
   "metadata": {},
   "outputs": [
    {
     "data": {
      "text/plain": [
       "[(-0.9591357, 'Battlefield Earth (2000)'),\n",
       " (-0.7401198, 'Super Mario Bros. (1993)'),\n",
       " (-0.723327, 'Wild Wild West (1999)'),\n",
       " (-0.7153927, 'Anaconda (1997)'),\n",
       " (-0.7062837, 'Speed 2: Cruise Control (1997)'),\n",
       " (-0.6958769, 'Batman & Robin (1997)'),\n",
       " (-0.6637389, 'Inspector Gadget (1999)'),\n",
       " (-0.6420721, 'Mighty Morphin Power Rangers: The Movie (1995)'),\n",
       " (-0.60726595, 'Congo (1995)'),\n",
       " (-0.6037548, \"Joe's Apartment (1996)\"),\n",
       " (-0.6008505, 'Police Academy 5: Assignment: Miami Beach (1988)'),\n",
       " (-0.6002087, 'Police Academy 6: City Under Siege (1989)'),\n",
       " (-0.5987116, 'Flintstones, The (1994)'),\n",
       " (-0.593846, 'Jaws 3-D (1983)'),\n",
       " (-0.59237915, 'Message in a Bottle (1999)')]"
      ]
     },
     "execution_count": 26,
     "metadata": {},
     "output_type": "execute_result"
    }
   ],
   "source": [
    "sorted(movie_ratings, key=lambda o: o[0])[:15]"
   ]
  },
  {
   "cell_type": "markdown",
   "metadata": {},
   "source": [
    "* This is a much more authenticate way to find out the worst movies, because averages can be skewed to popular movies.\n",
    "  * The model removes the fact that people have different way of rating movies and different people have different tastes."
   ]
  },
  {
   "cell_type": "markdown",
   "metadata": {},
   "source": [
    "* Look at the highest rated movies:"
   ]
  },
  {
   "cell_type": "code",
   "execution_count": 31,
   "metadata": {},
   "outputs": [
    {
     "data": {
      "text/plain": [
       "[(1.2880398, 'Shawshank Redemption, The (1994)'),\n",
       " (1.1235328, 'Godfather, The (1972)'),\n",
       " (1.0433998, 'Usual Suspects, The (1995)'),\n",
       " (1.0182344, \"Schindler's List (1993)\"),\n",
       " (0.9418984, 'Godfather: Part II, The (1974)'),\n",
       " (0.9316962, 'Pulp Fiction (1994)'),\n",
       " (0.90957385, 'Fargo (1996)'),\n",
       " (0.8903549, 'Star Wars: Episode IV - A New Hope (1977)'),\n",
       " (0.8833299, '12 Angry Men (1957)'),\n",
       " (0.8742964, 'To Kill a Mockingbird (1962)'),\n",
       " (0.86819565, 'Silence of the Lambs, The (1991)'),\n",
       " (0.85250616, 'Memento (2000)'),\n",
       " (0.83772075,\n",
       "  'Léon: The Professional (a.k.a. The Professional) (Léon) (1994)'),\n",
       " (0.81366545, 'Casablanca (1942)'),\n",
       " (0.81237787, \"Amelie (Fabuleux destin d'Amélie Poulain, Le) (2001)\")]"
      ]
     },
     "execution_count": 31,
     "metadata": {},
     "output_type": "execute_result"
    }
   ],
   "source": [
    "sorted(movie_ratings, key=lambda o: o[0], reverse=True)[:15]"
   ]
  },
  {
   "cell_type": "markdown",
   "metadata": {},
   "source": [
    "* Do the same thing for embeddings:"
   ]
  },
  {
   "cell_type": "code",
   "execution_count": 33,
   "metadata": {},
   "outputs": [
    {
     "data": {
      "text/plain": [
       "(3000, 50)"
      ]
     },
     "execution_count": 33,
     "metadata": {},
     "output_type": "execute_result"
    }
   ],
   "source": [
    "movie_emb = to_np(m.i(V(top_movie_idx)))\n",
    "movie_emb.shape"
   ]
  },
  {
   "cell_type": "markdown",
   "metadata": {},
   "source": [
    "### 00:19:09 - Dimensionality reduction with PCA"
   ]
  },
  {
   "cell_type": "markdown",
   "metadata": {},
   "source": [
    "* Can \"compress\" from high dimensional spaces into lower dim spaces using PCA.\n",
    "  * PCA: principle components analysis.\n",
    "  * Linear technique.\n",
    "  * Almost identical to [Singular-Value Decomposition](https://en.wikipedia.org/wiki/Singular-value_decomposition). \n",
    "  * Covered in [Computational Linear Algebra](https://github.com/fastai/numerical-linear-algebra/blob/master/README.md)"
   ]
  },
  {
   "cell_type": "code",
   "execution_count": 34,
   "metadata": {},
   "outputs": [],
   "source": [
    "from sklearn.decomposition import PCA"
   ]
  },
  {
   "cell_type": "code",
   "execution_count": 35,
   "metadata": {},
   "outputs": [],
   "source": [
    "pca = PCA(n_components=3)"
   ]
  },
  {
   "cell_type": "code",
   "execution_count": 36,
   "metadata": {},
   "outputs": [],
   "source": [
    "movie_pca = pca.fit(movie_emb.T).components_"
   ]
  },
  {
   "cell_type": "code",
   "execution_count": 37,
   "metadata": {},
   "outputs": [
    {
     "data": {
      "text/plain": [
       "(3, 3000)"
      ]
     },
     "execution_count": 37,
     "metadata": {},
     "output_type": "execute_result"
    }
   ],
   "source": [
    "movie_pca.shape"
   ]
  },
  {
   "cell_type": "markdown",
   "metadata": {},
   "source": [
    "* PCA tends to reduce down to the the \"main\" axis within a set of latent factors."
   ]
  },
  {
   "cell_type": "markdown",
   "metadata": {},
   "source": [
    "### 00:21:12 - Component analysis\n",
    "\n",
    "* Don't know ahead of time what PCA is: it's just the main axis in the space of latent factors.\n",
    "* Can look at it to interpret.\n",
    "\n",
    "* First component:"
   ]
  },
  {
   "cell_type": "code",
   "execution_count": 59,
   "metadata": {},
   "outputs": [],
   "source": [
    "fac0 = movie_pca[0]\n",
    "movie_comp = [(f, movie_names[i]) for f,i in zip(fac0, top_movies)]"
   ]
  },
  {
   "cell_type": "code",
   "execution_count": 60,
   "metadata": {},
   "outputs": [
    {
     "data": {
      "text/plain": [
       "[(-0.080935515, 'Chinatown (1974)'),\n",
       " (-0.06930936, 'Apocalypse Now (1979)'),\n",
       " (-0.06785644, 'Fargo (1996)'),\n",
       " (-0.06697278, 'Pulp Fiction (1994)'),\n",
       " (-0.06695497, 'Godfather: Part II, The (1974)'),\n",
       " (-0.066652894, 'Taxi Driver (1976)'),\n",
       " (-0.06514279, 'Goodfellas (1990)'),\n",
       " (-0.064437844, 'Shining, The (1980)'),\n",
       " (-0.06320854, 'Godfather, The (1972)'),\n",
       " (-0.062057443, '2001: A Space Odyssey (1968)')]"
      ]
     },
     "execution_count": 60,
     "metadata": {},
     "output_type": "execute_result"
    }
   ],
   "source": [
    "sorted(movie_comp, key=itemgetter(0))[:10]"
   ]
  },
  {
   "cell_type": "code",
   "execution_count": 61,
   "metadata": {},
   "outputs": [
    {
     "data": {
      "text/plain": [
       "[(0.06526648, 'Waterworld (1995)'),\n",
       " (0.06304584, 'Armageddon (1998)'),\n",
       " (0.060279433, 'Independence Day (a.k.a. ID4) (1996)'),\n",
       " (0.059048332, 'Home Alone 3 (1997)'),\n",
       " (0.057475068, 'Police Academy 3: Back in Training (1986)'),\n",
       " (0.056599334, 'Batman Forever (1995)'),\n",
       " (0.0562668, 'Lethal Weapon 4 (1998)'),\n",
       " (0.05254713, 'Police Academy 5: Assignment: Miami Beach (1988)'),\n",
       " (0.052326966, 'Police Academy 4: Citizens on Patrol (1987)'),\n",
       " (0.05208972, 'Evolution (2001)')]"
      ]
     },
     "execution_count": 61,
     "metadata": {},
     "output_type": "execute_result"
    }
   ],
   "source": [
    "sorted(movie_comp, key=itemgetter(0), reverse=True)[:10]"
   ]
  },
  {
   "cell_type": "markdown",
   "metadata": {},
   "source": [
    "* Appears to be serious vs easy watching or class vs blockbustter."
   ]
  },
  {
   "cell_type": "code",
   "execution_count": 62,
   "metadata": {},
   "outputs": [],
   "source": [
    "fac1 = movie_pca[1]\n",
    "movie_comp = [(f, movie_names[i]) for f,i in zip(fac1, top_movies)]"
   ]
  },
  {
   "cell_type": "code",
   "execution_count": 63,
   "metadata": {},
   "outputs": [
    {
     "data": {
      "text/plain": [
       "[(-0.10190022, 'Star Wars: Episode V - The Empire Strikes Back (1980)'),\n",
       " (-0.0947872, 'Star Wars: Episode IV - A New Hope (1977)'),\n",
       " (-0.09291439, 'Dark Knight, The (2008)'),\n",
       " (-0.08668499, 'Forrest Gump (1994)'),\n",
       " (-0.08604461,\n",
       "  'Raiders of the Lost Ark (Indiana Jones and the Raiders of the Lost Ark) (1981)'),\n",
       " (-0.08211905, 'Star Wars: Episode VI - Return of the Jedi (1983)'),\n",
       " (-0.08165834, 'Shrek (2001)'),\n",
       " (-0.08057916, 'Jurassic Park (1993)'),\n",
       " (-0.0805724, 'Lord of the Rings: The Return of the King, The (2003)'),\n",
       " (-0.07866651, 'Aladdin (1992)')]"
      ]
     },
     "execution_count": 63,
     "metadata": {},
     "output_type": "execute_result"
    }
   ],
   "source": [
    "sorted(movie_comp, key=lambda a: a[0])[:10]"
   ]
  },
  {
   "cell_type": "code",
   "execution_count": 64,
   "metadata": {},
   "outputs": [
    {
     "data": {
      "text/plain": [
       "[(0.05422154, 'Coneheads (1993)'),\n",
       " (0.0527766, 'Catwoman (2004)'),\n",
       " (0.048542097, 'Leaving Las Vegas (1995)'),\n",
       " (0.046938952, 'Deer Hunter, The (1978)'),\n",
       " (0.04638239, \"Hard Day's Night, A (1964)\"),\n",
       " (0.045679945, '8 1/2 (8½) (1963)'),\n",
       " (0.044834152, 'Flintstones, The (1994)'),\n",
       " (0.042646885, \"Pee-wee's Big Adventure (1985)\"),\n",
       " (0.042472742, 'Next Karate Kid, The (1994)'),\n",
       " (0.042354237, 'Bowfinger (1999)')]"
      ]
     },
     "execution_count": 64,
     "metadata": {},
     "output_type": "execute_result"
    }
   ],
   "source": [
    "sorted(movie_comp, key=lambda a: a[0], reverse=True)[:10]"
   ]
  },
  {
   "cell_type": "markdown",
   "metadata": {},
   "source": [
    "* Maybe \"crowd favorite\" vs \"polarising\"?"
   ]
  },
  {
   "cell_type": "code",
   "execution_count": 65,
   "metadata": {},
   "outputs": [],
   "source": [
    "fac2 = movie_pca[2]\n",
    "movie_comp = [(f, movie_names[i]) for f,i in zip(fac2, top_movies)]"
   ]
  },
  {
   "cell_type": "code",
   "execution_count": 66,
   "metadata": {},
   "outputs": [
    {
     "data": {
      "text/plain": [
       "[(-0.061886344, 'Babe (1995)'),\n",
       " (-0.056167528, 'Lord of the Rings: The Return of the King, The (2003)'),\n",
       " (-0.055531766, \"Schindler's List (1993)\"),\n",
       " (-0.054243114, 'Hugo (2011)'),\n",
       " (-0.05321637, 'Space Jam (1996)'),\n",
       " (-0.052668817, 'Sense and Sensibility (1995)'),\n",
       " (-0.052206617, 'Bend It Like Beckham (2002)'),\n",
       " (-0.05192298, 'Simpsons Movie, The (2007)'),\n",
       " (-0.05108752, 'Mission: Impossible II (2000)'),\n",
       " (-0.05041575, 'Pleasantville (1998)')]"
      ]
     },
     "execution_count": 66,
     "metadata": {},
     "output_type": "execute_result"
    }
   ],
   "source": [
    "sorted(movie_comp, key=lambda a: a[0])[:10]"
   ]
  },
  {
   "cell_type": "code",
   "execution_count": 67,
   "metadata": {},
   "outputs": [
    {
     "data": {
      "text/plain": [
       "[(0.0783781, 'Clockwork Orange, A (1971)'),\n",
       " (0.07714958, 'Eyes Wide Shut (1999)'),\n",
       " (0.073235996, 'American Pie (1999)'),\n",
       " (0.066598274, 'Fight Club (1999)'),\n",
       " (0.06598015, 'Secretary (2002)'),\n",
       " (0.06425408, 'Clue (1985)'),\n",
       " (0.064237244, 'Beetlejuice (1988)'),\n",
       " (0.06398785, 'True Lies (1994)'),\n",
       " (0.063914016, 'Game, The (1997)'),\n",
       " (0.061613325, \"Ferris Bueller's Day Off (1986)\")]"
      ]
     },
     "execution_count": 67,
     "metadata": {},
     "output_type": "execute_result"
    }
   ],
   "source": [
    "sorted(movie_comp, key=lambda a: a[0], reverse=True)[:10]"
   ]
  },
  {
   "cell_type": "markdown",
   "metadata": {},
   "source": [
    "* can draw a scatterplot of the first 2 components:"
   ]
  },
  {
   "cell_type": "code",
   "execution_count": 57,
   "metadata": {},
   "outputs": [],
   "source": [
    "indexes = np.random.choice(len(top_movies), 50, replace=False)"
   ]
  },
  {
   "cell_type": "code",
   "execution_count": 68,
   "metadata": {},
   "outputs": [],
   "source": [
    "X = fac0[indexes]\n",
    "Y = fac1[indexes]"
   ]
  },
  {
   "cell_type": "code",
   "execution_count": 70,
   "metadata": {},
   "outputs": [
    {
     "data": {
      "image/png": "[encoded data removed]",
      "text/plain": [
       "<Figure size 1080x1080 with 1 Axes>"
      ]
     },
     "metadata": {},
     "output_type": "display_data"
    }
   ],
   "source": [
    "plt.figure(figsize=(15, 15 ))\n",
    "plt.scatter(X, Y)\n",
    "for i, x, y in zip(top_movies[indexes], X, Y):\n",
    "    plt.text(x, y, movie_names[i], color=np.random.rand(3) * 0.7, fontsize=11)\n",
    "plt.show()"
   ]
  },
  {
   "cell_type": "markdown",
   "metadata": {},
   "source": [
    "## 00:24:24- Evaluating embeddings of other models\n",
    "\n",
    "* Q1: Can you interpet other types of embeddings (like the Rossman ones)?\n",
    "* A1: Yes (starts next section).\n",
    "\n",
    "* [Entity Embeddings of Categorical Variables](https://arxiv.org/pdf/1604.06737.pdf) paper\n",
    "\n",
    "<img src=\"https://i.gyazo.com/de8636a39e408cb9b45741c41fa30663.gif\" width=600px>\n",
    "\n",
    "* Embeddings are just simple matrix multiples with one-hot encoded vector:\n",
    "  \n",
    "    Example: \n",
    "  \n",
    "    * Cat 1: `[1, 0, 0]`\n",
    "    * Cat 2: `[0, 1, 0]`\n",
    "    * Cat 3: `[0, 0, 1]`\n",
    "  \n",
    "    Embedding matrix:\n",
    "  \n",
    "     `\n",
    "     [0.1 0.2 0.3]\n",
    "     [0.4 0.5 0.6]\n",
    "     [0.7 0.8 0.9]\n",
    "     `\n",
    "  \n",
    "    * Cat 1 emb (transposed): `[0.1,0.2, 0.3]`\n",
    "    * Cat 2 emb (transposed): `[0.4, 0.5, 0.6]`\n",
    "    * Cat 3 emb (transposed): `[0.7, 0.8, 0.9]`\n",
    "    \n",
    "* Paper uses neural net trained embeddings, replacing categorical variable with entity embeddings and feeds it into gradient boosted trees (GBM) and random forest and gets similar performance to neural network (not sure what problem).\n",
    "  * Good way to give people who don't know neural networks, the power of NNs with conventional neural networks.\n",
    "  * Also, random forests tend to learn a lot faster than neural networks.\n",
    "  \n",
    "* By plotting city embeddings, the states that are close to each other, were close in lower dimensional space:\n",
    "\n",
    "  <img src=\"https://i.gyazo.com/67c9cd8f3d5b79747a45be86e9c8ac96.gif\" width=600px>\n",
    "  \n",
    "* Plotting embeddings hasn't really been widely studied.\n",
    "\n",
    "### 00:31:30 - Audience questions\n",
    "\n",
    "* Q1: How does this approach for generating embeddings work compared to skip grams?\n",
    "* A1: Skip grams are specific to NLP. They turn an unlabeled problem into labelled by replacing a word from a sentence for some set of sentences, then have the neural network try to figure out if the which ones are changed.\n",
    "  * Comes from Word2Vec.\n",
    "  * Jeremy thinks we should pretrain embeddings ourselves and move past Glove and Word2Vec.\n",
    "\n",
    "* Q2: Is a dummy task required for training embeddings?\n",
    "* A2: Not necessary, in the Rossman example we used a \"real\" task - predicting store sales.\n",
    "\n",
    "* Q3: Does the task matter for generating the embeddings?\n",
    "* A3: It hasn't been studied enough - lot's of possiblities for that.\n",
    "\n",
    "* Q4: When training language models, is an embedding learned on one dataset, useful for antoher one?\n",
    "* Q5: More research is required.\n",
    "\n",
    "## 00:41:03 - More on Rossman\n",
    "\n",
    "* Best not to come into dataset preparation with any assumptions: deleting stores with no sales may have preventing the model learning that days before tend to have more sales\n",
    "\n",
    "### 00:43:12  - Audience questions\n",
    "\n",
    "* Q1: Can you define shallow learning better?\n",
    "* A1: Anything that doesn't have a hidden layer: just a dot product.\n",
    "\n",
    "### 00:43:37 - Rossman cont.\n",
    "\n",
    "* Public score would have put him at 338th place on the Public Leaderboard, yet 3rd on the Private.\n",
    "* 3rd place winner deleted all closed days from the dataset: may have won if he had of seen this visualisation that shows the impact of keep closed stores in the dataset. Can see the anomaly with sales before and after closed days:\n",
    "\n",
    "<img src=\"https://i.gyazo.com/3f57b7961c5f24b0fee5a5eac53d32ea.gif\" width=400px>\n",
    "  \n",
    "  * Important to avoid assumptions when preparing the data: let the results speak for themselves.\n",
    "  \n",
    "## 00:49:04 - Techniques for exploring the code base\n",
    "\n",
    "* Can get the source code of a class of function using `??`: `ColumnarModelData??`\n",
    "* Most editors support ability to open stuff directly via SSH and to navigate through jumping from definition to definition.\n",
    "* In Vim, can use `*` on some definition to find other uses of it in a file.\n",
    "* `ColumnarModelData.get_learner` returns a `StructuredLearner`, which wraps a `MixedInputModel`.\n",
    "\n",
    "### 00:51:08 - `MixedInputModel`\n",
    "\n",
    "#### 00:52:00 - Audience questions\n",
    "\n",
    "* Q1: Does MixedInputModel always expect categorical embeddings and continuous data?\n",
    "* A1: Yes, can past an empty lift for either and it will deal with them.\n",
    "  * Fast.ai doesn't deal with a lot of edge cases because PyTorch has plans to do away with Variables in later versions, which should change a lot of the required hacks.\n",
    "  \n",
    "* Q2: How can we write something that is slightly different from what is in the library?\n",
    "* A2: Covered next week but mostly in Part 2.\n",
    "\n",
    "***\n",
    "\n",
    "* `emb_szs` is a list of tuples which include the number of rows (how many unique classes there are) and embedding size (how many elements in the vector).\n",
    "* `__init__` (constructor) walkthrough:\n",
    "\n",
    "  * The first line of the constructor initialises the embeddings:\n",
    "  \n",
    "    ```\n",
    "    self.embs = nn.ModuleList([nn.Embedding(c, s) for c, s in emb_szs])\n",
    "    ```\n",
    "    \n",
    "      * `ModuleList` is used to register layers inside a list.\n",
    "      \n",
    "  * Later, we create the linear layers, create one initial layer and any additional ones passed in:\n",
    "  \n",
    "    ```\n",
    "    szs = [n_emb+n_cont] + szs\n",
    "    self.lins = nn.ModuleList([\n",
    "        nn.Linear(szs[i], szs[i+1]) for i in range(len(szs)-1)])\n",
    "    ```\n",
    "          \n",
    "  * We create Dropout layers using a similar approach:\n",
    "  \n",
    "    ```\n",
    "    self.emb_drop = nn.Dropout(emb_drop)\n",
    "    self.drops = nn.ModuleList([nn.Dropout(drop) for drop in drops])\n",
    "    ```\n",
    "    \n",
    "  * And batch norm:\n",
    "  \n",
    "    ```\n",
    "    self.bns = nn.ModuleList([\n",
    "       nn.BatchNorm1d(sz) for sz in szs[1:]])\n",
    "    ```\n",
    "    \n",
    "  * Init layers with `kaiming_normal`:\n",
    "  \n",
    "    ```\n",
    "    self.bns = nn.ModuleList([nn.BatchNorm1d(sz) for sz in szs[1:]])\n",
    "    ```\n",
    "    \n",
    "* `forward` (forward prop) walkthrough:\n",
    "\n",
    "  * Iterate through layers and generate predictions:\n",
    "  \n",
    "     ```\n",
    "     for l,d,b in zip(self.lins, self.drops, self.bns):\n",
    "         x = F.relu(l(x))\n",
    "         if self.use_bn: x = b(x)\n",
    "         x = d(x)\n",
    "     ```\n",
    "   \n",
    "   * Push final output through signmoid (if an output range is requested):\n",
    "   \n",
    "     ```\n",
    "     x = F.sigmoid(x)\n",
    "     x = x*(self.y_range[1] - self.y_range[0])\n",
    "     x = x+self.y_range[0]\n",
    "     ```"
   ]
  },
  {
   "cell_type": "markdown",
   "metadata": {},
   "source": [
    "## 01:00:00 - Dig into SGD\n",
    "\n",
    "* Simple example of using SGD to learn y = a*x+b:"
   ]
  },
  {
   "cell_type": "code",
   "execution_count": 4,
   "metadata": {},
   "outputs": [],
   "source": [
    "def lin(a, b, x): return a*x+b"
   ]
  },
  {
   "cell_type": "markdown",
   "metadata": {},
   "source": [
    "* Generate some random data:"
   ]
  },
  {
   "cell_type": "code",
   "execution_count": 5,
   "metadata": {},
   "outputs": [],
   "source": [
    "def gen_fake_data(n, a, b):\n",
    "    x = s = np.random.uniform(0,1,n)\n",
    "    y = lin(a,b,x) + 0.1 * np.random.normal(0, 3, n)\n",
    "    return x, y"
   ]
  },
  {
   "cell_type": "code",
   "execution_count": 6,
   "metadata": {},
   "outputs": [],
   "source": [
    "x, y = gen_fake_data(50, 3., 8.)"
   ]
  },
  {
   "cell_type": "markdown",
   "metadata": {},
   "source": [
    "* Plot random data:"
   ]
  },
  {
   "cell_type": "code",
   "execution_count": 7,
   "metadata": {},
   "outputs": [
    {
     "data": {
      "image/png": "[encoded data removed]",
      "text/plain": [
       "<Figure size 432x288 with 1 Axes>"
      ]
     },
     "metadata": {},
     "output_type": "display_data"
    }
   ],
   "source": [
    "plt.scatter(x, y, s=8)\n",
    "plt.xlabel('x')\n",
    "plt.ylabel('y')\n",
    "plt.show()"
   ]
  },
  {
   "cell_type": "markdown",
   "metadata": {},
   "source": [
    "* Want to recover `3` and `8` using SGD.\n",
    "* Want to define a loss function.\n",
    "* Output is continuous output, so problem requires regression. Common loss function is **mean squared error**."
   ]
  },
  {
   "cell_type": "code",
   "execution_count": 8,
   "metadata": {},
   "outputs": [],
   "source": [
    "def mse(y_hat, y): return ((y_hat - y) ** 2).mean()"
   ]
  },
  {
   "cell_type": "markdown",
   "metadata": {},
   "source": [
    "* If, for example, we thought a=10 and b=5, then the MSE would be as follows:"
   ]
  },
  {
   "cell_type": "code",
   "execution_count": 9,
   "metadata": {},
   "outputs": [
    {
     "data": {
      "text/plain": [
       "4.20402323579131"
      ]
     },
     "execution_count": 9,
     "metadata": {},
     "output_type": "execute_result"
    }
   ],
   "source": [
    "y_hat = lin(10, 5, x)\n",
    "mse(y_hat, y)"
   ]
  },
  {
   "cell_type": "code",
   "execution_count": 10,
   "metadata": {},
   "outputs": [],
   "source": [
    "def mse_loss(a, b, x, y): return mse(lin(a, b, x), y)"
   ]
  },
  {
   "cell_type": "code",
   "execution_count": 11,
   "metadata": {},
   "outputs": [
    {
     "data": {
      "text/plain": [
       "4.20402323579131"
      ]
     },
     "execution_count": 11,
     "metadata": {},
     "output_type": "execute_result"
    }
   ],
   "source": [
    "mse_loss(10, 5, x, y)"
   ]
  },
  {
   "cell_type": "markdown",
   "metadata": {},
   "source": [
    "* We have defined the *model* (linear regression) and the *evaluation criteria* (aka loss function), now we need to handle *optimisation*."
   ]
  },
  {
   "cell_type": "markdown",
   "metadata": {},
   "source": [
    "* Generate 1000 examples and turn them into variables:"
   ]
  },
  {
   "cell_type": "code",
   "execution_count": 12,
   "metadata": {},
   "outputs": [
    {
     "data": {
      "text/plain": [
       "((10000,), (10000,))"
      ]
     },
     "execution_count": 12,
     "metadata": {},
     "output_type": "execute_result"
    }
   ],
   "source": [
    "x, y = gen_fake_data(10000, 3, 8)\n",
    "x.shape, y.shape"
   ]
  },
  {
   "cell_type": "code",
   "execution_count": 13,
   "metadata": {},
   "outputs": [],
   "source": [
    "x, y = V(x), V(y)"
   ]
  },
  {
   "cell_type": "markdown",
   "metadata": {},
   "source": [
    "* Create random weights, wrapped in Variable, settings the gradients to be calculated:"
   ]
  },
  {
   "cell_type": "code",
   "execution_count": 14,
   "metadata": {},
   "outputs": [
    {
     "data": {
      "text/plain": [
       "array([0.75506])"
      ]
     },
     "execution_count": 14,
     "metadata": {},
     "output_type": "execute_result"
    }
   ],
   "source": [
    "np.random.randn(1)"
   ]
  },
  {
   "cell_type": "code",
   "execution_count": 15,
   "metadata": {},
   "outputs": [
    {
     "data": {
      "text/plain": [
       "(Variable containing:\n",
       "  1.5550\n",
       " [torch.FloatTensor of size 1], Variable containing:\n",
       " -0.9018\n",
       " [torch.FloatTensor of size 1])"
      ]
     },
     "execution_count": 15,
     "metadata": {},
     "output_type": "execute_result"
    }
   ],
   "source": [
    "a = V(np.random.randn(1), requires_grad=True)\n",
    "b = V(np.random.randn(1), requires_grad=True)\n",
    "a, b"
   ]
  },
  {
   "cell_type": "markdown",
   "metadata": {},
   "source": [
    "* Do gradient descent loop:"
   ]
  },
  {
   "cell_type": "code",
   "execution_count": 16,
   "metadata": {},
   "outputs": [],
   "source": [
    "learning_rate = 1e-3"
   ]
  },
  {
   "cell_type": "code",
   "execution_count": 17,
   "metadata": {},
   "outputs": [
    {
     "name": "stdout",
     "output_type": "stream",
     "text": [
      "93.01309204101562\n",
      "28.7880916595459\n",
      "0.23743104934692383\n",
      "8.573080062866211\n",
      "12.265936851501465\n",
      "5.050601005554199\n",
      "0.29957839846611023\n",
      "0.8328072428703308\n",
      "1.6128486394882202\n",
      "0.8854061365127563\n"
     ]
    }
   ],
   "source": [
    "for t in range(10000):\n",
    "    loss = mse_loss(a, b, x, y)\n",
    "    if t % 1000 == 0: print(loss.data[0])\n",
    "    \n",
    "    # Compute the gradient with respect to Variables with `required_grad=True`\n",
    "    # After this, you have a.grad and b.grad holding the respective gradients.\n",
    "    loss.backward()\n",
    "    \n",
    "    # Update a and b with gradient descent\n",
    "    a.data -= learning_rate * a.grad.data\n",
    "    b.data -= learning_rate * b.grad.data\n",
    "    \n",
    "    # Zero the gradients (note that it's changed in place)\n",
    "    a.grad.data.zero_()\n",
    "    a.grad.data.zero_()"
   ]
  },
  {
   "cell_type": "code",
   "execution_count": 18,
   "metadata": {},
   "outputs": [
    {
     "name": "stdout",
     "output_type": "stream",
     "text": [
      "Variable containing:\n",
      " 2.7402\n",
      "[torch.FloatTensor of size 1]\n",
      "\n",
      "Variable containing:\n",
      " 7.8632\n",
      "[torch.FloatTensor of size 1]\n",
      "\n"
     ]
    }
   ],
   "source": [
    "print(a)\n",
    "print(b)"
   ]
  },
  {
   "cell_type": "markdown",
   "metadata": {},
   "source": [
    "### 01:07:03 Gradient descent without PyTorch"
   ]
  },
  {
   "cell_type": "code",
   "execution_count": 42,
   "metadata": {},
   "outputs": [],
   "source": [
    "from matplotlib import rcParams, animation, rc\n",
    "from ipywidgets import interact, interactive, fixed\n",
    "from ipywidgets.widgets import *\n",
    "rc('animation', html='html5')\n",
    "rcParams['figure.figsize'] = 3, 3"
   ]
  },
  {
   "cell_type": "code",
   "execution_count": 43,
   "metadata": {},
   "outputs": [],
   "source": [
    "x, y = gen_fake_data(50, 3, 8)"
   ]
  },
  {
   "cell_type": "code",
   "execution_count": 44,
   "metadata": {},
   "outputs": [
    {
     "data": {
      "text/plain": [
       "64.21509213659768"
      ]
     },
     "execution_count": 44,
     "metadata": {},
     "output_type": "execute_result"
    }
   ],
   "source": [
    "a_guess, b_guess = -1, 1\n",
    "mse_loss(y, a_guess, b_guess, x)"
   ]
  },
  {
   "cell_type": "code",
   "execution_count": 45,
   "metadata": {},
   "outputs": [],
   "source": [
    "lr=0.01"
   ]
  },
  {
   "cell_type": "code",
   "execution_count": 46,
   "metadata": {},
   "outputs": [],
   "source": [
    "def update():\n",
    "    global a_guess, b_guess\n",
    "    \n",
    "    y_pred = lin(a_guess, b_guess, x)\n",
    "    \n",
    "    # Use calculus to calculate the derivatives\n",
    "    dydb = 2 * (y_pred - y)\n",
    "    dyda = x * dydb\n",
    "    \n",
    "    a_guess -= lr * dyda.mean()\n",
    "    b_guess -= lr * dydb.mean()"
   ]
  },
  {
   "cell_type": "markdown",
   "metadata": {},
   "source": [
    "* Can plot optimization using `FuncAnimation`:"
   ]
  },
  {
   "cell_type": "code",
   "execution_count": 105,
   "metadata": {},
   "outputs": [
    {
     "name": "stdout",
     "output_type": "stream",
     "text": [
      "\n",
      "\n",
      "# All requested packages already installed.\n",
      "# packages in environment at //anaconda/envs/fastai-cpu:\n",
      "#\n",
      "ffmpeg                    4.0                  hc8c182b_0    conda-forge\n"
     ]
    }
   ],
   "source": [
    "!conda install -c conda-forge ffmpeg -yq"
   ]
  },
  {
   "cell_type": "code",
   "execution_count": 47,
   "metadata": {},
   "outputs": [
    {
     "data": {
      "text/html": [
       "<video width=\"500\" height=\"400\" controls autoplay loop>\n",
       "  <source type=\"video/mp4\" src=\"data:video/mp4;base64,AAAAHGZ0eXBNNFYgAAACAGlzb21pc28yYXZjMQAAAAhmcmVlAABAhW1kYXQAAAKgBgX//5zcRem9\n",
       "5tlIt5Ys2CDZI+7veDI2NCAtIGNvcmUgMTM4IC0gSC4yNjQvTVBFRy00IEFWQyBjb2RlYyAtIENv\n",
       "cHlsZWZ0IDIwMDMtMjAxMyAtIGh0dHA6Ly93d3cudmlkZW9sYW4ub3JnL3gyNjQuaHRtbCAtIG9w\n",
       "dGlvbnM6IGNhYmFjPTEgcmVmPTMgZGVibG9jaz0xOjA6MCBhbmFseXNlPTB4MzoweDExMyBtZT1o\n",
       "ZXggc3VibWU9NyBwc3k9MSBwc3lfcmQ9MS4wMDowLjAwIG1peGVkX3JlZj0xIG1lX3JhbmdlPTE2\n",
       "IGNocm9tYV9tZT0xIHRyZWxsaXM9MSA4eDhkY3Q9MSBjcW09MCBkZWFkem9uZT0yMSwxMSBmYXN0\n",
       "X3Bza2lwPTEgY2hyb21hX3FwX29mZnNldD0tMiB0aHJlYWRzPTYgbG9va2FoZWFkX3RocmVhZHM9\n",
       "MSBzbGljZWRfdGhyZWFkcz0wIG5yPTAgZGVjaW1hdGU9MSBpbnRlcmxhY2VkPTAgYmx1cmF5X2Nv\n",
       "bXBhdD0wIGNvbnN0cmFpbmVkX2ludHJhPTAgYmZyYW1lcz0zIGJfcHlyYW1pZD0yIGJfYWRhcHQ9\n",
       "MSBiX2JpYXM9MCBkaXJlY3Q9MSB3ZWlnaHRiPTEgb3Blbl9nb3A9MCB3ZWlnaHRwPTIga2V5aW50\n",
       "PTI1MCBrZXlpbnRfbWluPTEwIHNjZW5lY3V0PTQwIGludHJhX3JlZnJlc2g9MCByY19sb29rYWhl\n",
       "YWQ9NDAgcmM9Y3JmIG1idHJlZT0xIGNyZj0yMy4wIHFjb21wPTAuNjAgcXBtaW49MCBxcG1heD02\n",
       "OSBxcHN0ZXA9NCBpcF9yYXRpbz0xLjQwIGFxPTE6MS4wMACAAAAai2WIhAAQ//73gb8yy18iuslx\n",
       "+ed9LKzPPOQ8cl2JrrjQAAADAAADAnTFsu53XQ2mHYAAAqwv/wWSuLYBNLykuinx4Xqj2A1HwP1U\n",
       "r2xSYht5xG7EpLfR6V+a9Hh/D0gz3/095V+74kvKk1NO4wUh4W5M0JgwGXlv+kY92ejAAREYKjv7\n",
       "spIX2GE0lYbvbeq2X2lmdfmwa9I48+kt9VcyCUvqrUA9yELtCpr8JcnAheDhE9cWfFAhjH+79U3T\n",
       "8bJjw10WfnT6F7q8JzcSIMC3i6a1GJkJ9SDXBYm1r7r2SWhdEc2mZLE2h3KnTsrtKCfw2ZFTj1mL\n",
       "h4d+zZ2LzUoukns1P0c5R+2JBlArYLBlxAw3OXRkcI8N6WoU5uIIJwZf+wCSE2TJXKFQOKxZvOkK\n",
       "iVkCDlKEIRKAjRTwWRQt6wVSYdH2t9TYCp//gcCisyB20AdpMfMZQfVsTfCS966dBtvTxBQag67b\n",
       "6DbS8gA6ZDV5tzmbft7E5qKbnMWpQP9RheNosY9y5YpeEaZX+/PM58h5vu0jCdscStvVU1EKWXvJ\n",
       "gbIU6FDtYuicQrOAQta7NzWesu2vlq7ueJEJpynS8AGyfVRcw3EfUerJ8IZAd/0DzEawb5u+bQ4T\n",
       "2ldMdxgrQb7luxl0yIFKtvB7ANJe7hz4H4yy1l6Xm+kwS2yJd3Fuq5zs1aCcjmK2/Qv9g3jWKzlT\n",
       "qGkvQVObG5NPLlUrFFee1VS/P1WHOSTZ8c/AfqwL8o4W/ToZZpPIC+nQ5/isDQRNjBIQ1/UfOWGA\n",
       "BoWLnhOq9L/6obuqVitILtCbjaSPiOoZ1CpyOUJQUdJpx85fiFeSRn+0I1Gr+XEElGP13UIBwtmW\n",
       "fwTEC+B6UtrGmZKhBWaw1FAATAAnZQfEL1LrqPfjizqKl81Q4PQMEv60sUmp19gJfgSErmJHSoqg\n",
       "BPTbup3iJwq1DrJJEbI4RbOoBK33adcddTahqPlXr5r6bslPejjWqJmzvtLjGF/VbWQYDEerwWic\n",
       "ca3rS+ccLCp/VgBocmS1r4Fbon7nRfXLIERJ5lEFx3YCpQEYTYguWtWpRocwzxezHwGh/8NiHu8J\n",
       "XmZpuujE9NAh2i17riUXk8qLqZGnKvCrxzj77n1DDSW9Pz82y9EY1v+pla6AfobSIyvKP/1YT680\n",
       "8Z27NMiod25g/VypUAAOOxdGIut0W5pOLMZSF6f/4mLMCN3dVSqv+Eb0rYWdWKriaRDS/osCtQzQ\n",
       "MckvdhzHzqnhw9Ppfv8Y7e3QUB8MB5DBn8U4F+BTVvKUP3F8Mb5Ok4f6AQEa7Yw+JYDerDAD9od+\n",
       "NV+cBK/t1SOBQ4czEPI71bZqCJLmSquoRvMGYr4VgIjN/2fJJmjnWzRY8IogTyXKxygdVPppNnQT\n",
       "Ek9jIFYmiyqf6obc/uR7GBxECe3vd12HSpMR90GhKXPxczhZo60kY8lySBt1i+qTsDDRduvqEs2D\n",
       "f7TDun7Z2RjvZbEDFfvBYDEk3SX85MJ4STo94AEPcsbZLZJYnrpZTAPv8JgJrqYUFMQzB4HmrWLj\n",
       "a6eq5pWXZ0OK4LhHLCjZXvtIAD4u0KIYr5i/pPprGVBM2NqsXFdUr9HmyoDhcrDQhkgx93nPDDcB\n",
       "W/hOLexhmO66DvC1i+1m6+5/7wflMe6Dd6jKBcWslxdgCiwmXRV0Z60+NqW1+XR9thmuhs+xetrZ\n",
       "CM61VLNu0/jXfKBwYDvkev+pC3PcyGUS4qx5gMuxgVPH3/vYKbgru0fWqUiGN3p6TlBIVRPKnwZC\n",
       "XGfTfuYFFFqJFkvoK1f3E2Zb55eHQDOJ11RJ4zNf+XHpEiK4a3Rz8vKmR4Zo//LFEyE31BmuN4S1\n",
       "rnqgQvODpQd5NCBsy5L757g35X9X7v5LxY+4+ZSAGmSVt06ucCGHdYa93d4WLZ10mnEZ37yGRGx4\n",
       "CjBR/2wubkWUroA1gWkQEwNOfONeWBLZxjNMFjvKInba4T0CRncOdX1Mkkq0VevCJpb7IG/w7PVu\n",
       "fo9IaSPKZP+D0gD6KAtwVEk76s7u3vrPvB1CP2TiUnXgI/lmikxv91XMUKm+xyGbNhhHElCHx6yc\n",
       "4ZjkOV8qSfwJVPMvXcKGA5d/ZOD8uTtMdiYE1nYFHSZe6ZJ9jdrvWDTmv/tOQdhAkj4fT/Gy0DCk\n",
       "YoVr6t52eqcos71d6wG2ml3ZO8Re8F8bj4o8/0aRfAxldMH+fw/vCyyYvU/yYMH3JffGRde+mZtN\n",
       "v7cIImlbduCYPozW+oUt+EszCAyoOLOAdliYRFpMPGDcJX6z92V/HAgYbi8T+FGFl0UjqSUWUd+1\n",
       "qZvavlbvsHxlw4lo3rxDaYLzn4Ei6tAICG2ZaunR2wQla+2NC0hGocji5D1D+szSFcElyiYz2oOG\n",
       "FRNewfjA2bBVTn5AxbNqEXqDKZYPpfe9oMpnsBXDKwA8/oW4GGeIm42Xz7eIextroWfRDMX0HJwu\n",
       "vfg/PU0KVgKpjqxOs8ymw98qFKRweDqvj4OZLMNEcGO0ItMRy1PttB/JsEylFFNdyRODh8ewPnD+\n",
       "MPtdBPIv/9xBM3f4fJHvU35Ho6tdNkmx/qTzJcKAJvgEvz/+f913icBOlKGL+Pg0cyVXGO45HTKB\n",
       "w28eN9wPBNJOCCXbhNrNk7IioMuvsfknIaQV5Ibjp4wlaY3qAYW6Cet1l3oPBCnvQBBn/HuQBmrg\n",
       "5kSp3yggCl+aAdIN7iyAzdzP7LZNI5cQ0p53l62SXqoSnLq+aOukY68QJaI+oFZZ6y48jkipkFdc\n",
       "wSxnNjWtsm5O58Qwq40MT8L9oZwarVmY3B7/Svdcn9gwdpIJkOUFBEbfDuHBpcjmd1YLSeIiUWMT\n",
       "iXspo0N6RQkpYd3eVhRfNojuTvKJazW385qrgieP5dFSRaO8RNZYYXC27DPpohtCp4lAhleJeCTJ\n",
       "2llS3EGpjlrZRIWsibKbqgma+lHlsG/DrGDFpz+cs52YXhiNMo9gwB/ZV6UKLpeTTVlE93IuGk2j\n",
       "Sj3bnnQ/e/upFyQeVo0BxFdkoo9soGPeYg6MGgb7M78AHhNn8rZEIsmTkNJZMKJ796LJpTktSIrc\n",
       "wD8RfsM5aGM4tIDgJgQHbqcG0g/xJ4tMOARkDmxSBuzosWe1a9el1U8858Enair1E0JDk0Cz2XKq\n",
       "UOw/m4M1QEBwGlfnn3u05HJEwwshdMmjNOss0kjOAv8CCfKQMPSVPnzfJ2CtWuNhKO2HPht6KAVr\n",
       "X8sqsDUQ+EVDf+jMbLo4sUZRL4SqetDUOQE/37B/945xI4OyrKPpd9bgocXxqFDWA77547t3VnhS\n",
       "cvG//8U7Wts6dHL/vzD4k6bXqb8eHgbXrGY8YLPw/gFGO9TkOIQ7fRzZWG+IT+9rvab07JQW8rY/\n",
       "zhTDwC1UjsZQwEvjbOPG9zIqZuYWsNF9oOfEFMn8NPu2vz9K7HNQ+0PPl75iSTZwBTBiANQtOQbf\n",
       "2JgSHH41RgHJkJzrQiVZb0uuK9oaPGPkKaXwYJI5ShopIttvp+fpp93Gnmnq4T/stwodqqXbfX1c\n",
       "/siTj7OwZ+4hnvizWYms/L60TX6tZ312R7klDA4iNqnlxcQ9vsOrmUdecvTU6W+OksBpYdMz0AcK\n",
       "jgpUOod47s/Pc2B9esCW57B5kRiuTdGD3+ynuf0sjE+cWgj96pL7Z0ztARknMBUbBQLY60Ap3ZEJ\n",
       "G8j1+mRQRGndr5TXz3yD+zQSCXOXic+WIrzs4b9iNICKUQ0lbj35pr5jRPrrArBXiibQBxlXPVVb\n",
       "7WdoFRbBqSlBgpPGGqUJPiDLLgrJaTxV9dY5QFPdC10ywVi5TIiHtbOvW42uH1a1UCV7PFiz2Nxw\n",
       "GU5pzWXu7zZ/NN8+dgY3p3lBAvstRwxKWOxDFJ16K1Ws6znuDQS97kakbJ4kGMnZ3yuRGlQqOOoV\n",
       "HjNyHN9Yjm7IJ6GgCzaXJ3GUQ6mzvRTajKNlqEZ5dqGFtJVvK2bst6tMCtcNCAQpsZTr4nIZnyjs\n",
       "NMukPkHKmnQ94gVX1zWyNJm4U+CH3sMIozj0oVC+xtqMfg25yAk5ABShn2TUPvmnCemeBAplMc0Z\n",
       "xqsdSha5vrAaGFjNsWORZ7Rxxhsb60JQ3A+FL75UGL96J8N0woRsXLwgQsqec6NZNY0SOED1TkQD\n",
       "Bngv3JKqZqXxyYSsjLIa7m9/pXZub1aL73EfKGpBV9meGoxbvKbY2ft/Bh9JDmUvYGNhD/DN+Kze\n",
       "/Zt0HgEhKnswThgZXtTpQ2awx09eMx55l4ciJ3TDgBZBvfZAn9gid88qQCCpTaSZ4w+WIU9Meo2H\n",
       "tAlk6+uYIaKKV09S1FBsQv5wy25mxB+JVK+M9Kql5UfcL51rp369Z+i7gyai481DCQJZf5ju/B+3\n",
       "sSqSFFI7i93MnmXP8ZPmCA4f6ufEWLqcIvk06VaGLtBqZcsdr7vYroL12RFMU7q+Yxf2tqWJwtUb\n",
       "SN/HEb2Akvpdy008Ke+DUAiEBVAAPfhI1NROjSqCHW9oD+/VNlvBbW8HEDouZE4YkUM0hvwygWZg\n",
       "7uZyfIu4LK3pyA3ya7WD3xfrMlqq+zr0TeyKHRO1C34HXrm2n+ku1TA4cpNZjfu1Gh2J3Bs29zA2\n",
       "h14pbPPaClmepijMD+74CEfp8E+mZmrdqJoE4vS1+dNdyX2LTjtogzKZ0ef13xyox7LvMaSBGZBM\n",
       "LQ0mVCM2RiLMtALUpiZIUPoPCVY2svzFx1yISpzOl7SmwKF4ezadONSAXeiDagwSuf7e0W0F32u5\n",
       "Ymt0fUhwfxv6KCU6SBBRCdQpTtS2Epw9DzN2wURBIO3sflXoXnaa9LRVj1nRk0zl9qxuU09JRktb\n",
       "t25ipTQxROIDLdkf0y91YQU85QU+QAd/F4Zfs2gAQwMybuSuCmCkDcmIY2/2yLchH094AR1WoGAK\n",
       "uu8PzMpjGz010fxIS/HAyRqihiE1e19Jw76xXsSqpDTYBHuwAo/fhgDWvOsHc9Vn5yWjLDAoPiqz\n",
       "wiLKzUU//QF5J67UL4z4H5PXxkVJ2F/AWZtkUvOofE6sadFsGYz21GM/eq8s4WWNrAIqL06pY7B0\n",
       "S8NdXBADEqdL5SgArTPhjyPRYBy1FZSKSfkrTV3ddKpfjed1b+XrC3g+lOaWdQ9kS2WRCdoVKpMV\n",
       "8yEryo7ODxI4AOBPFDRvxS/skEpr/tvYefE2B3n/3e6ogEuJ6YeCN97OIJ6giff+b4cr19o9degF\n",
       "QvUTjrx1klD0y594hJfscRaOc9L++n1HyTLPS+U/143XhoO4VlkCx5kj8l0G9cHVbLJyVS0HqYLM\n",
       "QE4Wp1FipwPutPj8QeMg4awTnYXG8dXQXPNsdvMWN4K/yQInrAB9fS6KZMD0eTbNqBp7YtywtikA\n",
       "zjc3BxHLazEZxASISvCh5f/Y4P0/psqf5I/nsNN6g8xre+CS1JQVAv4Pzci4mDpvXyulaWJhz9iL\n",
       "aPrU5mGfB/ZKDerCBS2EzCl9yVHt5IWfQrTRwVgVr6+m/EgApk9iT/wiFbSU6MH9ZI5jtVV16gHu\n",
       "Q54i5LCz8mZ2Bh/fSspJ6ZTRJhswlEt071TBf8/1ju170fev07R85wiUbM3sT5Gkc6zkFVejxnVX\n",
       "6qCqItV6gwIyru62vGk8D+PILKL9AdnYT+0UJrDhGB6AAAA52lqUCzGwUvQrvAIPT1tzY+rlEBBQ\n",
       "VWzdmUkTH1R3GNDyfeSys2MYIz4ss6N08UZIBG2Xez5tX9jcAQIY81FsqtSOxDxGzQI6JRaaRwae\n",
       "Y+BpOGNxCVdywLXTrTgAAWjbuYDr8UyqRtiSLoATBh/pw1krcvdzE7p3ZDGWnmglGQttRznCalW2\n",
       "BaEZaHmFZXXI+hLKfuuM7w5zg6ik2AGmsm1jmU9xAZVsHB0jSyvE12WSkv4Sn+f9Uux0UL0lzzhB\n",
       "lmJ4NkP14GZddVqt/DQX6QWX99ELtr+SWtqfguY4vMU9TzPIKWxwA9UvFUrVe+irCmxqGV9QytXs\n",
       "ToelQ3lFLPssiDOlXTOt73eqeP4fzZfVZkkRvl1TmLA+5pczkQXNTHRGnJ0p+cULWF9jLev7kcUY\n",
       "tro4U2S7DqT5PwE7mwfUqwwjibacoZ+Qd0nfJDpNMJflQMmZ4WJJfjILSNJ9hk5BEpRM6Up40R8Q\n",
       "XtpGjDg/3y1ds3o8e3A11L+f8toWlRgPgJ/LkEL+jl63qXnRg2NThoXHPC8JNXfG1U1K7tcWUnCT\n",
       "zPbtAmmCf4LVlVdREv+KwqMDa1QTvzl88/OPO2ESfUcGPigQQgegoTTMZ26E/0n0jFB0BaGT2J/f\n",
       "dKoXZ8wgFLxmdn5KLVAhjmQcB9HRsAmFEPoGoI5dE9WMU69eoafZYNlVZ2swp0hlO/tBtq97Jrm3\n",
       "W5PB5p3WweOboddOrEKkY3BT+/TEERd+F8611OW6Eibi0E1QRJG9stdvZeYFOxaIZnUK+kg8sv6J\n",
       "n79z7tJ+5tY/8irCCTz56OubbEY/7UWc3BuMQatNavta7T5htQo8FWj4Ahc+KwAzPEniBS7XJqIO\n",
       "4frxc3KdRZtLAGwrcjna4r/UySBpWfoxxN/7A0Nr9IYFq8RyGmjFVyIRzwDF2NO9u9RkIz0iFOZP\n",
       "VDv5vZSZNFEtigsP08fwoH5rMEfuA5oSTVoSVtDX7us6kZPYi1jKkmLFEP1I1ifluTvzDK359iIU\n",
       "GxU4pM+y/u5ypr/sVxHMJgvhaCzkmpCnVN/cbb2NyXL+jjKrz09IlnawP8jUwSqvVa+JBwooeiNA\n",
       "sQ22XjIcfclbqLwozNxF8sGz5Rx3w2sTbLQHJcRBfhZXqZK3v9QrAhNbML8Wj6QOBjWfyubGiTFJ\n",
       "S1vhdc5w9/n8yN1m48UN60iVQuBvtLeCVnTZpOlcjf6Kri60laOscFJ/soRMqbB9zeE3LiTJqtDy\n",
       "0rflseo/LGxP0gMIv+SGSQ7hxT21l0sbIOjl8DK4U2OKi88B896inbJDmfYFl4cAOI0uVBkZXtc6\n",
       "TNlfZEc9//qcJJHdOlTm4LkckxRTCK6xq9qSQ3gc/mCKcIrJh9chLq6Fh++MpJtUSai8IyQZ2x4I\n",
       "LZkdWMUwGVGrWwte3C+hM9L3xHJJ8RTy7dZL17hnM2O1xcR0UGtss8PvJR2J6lzO7ZOhZ/qsCf6m\n",
       "JRx+wiPSxljYsAKpf+s+y+oNCs3VrNI0rNuyz6cx7CZK6CTqqnGxmZ5d5AWt6Hg36kuhXt5IXDz7\n",
       "OL9aQoSBgDuEzXEO2/jNhX0x6bqC5tdlAp9/QULd5hIQrQypF02NsHw7Pyo3aa8TAX2eqXfxKOts\n",
       "UxAAdWJGMRtIpusPRgUOnTLEX6YXPKcLM7DpJsv2iW7yJUgODEMQnIciO4W7/vqMxJpI+UEF5Fpl\n",
       "921XAaFIuLoiZbcmmwW/j3wdLZxU15BdOtKlT3o9tcA/IARxtaYW+kidQ7WqNwRKmw0OU6rORWl/\n",
       "qh2TF7+UzsTfJ0z2repLya5YTgdIq25RfbBu7UA90IJ10lYQjUP7UQ0kW72beXDsuqtaF3f4V2hl\n",
       "xIiNcuY3Xrh2PrKQM8JNNgbVTcQzJHs+dFhjPVhgcOSreHh+PwHPbrkwPTGntaSE33/iC2XbmZq/\n",
       "03vQWHmon/o0Yki48VwpvYjeS8Fm9UKWVxnlY3keoyIX1VY91m+1bCCUPSt9xGTm6IloOhyUsiX+\n",
       "M1GH4CTUT5Kgl8C8jlbnu3gL48jGufpccxA1ghlXzqMB6fLl4sh35VJIjJOGMPA2wnq0qHQh8yrQ\n",
       "aCadV824FTlw95D+TM5q+cQ1paTSN9kkXXfq6Mm+WBBBJcd83NyXQ01jTRo3qHFX7T925TxmmLCY\n",
       "KuI97kSlUXSzghlHHb2K65xlfkTxQbjDNqS6h91a032JXz4VCIsl/bdBKcguNmSafpFfxU9JnihL\n",
       "8YI/xyGewI29cN3WEya+T8+bjtQTF79dexo77A6cnKh0NcWxv0A5fCL4GCMqPbSW28eC3dhTeq3W\n",
       "IE4KK7gGuT3sYy4j5SelQld89qZhFNQzLaR3Rr75IXyEGKWv1nMxhi7uaB+F7zeFntQYVFHTw0Vc\n",
       "uPz/xPW9nIiqoptzzyaZOXv8PCmJm1c/vdhDLzpu9DdxQP2j2+k7zhM1F2ctqO3N2MQVB6gmyCKY\n",
       "AjV+b1iT6acXaPXApM+AktwIYqnzUBgC0yFHBjSlr74ckFjMhu3aGx4BqtXdLRPH13NW/kqyr9ne\n",
       "1uG6EilVT3Uzx4u4vgJQUa+JwkQGMIcwGQsMfMDWo+VcUYACV0IbBXBbRTqNOdvPzUqaZ6CrMgNx\n",
       "3+mZt/jHuJ+A6IN2NUCwOwtc4c7d7Rl3G9rZ7BdfiyJw9X1AmG410dFwf344keGA28/dMqcGwbMP\n",
       "83bI92xklIkiv3NcsaGGKvX5/az9QRbwBNSr3NpgYK+CO4/ExyqcVnZHax101HbkdnEyRIWQnMlx\n",
       "EF8W4JIeQSfGM9c3OjOEXfYKcRhpfclVYMRDyog8STf8GAU1Rv+SYYuf8S2ihKFDdf0X6j7xCFjr\n",
       "Mo2xGEIDLnPTqoFhfhd7TrMr0G40pUr+1UgF+gAvVL3Vb87DBHg4F2+WR6q5htBmYoEUQPf2NqnB\n",
       "XldlbclNMiGnaM0CT866yfRrvCMyHDzo01Nfri9QWQET7QGb1RqDP9J9P/PmgS0mpvca6BvIVs7h\n",
       "NnTKz6nHosNdBFRbOi4gyABNVpsYjod17Epgk1PSEWL7B+hNWeq0XAw5cSKF/5iaCWvEpStmw68l\n",
       "RcWoOhqfWrKYQMXEO85hfMFm81VfzyA8CG9q3YDlopW/TaS1K2gp5QKEPOtoyVYX3sPnARYjWt5q\n",
       "Pb/Jv0D864oduPKBazbpVQRVf/LJvrxvAqURu8paZHqXKHBUdvrmoJ8v/9XI1GQvpLn3kQFcaicR\n",
       "owC/Vw8zfnExLvha3dYs4vsOz+x2yLKvFOBFk/ARCM+s4M6sW21GYZ6bF+zgoV1X0fAAsc7q+TGo\n",
       "97+cGILmWjfvx3HY0XvwHjh39HCXqSdvAlmUb8QF5rerOvEQr6nMCgzoPhzMtGzhO4jox7vqGgmu\n",
       "wvroEDoqgBSRdt4dTJtl1jPkMCtnFcNWVXN5LwYOcGE1D7UJv1fewDjTujaJkOQAJeAKOQAABLRB\n",
       "miFsQQ/+qlUAC7ifAAHSu8f5LaNuM3CY88P6fNS33QpGp+M8UoOdiLQYGnhERwmNtJeBYyrqOWuZ\n",
       "966onYva0mGP1wZxHfd1KQzAeggC7rWDNOnDVoUULOUIEiMixjAqaJ5xRi+OSbOSLi7Vzo1Myexk\n",
       "0niOb1wd/6HABo/1XDigVBQyNJOMDwt9ovR5k6NekJMKsqt7vdtHAa1SmOMdFKLP0A/z894Kb89h\n",
       "l79tZbxNTRavqsZgrqHshJ/CgjxlrQm2/lcKMOxuCzFn/2BCUZR/g+dLeigbQhtDE1/84SO496un\n",
       "vP2xhyS8AxoHLr+N99c7ZqN/PoNqUxeh9DgsdYERKWmOK9h+yJWalJ4Z1HWB2R4/ItN5xNWHoV7H\n",
       "5KX+snn0xX+23nkZAd+bRckVOOC8zjxLqZmcpwoDRZ44RNQcuAACJBs1nsgirMZ3l27cVkZ0nf2E\n",
       "e9z7J4w1XrBvHvi6ocqm8z4dHvjDVuf9LvFzWP5SSUHotujWqD9Nn5paC4y3CY2ZAXGS+DuxtGZY\n",
       "pHx76MSIWm54jS+EzyQe5kh7MEsdnXa/oBXRaA5ygI9MuODSVmF/vsxNp8vvcsDtc2sRWihpLJee\n",
       "oXL76XY+AiGWQmV15gdniVdGxizqGxn5PgvZRdKUTwD5TGwRaUEmEmjdn3K6KmEqdfa+VBl31faw\n",
       "LjQug+8RIqlOcqmnpuyc4R5ctGmyvOMxpYr9VBzgi16GUJkrZSnTw2ydPVLAzU6+VjS9oqp+2bAJ\n",
       "mi/cvu4LvPkh7Cj5G8JvngWe7y6CMq3lU84uQ6cTeaTuZz8pluxiK/l8bcYuksHshMvjJm5yuknP\n",
       "xSMOhw6QmuHYd7ASfzcZ4MXa/V645qcjTVUlXCgXqty76he5T0M9BfKJkmQBijITdYRRlc5Yu+YX\n",
       "zhWBRB22SBRtJWOqa9FO5EGZfDY5ZwZbWKvMFn7mFF8U7qJIKroM/8QTcIIRxgXKKxEO4bkU64f1\n",
       "KMTwtiQcHy0yVzj9DELQY4XgPHjzNLR2anqHv9a93pKFrFlEwmNAOHMVs7oDu6WcaRqxJO9tnjmZ\n",
       "FE3hYy0074u6PWtHaH6OAvYspV/2TXFztVPCfrs37cfLJB/Wzg1olFMxl8DTtjQ/fEu56eHOft7X\n",
       "jpRGVMOPeNL4R9BVpPkCzqHQINbh3b84FthNpWwP819KC+lSfaC0Imvi8PX528/lFggw6PKB8+Z2\n",
       "NC9fQCzFE1M801E2O8JTJvuZjxKFUrl2X2+DTs1OELATFqonUBD2tN9aC6RcvYc/a3whgBJOUNW9\n",
       "muDE2slJa1/hhbzgSq0uqJrjOorM2KXwtD+X58EFLk5bwFKyyAENagjJAbb8hU4EIHcCDY2QeKMz\n",
       "eB6P8QNVJWzjsyrEiXXJQy7Mn4mgRNaikec0VvUjEEuFib6fYAMudmbjlieHK0o1nELKYzxo0NtC\n",
       "oXqO0AGKBV94IuszQlB4ty1YvYa+VFCgoWhjq/0D6wALildFY1TK34moH7CNidsABl4AqhZ0GAno\n",
       "AQ82aipfRg00qora0K55c9fiP/jZmb1p7jThD+KqGCLnO2+dx1OfqS1HLQw0OWVct8MeiDxpE07b\n",
       "eyUlIlvQAAAFSkGaQjwhkymEEf/+tSqAAQnfgf/0YJFYAM41MJzp0+oq2QI5dB1rkOh1D0TicApd\n",
       "5xeZ7jZdPqzrLzlDX34p6nHLyqToy2Y8HJn7vKuJJdLeXwLHbkDnf1dUURdDhHciK60cgxrkhDEC\n",
       "xQW+m7lcJoUIqxbqEv1cCE5Fchu0qN2hnrBPAUaeD5qal99P3Fp1K6+XtdmzmI4jeOAtUclYkBAK\n",
       "diRBA74vjN/xTHIJq/ajVUSkS4eZXW3Yw1G9qzsmoZo4s8tDG58P6aupG/t+5NBnUsT7uwK01UrN\n",
       "bxcBEheYMT/vyngY6wWsMmXdK80mih5MSCUmMGQNqxMEbBx2uZeI8oxwx+tRdBG5D5DbKOBjVSUj\n",
       "6nQYGmmHmqgiwb/hVbduyuw75ZJuOsX3RPLPAbwaNUBopFmg06AFCrfE/tJ0JU2NvzPXDZPhgtDy\n",
       "IDaiJXli1fre39pFW2XFrwAFyfTr6wlaftt4cLtA84dVC3Hogmia741QjpfXtFF/suGe9D0tCNuJ\n",
       "B/8rIy9iA51D2R4YVzyn0JCtLiaqEaWVlBEzfh3AILwPUXbpjcfYg0bU6pwMqV3LJvXp91jkNDAB\n",
       "28FhIdylcu9cUKk6eO6bYavkbcODKgZTo0WCEHAvi6nzJ9oAyqlWSub2mJQpnHkjQDi1egwLG69S\n",
       "3uyLgoUWB4CKgLgcTAT/q4srHEciDEgPCYt56/yeNPMXo9qYUmt/U7j+jzmQqNTpKImCsD9HCVKu\n",
       "bJ0H25qWf6plof9aYCnill/6o7ivg7qkntoEDY145fwFG0oa0xLfc7qk/Q+xAf5iVlQF/9ZpLjtw\n",
       "JpAO73R+IZdwxy2zv7OixazFhh82Ahc7Pm7VSrjoSsDYlFg01Pb5o5nyvuWNBVpQG0YIoFN2RL1o\n",
       "DVlfg6Lg9EbxuSbKNHwX3byONSU2Xm5cnNm1QXrKqpxblGT07hjLagtW9RWrA0DZ/tygX0jygasr\n",
       "xYnppiRdHkN6pXfSiPC8iXDoqgLUhJ/I60iM4gdHo9InysMCjfUPyv6MuMjkNTBTI2QIq7XNm9xs\n",
       "rX0Raw9VtwVTWtcv1yHVpk4Xsb5FrgnMVPjjwmYzXf3RHV+GADZocbp3j5HnftwS2vPP/g0sncKw\n",
       "X80X7QWhf2MoYIuLRPVYZTnO7vc1zclypc/ro/J7BC0I1A3SAURznFVWRQ5TShGC+MoEbdC05WxW\n",
       "4YYPa+VAztiO+DPSZhxORZb0WDA13ZURs69gYjX1ddHwysBVAQjBR5+UPSxOqUph+DdKXJHi/8Fw\n",
       "ZeGR8X5VULMBBNSWXf0iVc/CidPZRKmrE73YP2kBoHmfEmS86hYNkeyPTqreYJbQQ+ALjZ4BhbJ9\n",
       "3K93wvSJDXuUzMF6/oVuw5D7FWz3f5bE6Xj/2Yhilw9x8sca04m3U0/pavajZ1UfuJuosC4rCQzb\n",
       "+/fSZD9igOywaXleYgwlgvJKjVYoHLiNJbxoLZN1+9nWAWdAA9Y3O40PY8OZYZBOOfXac4+fvQf9\n",
       "2yU9wwj3eZeeRE3Yp803/ooTynMe5mroDIvRGUxL38liGPO/7T/iuOd6qhSB85Z6uA2/cll6sdp+\n",
       "//XOacnGVviTyBtwkt4t38LyyM8q5QVlcNJKmhrIK5t2TPzR5lJhAVtol/TeCtCFFJr5v6pkvOrb\n",
       "MEasGL576dieteupQP4QoRY1+DwvHlyhIw+5/9TZg16Dv8Hdu2A/sqj2AJ8199y+WLgCUQa3O0/z\n",
       "1T7aegDO2Cacl0QOJa3muWgMzApaxLvdZWqKhWaGEg18+zNTh+WBr0ABkbmFbDwfj++AAf8AAAVT\n",
       "QZpmSeEPJlMCCP/+tSqAApRP0gAXSi0p1SEDPdmys59QD0f7bNxgA8JwGbeWFygyq++snPLckelO\n",
       "QK2tMeGDotDvAJGpR5Y0ZGrMXWBddlzBVdW9vP4DrrwPtX9Ex7j5BkTjVaV79A/ilAsdcJFnCxT/\n",
       "LIVTFilUZK1sil61wVxoU958hsxwO/cNjJaDoL5d6+ytfrBqYfGKs4DQg3SnliaeILa6ce542gL9\n",
       "G4WhIzL42bIJWgrDq0k1c1X6zFNrAq+pA7yvi+OPydFleP5YfLj5rlFb2tn0jtVRO4LbeKx/wA7E\n",
       "RZ7byz7oQqrG0gahEaI5ygvNeshpc9fFej6JgyT8U4yrZOzoKlsq2wHkFb2anyqQ/jVxu+CQjApz\n",
       "lGu087jVYzLxUk8iHq/8SbjsxaM4YEkmGpHJBB5A3FKatMFLwj3VGRpXNYACr/hxrFPu4nxm6KQ+\n",
       "sOCdh4tMsPY9U/jjjyR3qB8IzJBIobZ3QYSdUJ2XEYaQfo+GhXxKhRVvh180U7V9E2ZeVm65SoLx\n",
       "xmr3sIg5T8kxPux6gizj959xcm+NIYt5ys1ceOS7cc5+B2EBc8FIIbm4mvbx+3RPt72VxOQ7ZfQc\n",
       "saaFTMAh3O91oWDIuYo7p7oSHffgftYquruNwnWutCRKaW/HUaeGeqqOY+mGSaD0HyLLircfNw16\n",
       "5lfqjKSCS9i3Y50GNPo5P+86k67NUhXbQl9XuaQ/iErGAVm09UEz6KJxjjSPipC+cUF0OjVwgL7v\n",
       "QRsKg3JdJHxVW65uPUODEObiIgIsq2/4a5Je04bkfWAPWTVCR5LxTEmm4hWgsvvwjtsCTvmG3gGL\n",
       "AiiK8Ro4swQm04M3ThMNmX/xwFcSn1qz6QHxdRfcRvn019hmu+17bjc/3/w9TaxegN9s75RNSIXi\n",
       "K3G0xJRBr95X3fzgARsrNN717CQAqjNneYzI19fo72Z8mOcrhXTVqKQRM1g0BE85iGh/1E7W3Yl6\n",
       "p5i1C4FKTGCv9UqtLmp5M18n1USVM+lkSYWw1RoO1qeS7yKcFXz8B2OyUu0S8KG9foUr3ApvKYU9\n",
       "vJiD0WiqL2NDsRfwdyFC2gErsSy0zbD1WiZWbKXZ9Hi7POKDSthb7ud5SfMEVnqcZCFfCsRZ0cwn\n",
       "bK8yR3mMF+063KqSHLCB8d45MZCjp42fN/ugTxWMwGclnvH+n4WehISq3Q7XILyAUe9NM8gPddZQ\n",
       "oOgKhliLWe83HG+hFmmC0n/cpf+HbxykUfxd+lQ274RvxvRLTpLLpzkoozT8WdyGRZB6CC7DSjil\n",
       "caD91ZJFt8mN9p9laaSPxKR/MJzKqVKIAIXWDx+usw8Xeryrg/ocChnBV4zGlQldC4Qh3GhvsjCP\n",
       "L/gzN58TV//+y1C+dHZaTY/CXQsIDAnibOY/ZhCSkE/7xwGDubjiex0eNFi5S1ymUebyFUuFrKuY\n",
       "ojKTlRtpISlo6Pn37XE7r7crNHfJ4nH8bgbK2E5DWg/Kz03MQ0clHSPjKzF5PNIhAzLcf8/4eco3\n",
       "ODLUXYASD2DXhuPKW0w7+DeEAH4EmkzutHMdUNGCwsDSDcYqIaEPQc3XcYQwIvJxYRvxfBrH1Oen\n",
       "RkmnVzmVSXSCjmLslqXdggqKvXIMMwbqli/uNJ2pZYaTj1tVTHe22YGK6xge8JKSQP/w+ibx5RLX\n",
       "aMQPm1fimfPInj+rHGuYnyvJY6oftJrzafcW0EXIaMuwpI14exUswQDWvn/1pTbgj01qyzTWH9Kq\n",
       "f1IakNa6QxlbfD0z6Pm1e1Ds8pE9PZCblFJte/+SqshZW70KyDBKM3M1+5uz78LdcZRlQAAAAxFB\n",
       "noRFETw7/wAKCq9fp8AG0oNSNatwUjsbXcrD6cr2pu3Z22aVtB9ldOsiWBSNbHPsHdErDPtzr+lc\n",
       "kygGAnJl//56YLLbNfZ8N3Ty9+c2Dc6pnJAb7ADTFIlOFTDH1CqczcTcZSzRpE2fK0DxNN3a1X/A\n",
       "sYm/sJArQKewfXw4nfnlOdR51ILpcHp9b21hhmLCZK2GVFxsn7MQDceSCbHBh/HZv7tL8Gvh6h1A\n",
       "kNt8FjbwjCr5ZKdyfZDR4rcWXbRChQwRoVlf7xcU2mGJlsQ9bwIOdpejJY+bugc1UCsXPlNoR5Qt\n",
       "bPXxDbxRX1r39M/GXRz2QCTqDfkBAMPwByXYmR1DO5beLUyOeKGRUYpr7OFrUkVAFN4w7ddEW8GC\n",
       "tRt9vmPRMPUqJK9woBcwwMrhQu651ZZj0Nxd8o+u8x7FsQ6jKu/SC2SoRoE2vnk01+SYPv19kHQi\n",
       "yVJdWMB7uPNUjlVMtWgQdXWKn0W8fsmQrWjLmBCPVQ0ONx3oFTxQ/w0O60BmBn9QvqMeITMU/stI\n",
       "w1p3XLGn8u4xJwFFVdJwobEriLZ+posSw+DHYxbtJGf0dTB8PqasGpSppcxlRN1ia81U2Hmo8hPq\n",
       "ce8NjUp8rGnU9FsEt7mGjwPIY0G8dUxjNQaxR9TER0c6uGAepiSZzqMBzGqkSwl2pNSkJAgdtjfu\n",
       "qYLpfCwOkMfQqtisp2nQho+oqxdo4VXxPnoGDTe7rwgR76YXxr4jcBpPVTWeBA/tyY+4RnoIBPO/\n",
       "e9SO29iw9G/A4cPqTuF6d9YI2Tz3ckFoiRulFSlNYbs+U754rdSFIXCMBxx5kwrsIfZy69fCcZnS\n",
       "OsV+AOq2zbc1wwT/ttZ54ZVTnkb/Z8rQKDR8GudLMvTJ43kX3ZH53Z6an+1fRPqjcrq5j8dPpxVg\n",
       "15DWxTVul7Zh5zZhQOV50yK1NtaxgSPbAmsJ7VW95MUulq4psu0Y5+IRz0ukG79ccK6iGhadar0B\n",
       "eYQrba6nUrK7vbOZWjhZjPHI3Y5CFEgokceBW7iCOihWlmfhDxBy3uwBJwAAAvkBnqN0Q38AD+H0\n",
       "1fNkZ8gA2q4GmMtwKKtgzHGt9v9St2tf3d+xJNz5I6MtSb7IRfKD9mHzzUcdweDSWrDn7nna05K1\n",
       "fNCFTlg/p3a2foAzbCCV3jHJ80I6VnlUZaV60+4gBEm2BsxSEZl+yXbSYqO8NSvDAJpcOUtAm0bF\n",
       "1FDCfa7b2tW05Ya35u2PdFQq0N/y6Rp60rElICpGsJfBl7jCtmuLXThN6E8Fhexh0qWW4+toScGB\n",
       "YzOpIcCuEEmOk+fXcLpwB1CjLFDH71oNHpHvl1d8MQp6WBn3VOh9fM5Y4OE+1HxfIDOzofUNnrzt\n",
       "mC60cpkJoOtuoKqygGzMyp0AZSbNEb7MqH3z+tKP2dtiea27SH6F5rmJNV+COxTA8nZdFrlVab4t\n",
       "giLmhZPg6dQRGwXWy/kWZ5SeX4AmsJIQ3hzSBlpjHRVeC4TUhQoYidxBxG6p8VUpeQCmLEx0ZrJv\n",
       "HjY4gtHtNO6XIdHqXDjRemg4rjqnAR/ov/+R6Qpo/ZqjnlHSW3ewfC2POp0Y33sC1QwY4e/7auwX\n",
       "RGIZ0QZbqTdyNhVdJi4CcHHnDxqzh0/ByCClcIx17azMGq7V70ITK7eMvH/xZFryojG8k5HWX/se\n",
       "XSOWV5kEy2oL2SzlVqckIfWPIE/zz9Q4Tsq20MUTvBrwm7cOSrO9ibEjjA9m3v3/Yrh0Hi6eFlFx\n",
       "Lc9bC7/nFKN0ofAl1Bq/5b5relpvKokuxczGs6gLwPnANz33EKBbp+Dcyp69eazBiwnHEA2JcWhf\n",
       "VZ4sB44uL3f68tbSWrBlhpAvK7EVB9opjWwFkA3KkvWctigWdaesPUqwk56PfH4xcU7Wh7EnbBYR\n",
       "1oLzEK2Ody7Lf6u3sbdjqkAcrFfKUEVeWvkgrIyZYlzJxM483I1lwPphSpUS7GecqI49MknsUw5X\n",
       "M3NDuBMA7qnp12SQKsfW8XL2wRIc5o8/srNe62PgVbOuiCLfsQwn41WWN/th8sxgJ4gh/6Gn6t0N\n",
       "RFe0KrPFAAA5YQAAAcwBnqVqQ38AD99z/wWADaNDyku1aPb5sBHXxRkH1bSWLeZMoQ7aA4Cgj32Q\n",
       "2UlHGxKNs/GPjCMwDDaA4LbpxGVyJezYMRrVDoQ9q74r3kXHiZhqyEL+9q+4FeKLpaIiFDn172eh\n",
       "N85ywdGrNL49Vxz09hSXytacrxEkQgPjFFnHhgEFmBxGDtegAZ6nul3RJ5QW/Qb6dduFRPrHBkSX\n",
       "Q//vSraNigQzEa+pzjGG72ThtufuvKlKQWlHCu6DGkIBi+7/ulDqStJ40FTXpbTgavPWgs+LwwMx\n",
       "NtMVKiRZSQU4fbspCtctG7+T0XAqyuOSAfTdITRhiYWWb3X4VGxx6qa9WQiKRLee9fTZ4q9/bATH\n",
       "8Wqsz6GmxCcbAgAciKowoBNja+tk2VHc1rrO9DaNK0/UAzfdIYuaLabP3/Gryjm8V/yYq9EIXIUP\n",
       "qN4UjOjJbCzbS5aGb6WGL0cRZ78DunE9fHyZKB+tXMDihNEoInxkc1PAZ/xApadAYkzzzKgbXou+\n",
       "by3QSg4rmtVgxBHR6vBKZY0jV7sKVGkxw1A7rxa5j0kbmS4zTVTfpuvDfmI0hvyeY9t63Pnxui8s\n",
       "5WZID665r8Zw1gh9yzTCwAVVAAAEKUGaqkmoQWiZTAgj//61KoACpk/SABxbfdnKOUYnhbK4wYx6\n",
       "iIu7XXmdfUix4ZknEmGBQ5D41oIwioI2uxsJ3l+QU3QAr468iox0dF881GwKlHriRHinFOxlrz46\n",
       "AmsAaYAMiuu5/oO4ybXhoyuAgmSewS9xa9cduZRzfqANCMcANgOGQuS/0VIX4Htp80tu7CaJXZJL\n",
       "ivuW9kMm97IMoulIa8oOa7JYBxItw0Qcn/4Mt7w7w0u09dmCjpsC3LCRkme44lGpimE3rm+ctMwh\n",
       "08QZUZFwQHlC3KndMSWhSw9HsVVEb6sjjo2U9Rx76YTzBf8Wv4KA9px2NkWOyCUhZylUoP7E39mc\n",
       "f5fwMDPeQKEdV/P02bOkY8jVxH5eblE/FkhxbJ3NHXcrH5fzTBBTa8Ma3whiI3YiQJLdMzkD0qFa\n",
       "sZ52t5RtfaYHxEb74cGowl5Wbu65pLyfSMQN1tcTTU3M/jTf7h0V3NHtlA3pRTxYHYzpHOLdZpuw\n",
       "P6MNt6S8iCcfi7qhk39XMCDIECnXc9i2CXWHkk8TuyR/cWBU/ebCMpbrGLr958RgyjORO0JUIJk5\n",
       "DdO6eMw1MBSjgjWXOOBMKGvmrjY/K446tVqL6pRwXykleOTTn7kCX540L1KL2RD3Im98UxjzRAPb\n",
       "fn+X7SiG84zYzKl3OZWshhKKVq7JiRi954PZbYpsI4aiuEQ3QSnQ+kAnstv3ZB7oTTcA3/BIbHUy\n",
       "19GKJl8aCNHf9asxEHV0d5R5NL+6YmkRwYtenwWsRsX1yKcGyBdUuJvGrzn5aotjRYs+zfFBvfdg\n",
       "Ne31/7RGBsSJvN/BXLkMFps3pTjG77l2Hia4edHKzyYsvg+Yr9NoLDfrJCsiyr+SW3Pv5nuc7mZp\n",
       "vqGZBuIrLQE9C3kOQ+G2OmDDdkfAHIVA1NwEYJ7+wkgfOUTRFIF1e6cIz4zkA4AzvUpKC0fjRSSl\n",
       "sbC1pMADqKsAtJi2hxd1+UtMD3gOKRgQjvrwVY+qupIH6hGTWI+VMhSVpWfeSr+5j09s14KDTiSQ\n",
       "uM/9c2jI3uYM66SRhOCvcYebr4+VbEP5dQf73wR5CY4+dBhCCH+DKV6zQfSRDe3VnkzhCyuABoFE\n",
       "cE6qg8miNWl1IUyLSu0qKLOyRIaZKVz/lrBDMKi2j3jAAjwWZBLv7YlsWoKNI5NNaH7a4x6gFiPc\n",
       "/7eYzCchrCGFBNR6q/eBDhHjYVK3eF8d+9Fk+6CZCsQSTFr/a804wi9sgVChYGmVQf0hxQoJgDUd\n",
       "Wu74xwyTzTxW9j+2P0ucyYs+aoqRV03yH5gBKah2WSA5cNHXdJ73Bp1GFH8TKpeZtPscjFlgv2YG\n",
       "9Klnz4oOswDtVkdf/ueCFKXSOBYIrmO9j08Hp/x1pFFFfpr60g1WnciuabueuDSpAJyT36WbqWLW\n",
       "cv3C2wAAARVBnshFESw7/wAKUZqIAH8H5a6wSFA+uunWaZgSpCZOzlq/T3r89MZdeYIluiyc656K\n",
       "JOVTkcGvORSK1utxXWJxD/pmymUtoUNbuG0h9FIvh3z1sOS/Q+wdfODYSFnHfbLgYKLa4+m0UlHV\n",
       "uqdH8SX/zAnk++OP0CeRE+9ZpjmZA78KU5qpokEC9Q+iwsOUKGqevhU7ERMrVBATUOxbjwPZia31\n",
       "o3ukVUdCQ1C7/PIrmo3ovnSYnoa60Gi2DAklOCQJDT1GbAsvFn8cRVdPf+o3cvBD7ot5kFScESBL\n",
       "G/wVkE4A4dYOu+oZuMue74Y1g6tQLn6kR648wuRH+QmVGWc+gn0saCttoHASZUApZqeBYwrpwA9I\n",
       "AAABRAGe53RDfwAP4fWE2RfFgA/pCMAqPcHL6PHR+kFBdsyR+3oI1FLT4bJFq/lphABduHJN6uyZ\n",
       "2+GB2Ao1J66aSXiBo71KLn1V84xLCf/FKSGnxmY+qeLM41bkGYC/XEZrgzzCCN5klXtEXxjm32uQ\n",
       "km9IFjpvdYyRKCklA7+Q89LQMu78ZATAvcwiUgxZVeqilkLQbA/V9WzwcimckCqhYsF6gjiivn7J\n",
       "UHCag7HgTtAP78Fgv/M1SznTDYCFlfo8wLI2bpUlmMP4PbMkCipidjDD7hqaponHwJsiq9KFsodA\n",
       "gCVvc6i9iyyuXtTmESPL6lMTd3QEQmvojKoAYdV6r7jTGOPcM6lmzKMfxF0Fhe3yXzzI76G6ghPO\n",
       "a8Zx5r+JM0iC3YP/RpK7KflZNK8ablWG1k0wkGfnljYYrzw1DJf5NMAHtAAAAFoBnulqQ38AD990\n",
       "i6oDDkAJ1SfNISYFxZQA0QYeUc2+E0aLHTGDnEWU93mOOnoIN1Vt+eJYcMrSftOAC5fUXUB+5WNT\n",
       "yKzqdT6xYd7ex1MeLsdbSPj4AizABx0AAAH+QZruSahBbJlMCCH//qpVAAVLxfwAFr6UlJqhYrzf\n",
       "4aEIMw56hqiN5QcXcy0ttnfQDcIW6j2nbcQ6Q9shMXtSIxuCmeZzKWAMfGEigy5GQ899q6LxnXGV\n",
       "9/o7G9XOR195fWJHZZ5aE1quZQM/4aysh83Ixxp8sjJ+Yu7isOsMqBnh2B/Sv05z5tUyTO8VZyHP\n",
       "r0Owwd1AhZEeT4MxBhRENJKldOQzQDEwuUmTl7l9op1i74djteGhDP+hPYQN/UCjvktw6w2XQv1N\n",
       "m4pakfMsovildlih+ShwADRbA67fKxTU9mTkxrB4gkcRvI7/dQWv99fbtvfMtbnJkyzLqHB7K+RS\n",
       "gohE6jESM4koz5Go8FrcUSDLT9iIDigbKqqhIkJfOaT+VoblpeIGe6kiBDYiPz8zYQZLqAUI7brQ\n",
       "e+qh5C72WuLunJhz0dmiqdWzQA0BOceNfgSwJAve+uaI7YLtl3LafL9FiUG85MHTCZqdXNC0wcAb\n",
       "0fqDudwvluiSVF06rXcADdpppOl/OgkVjJTuhp6TviJ4mUX/wzMHvCuKX+DdyKUsGKX13C7oAUsN\n",
       "agUh4kqYCx/6YPymir7sHr+ureXzWckFqRuf54VCk3+ug56iT8gIF993vExTre9oPihaRfCoSOQS\n",
       "jZA9RZrqyD4mYtWjoKlajHwRrstMAANSAAAAbEGfDEUVLDv/AAnniaXkyAB9LLSJkA45SSDUxOoB\n",
       "43PFg3c9dppW89vjHnaAiitYf5y1N3qyXlt941z4jrEV0sci5d14vcDhFglM+Py6R1fW3hxG+gQH\n",
       "tAVyosZGgxgEtlglBkTGBY3AoACLgAAAACMBnyt0Q38AD+H1hNksj/ABLDZ8+VzqYWt7CuB91qqO\n",
       "UAAW0QAAACUBny1qQ38AD990i6oAdz9c7/4n81bpMPrnelKcJhVQ9MHdgAEfAAABekGbMkmoQWyZ\n",
       "TAh3//6plgAUnkLQAXVdAL7n5z8rGP3hehdac/YwseCH7CVzW0lxHApIo9Y7zYvmaP3dBFk29KDs\n",
       "/ckjjrK+6rXGysXiJSqB25oBJYeqiOeT5+bIvz3q5bFcExED3/7H9JdQfE65vovpZkut/Ck15SXO\n",
       "qpBpReloOG5o6YnSvwgDzkmueCjOOh6x6nfKk8CX3HoRu/6G4S7YzPKwyaBLAr1GFVCd3ELODYwd\n",
       "KfgvvhNRSXhlBzjXuY4vj3O2lrQNfrKDO7N/Y5cg3ki58eSbP/DdQYKmJzUcf01379iGJa4HQOK9\n",
       "E/A3Nc/zOaJEuSYfLG2bU6z7U5sFqPhiEw08sd6EasYvDv+nIaCl+VtP8xYvTNaHI1IQlTusKDaK\n",
       "F5AUQNlzZLdgTpL4Wzd/MyWysty3mX3+BnEoeyUhcQH+SyhSO9JH3zFeW1/tnbt/ZUTDHnoAqyYC\n",
       "PK0gN6fQNJSv8kxPkGww/krwz/CVQCfFqAADuwAAAFxBn1BFFSw7/wAJyk+gAk6B0ioIdWf3F1UV\n",
       "JySjD49Xiukw0oJ4LtQcHq0BHs2U42778ERH4p2cNNxJmadaNKksBlzYpBc7+Si8kIfuKKseeGOy\n",
       "o5IZPI77xQA7oAAAABwBn290Q38ABuerFzIt+nAsj/52ZaKrEc9wADPgAAAAHAGfcWpDfwAOf3TC\n",
       "rzbEwGEBodpDWsNqLEzAAk8AAAA7QZtzSahBbJlMCG///qeEACacrFItcAICnEohzITNJ8bSKEv+\n",
       "LwtkqBJDjccuf70GA8JMIL61KIYAGVAAAAQPbW9vdgAAAGxtdmhkAAAAAAAAAAAAAAAAAAAD6AAA\n",
       "B9AAAQAAAQAAAAAAAAAAAAAAAAEAAAAAAAAAAAAAAAAAAAABAAAAAAAAAAAAAAAAAABAAAAAAAAA\n",
       "AAAAAAAAAAAAAAAAAAAAAAAAAAAAAAAAAgAAAzl0cmFrAAAAXHRraGQAAAADAAAAAAAAAAAAAAAB\n",
       "AAAAAAAAB9AAAAAAAAAAAAAAAAAAAAAAAAEAAAAAAAAAAAAAAAAAAAABAAAAAAAAAAAAAAAAAABA\n",
       "AAAAAfQAAAGQAAAAAAAkZWR0cwAAABxlbHN0AAAAAAAAAAEAAAfQAAAIAAABAAAAAAKxbWRpYQAA\n",
       "ACBtZGhkAAAAAAAAAAAAAAAAAAAoAAAAUABVxAAAAAAALWhkbHIAAAAAAAAAAHZpZGUAAAAAAAAA\n",
       "AAAAAABWaWRlb0hhbmRsZXIAAAACXG1pbmYAAAAUdm1oZAAAAAEAAAAAAAAAAAAAACRkaW5mAAAA\n",
       "HGRyZWYAAAAAAAAAAQAAAAx1cmwgAAAAAQAAAhxzdGJsAAAAtHN0c2QAAAAAAAAAAQAAAKRhdmMx\n",
       "AAAAAAAAAAEAAAAAAAAAAAAAAAAAAAAAAfQBkABIAAAASAAAAAAAAAABAAAAAAAAAAAAAAAAAAAA\n",
       "AAAAAAAAAAAAAAAAAAAAAAAAGP//AAAAMmF2Y0MBZAAW/+EAGWdkABas2UCAM+fhAAADAAEAAAMA\n",
       "FA8WLZYBAAZo6+PLIsAAAAAcdXVpZGtoQPJfJE/FujmlG88DI/MAAAAAAAAAGHN0dHMAAAAAAAAA\n",
       "AQAAABQAAAQAAAAAFHN0c3MAAAAAAAAAAQAAAAEAAACgY3R0cwAAAAAAAAASAAAAAwAACAAAAAAB\n",
       "AAAUAAAAAAEAAAgAAAAAAQAAAAAAAAABAAAEAAAAAAEAABQAAAAAAQAACAAAAAABAAAAAAAAAAEA\n",
       "AAQAAAAAAQAAFAAAAAABAAAIAAAAAAEAAAAAAAAAAQAABAAAAAABAAAUAAAAAAEAAAgAAAAAAQAA\n",
       "AAAAAAABAAAEAAAAAAEAAAgAAAAAHHN0c2MAAAAAAAAAAQAAAAEAAAAUAAAAAQAAAGRzdHN6AAAA\n",
       "AAAAAAAAAAAUAAAdMwAABLgAAAVOAAAFVwAAAxUAAAL9AAAB0AAABC0AAAEZAAABSAAAAF4AAAIC\n",
       "AAAAcAAAACcAAAApAAABfgAAAGAAAAAgAAAAIAAAAD8AAAAUc3RjbwAAAAAAAAABAAAALAAAAGJ1\n",
       "ZHRhAAAAWm1ldGEAAAAAAAAAIWhkbHIAAAAAAAAAAG1kaXJhcHBsAAAAAAAAAAAAAAAALWlsc3QA\n",
       "AAAlqXRvbwAAAB1kYXRhAAAAAQAAAABMYXZmNTguMTIuMTAw\n",
       "\">\n",
       "  Your browser does not support the video tag.\n",
       "</video>"
      ],
      "text/plain": [
       "<matplotlib.animation.FuncAnimation at 0x1c256a0278>"
      ]
     },
     "execution_count": 47,
     "metadata": {},
     "output_type": "execute_result"
    }
   ],
   "source": [
    "fig = plt.figure(dpi=100, figsize=(5, 4))\n",
    "plt.scatter(x, y)\n",
    "line, = plt.plot(x, lin(a_guess, b_guess, x))\n",
    "plt.close()\n",
    "\n",
    "def animate(i):\n",
    "    line.set_ydata(lin(a_guess, b_guess, x))\n",
    "    for i in range(30): update()\n",
    "    return line,\n",
    "\n",
    "ani = animation.FuncAnimation(fig, animate, np.arange(0, 20), interval=100)\n",
    "ani"
   ]
  },
  {
   "cell_type": "markdown",
   "metadata": {},
   "source": [
    "## 01:09:15 - RNNs"
   ]
  },
  {
   "cell_type": "markdown",
   "metadata": {},
   "source": [
    "* Download the collected works of Nietzsche:"
   ]
  },
  {
   "cell_type": "code",
   "execution_count": 52,
   "metadata": {},
   "outputs": [],
   "source": [
    "%reload_ext autoreload\n",
    "%autoreload 2\n",
    "%matplotlib inline\n",
    "\n",
    "from fastai.fastai.learner import *\n",
    "from fastai.fastai.column_data import *\n",
    "\n",
    "from fastai.fastai.io import *"
   ]
  },
  {
   "cell_type": "code",
   "execution_count": 48,
   "metadata": {},
   "outputs": [],
   "source": [
    "PATH='data/nietzsche'"
   ]
  },
  {
   "cell_type": "code",
   "execution_count": 53,
   "metadata": {},
   "outputs": [
    {
     "data": {
      "text/plain": [
       "<function fastai.fastai.io.get_data(url, filename)>"
      ]
     },
     "execution_count": 53,
     "metadata": {},
     "output_type": "execute_result"
    }
   ],
   "source": [
    "get_data"
   ]
  },
  {
   "cell_type": "code",
   "execution_count": 54,
   "metadata": {},
   "outputs": [
    {
     "name": "stderr",
     "output_type": "stream",
     "text": [
      "nietzsche.txt: 606kB [00:03, 186kB/s]                             \n"
     ]
    }
   ],
   "source": [
    "get_data('https://s3.amazonaws.com/text-datasets/nietzsche.txt', f'{PATH}nietzsche.txt')"
   ]
  },
  {
   "cell_type": "code",
   "execution_count": 55,
   "metadata": {},
   "outputs": [],
   "source": [
    "text = open(f'{PATH}nietzsche.txt').read()"
   ]
  },
  {
   "cell_type": "code",
   "execution_count": 56,
   "metadata": {},
   "outputs": [
    {
     "name": "stdout",
     "output_type": "stream",
     "text": [
      "Corpus length: 600893\n"
     ]
    }
   ],
   "source": [
    "print('Corpus length:', len(text))"
   ]
  },
  {
   "cell_type": "code",
   "execution_count": 57,
   "metadata": {},
   "outputs": [
    {
     "data": {
      "text/plain": [
       "'PREFACE\\n\\n\\nSUPPOSING that Truth is a woman--what then? Is there not ground\\nfor suspecting that all philosophers, in so far as they have been\\ndogmatists, have failed to understand women--that the terrible\\nseriousness and clumsy importunity with which they have usually paid\\ntheir addresses to Truth, have been unskilled and unseemly methods for\\nwinning a woman? Certainly she has never allowed herself '"
      ]
     },
     "execution_count": 57,
     "metadata": {},
     "output_type": "execute_result"
    }
   ],
   "source": [
    "text[:400]"
   ]
  },
  {
   "cell_type": "markdown",
   "metadata": {},
   "source": [
    "* Going to build a character model which learns to write like Nietzsche."
   ]
  },
  {
   "cell_type": "markdown",
   "metadata": {},
   "source": [
    "### 01:10:24 - Why we need RNNs\n",
    "\n",
    "1. Variable length sequence.\n",
    "  * Very hard with conv nets, very straight forward in RNNs.\n",
    "2. Long-term dependency\n",
    "  * Want to keep track of some state over long-term dependancies.\n",
    "    * Modelling code example: model needs to know if it's inside some sort of section, like a function or `<div>` block.\n",
    "3. Stateful representation: understand context of what's come previously.\n",
    "4. Memory"
   ]
  },
  {
   "cell_type": "markdown",
   "metadata": {},
   "source": [
    "* Example: Swiftkey use RNN to predict next character you might type."
   ]
  },
  {
   "cell_type": "markdown",
   "metadata": {},
   "source": [
    "### 01:13:06 - Jeremy's neural net notation"
   ]
  },
  {
   "cell_type": "markdown",
   "metadata": {},
   "source": [
    "* Example with simple neural network:\n",
    "\n",
    "<img src=\"https://i.gyazo.com/f9a2130f2873a5a27d82f1415b29e44a.gif\" width=400px>\n",
    "\n",
    "  * First arrow = matrix product followed by relu - generates a set of activations.\n",
    "  * Second arrow = softmax to generate output activations."
   ]
  },
  {
   "cell_type": "markdown",
   "metadata": {},
   "source": [
    "* Notation:\n",
    "  * Rectangle = input.\n",
    "  * Circle = hidden layer.\n",
    "  * Triangle = output layer.\n",
    "  * Every shape = activations.\n",
    "  * Arrow = layer operation."
   ]
  },
  {
   "cell_type": "markdown",
   "metadata": {},
   "source": [
    "* CNN example:\n",
    "\n",
    "<img src=\"https://i.gyazo.com/a6d579d8aa0f3be77c467962f6473ec4.gif\" width=400px>"
   ]
  },
  {
   "cell_type": "markdown",
   "metadata": {},
   "source": [
    "* Batch size removed from diagram.\n",
    "* Activation type removed, because it's always quite similar."
   ]
  },
  {
   "cell_type": "markdown",
   "metadata": {},
   "source": [
    "1. Perform convolution with stride 2. Leaves you with activation of size `num_filters, height / 2, width / 2`.\n",
    "2. Perform a flatten and matrix product, leaving you with number of activations.\n",
    "3. Perform softmax to generate output."
   ]
  },
  {
   "cell_type": "markdown",
   "metadata": {},
   "source": [
    "* RNN example:\n",
    "\n",
    "<img src=\"https://i.gyazo.com/795fc0ab906d02b3d8cede23daa90423.gif\" width=400px>"
   ]
  },
  {
   "cell_type": "markdown",
   "metadata": {},
   "source": [
    "* Want to try to predict the 3rd char using an input of the previous 2 chars."
   ]
  },
  {
   "cell_type": "markdown",
   "metadata": {},
   "source": [
    "1. Input first character of each string and generate some activations with a matrix product.\n",
    "2. Put those activations through another matrix product, this time pass in and add the character 2s input to generate the next set of activations.\n",
    "3. Perform softmax to predict characters."
   ]
  },
  {
   "cell_type": "markdown",
   "metadata": {},
   "source": [
    "### 01:20:38 - Implement char model\n",
    "\n",
    "* Grab a set of all chars you see, sorted:"
   ]
  },
  {
   "cell_type": "code",
   "execution_count": 58,
   "metadata": {},
   "outputs": [],
   "source": [
    "chars = sorted(list(set(text)))"
   ]
  },
  {
   "cell_type": "code",
   "execution_count": 62,
   "metadata": {},
   "outputs": [
    {
     "data": {
      "text/plain": [
       "['\\n', ' ', '!', '\"', \"'\", '(', ')', ',', '-', '.', '0', '1']"
      ]
     },
     "execution_count": 62,
     "metadata": {},
     "output_type": "execute_result"
    }
   ],
   "source": [
    "chars[:12]"
   ]
  },
  {
   "cell_type": "code",
   "execution_count": 63,
   "metadata": {},
   "outputs": [
    {
     "name": "stdout",
     "output_type": "stream",
     "text": [
      "total chars: 85\n"
     ]
    }
   ],
   "source": [
    "vocab_size = len(chars) + 1\n",
    "print('total chars:', vocab_size)"
   ]
  },
  {
   "cell_type": "markdown",
   "metadata": {},
   "source": [
    "* Want to have zero value or null in dataset (for padding)"
   ]
  },
  {
   "cell_type": "code",
   "execution_count": 64,
   "metadata": {},
   "outputs": [],
   "source": [
    "chars.insert(0, '\\0')"
   ]
  },
  {
   "cell_type": "code",
   "execution_count": 65,
   "metadata": {},
   "outputs": [
    {
     "data": {
      "text/plain": [
       "'\\n !\"\\'(),-.0123456789:;=?ABCDEFGHIJKLMNOPQRSTUVWXYZ[]_abcdefghijklmnopqrstuvwxy'"
      ]
     },
     "execution_count": 65,
     "metadata": {},
     "output_type": "execute_result"
    }
   ],
   "source": [
    "''.join(chars[1:-6])"
   ]
  },
  {
   "cell_type": "markdown",
   "metadata": {},
   "source": [
    "* Want to map each character to a unique id (and back again):"
   ]
  },
  {
   "cell_type": "code",
   "execution_count": 66,
   "metadata": {},
   "outputs": [],
   "source": [
    "char_indices = dict((c, i) for i, c in enumerate(chars))\n",
    "indices_char = dict((i, c) for i, c in enumerate(chars))"
   ]
  },
  {
   "cell_type": "markdown",
   "metadata": {},
   "source": [
    "* `idx` is the data used for model, which converts char to index"
   ]
  },
  {
   "cell_type": "code",
   "execution_count": 67,
   "metadata": {},
   "outputs": [],
   "source": [
    "idx = [char_indices[c] for c in text]"
   ]
  },
  {
   "cell_type": "code",
   "execution_count": 68,
   "metadata": {},
   "outputs": [
    {
     "data": {
      "text/plain": [
       "[40, 42, 29, 30, 25]"
      ]
     },
     "execution_count": 68,
     "metadata": {},
     "output_type": "execute_result"
    }
   ],
   "source": [
    "idx[:5]"
   ]
  },
  {
   "cell_type": "markdown",
   "metadata": {},
   "source": [
    "* Can confirm it's working by converting indexes back into characters:"
   ]
  },
  {
   "cell_type": "code",
   "execution_count": 70,
   "metadata": {},
   "outputs": [
    {
     "data": {
      "text/plain": [
       "'PREFACE\\n\\n\\nSUPPOSING that Truth is a woman--what then? Is there not gro'"
      ]
     },
     "execution_count": 70,
     "metadata": {},
     "output_type": "execute_result"
    }
   ],
   "source": [
    "''.join(indices_char[i] for i in idx[:70])"
   ]
  },
  {
   "cell_type": "markdown",
   "metadata": {},
   "source": [
    "* Create inputs to model (predict the 4th character given the previous 3):"
   ]
  },
  {
   "cell_type": "code",
   "execution_count": 71,
   "metadata": {},
   "outputs": [],
   "source": [
    "cs = 3\n",
    "c1_dat = [idx[i] for i in range(0, len(idx) - 1 - cs, cs)]\n",
    "c2_dat = [idx[i+1] for i in range(0, len(idx) - 1 - cs, cs)]\n",
    "c3_dat = [idx[i+2] for i in range(0, len(idx) - 1 - cs, cs)]\n",
    "c4_dat = [idx[i+3] for i in range(0, len(idx) - 1 - cs, cs)]"
   ]
  },
  {
   "cell_type": "code",
   "execution_count": 72,
   "metadata": {},
   "outputs": [
    {
     "data": {
      "text/plain": [
       "'PFE\\nPSGh u'"
      ]
     },
     "execution_count": 72,
     "metadata": {},
     "output_type": "execute_result"
    }
   ],
   "source": [
    "''.join(indices_char[i] for i in c1_dat[:10])"
   ]
  },
  {
   "cell_type": "markdown",
   "metadata": {},
   "source": [
    "* Create inputs:"
   ]
  },
  {
   "cell_type": "code",
   "execution_count": 74,
   "metadata": {},
   "outputs": [],
   "source": [
    "x1 = np.stack(c1_dat[:-2])\n",
    "x2 = np.stack(c2_dat[:-2])\n",
    "x3 = np.stack(c3_dat[:-2])"
   ]
  },
  {
   "cell_type": "code",
   "execution_count": 77,
   "metadata": {},
   "outputs": [
    {
     "name": "stdout",
     "output_type": "stream",
     "text": [
      "[40 30 29 ... 67 68 72]\n",
      "[40, 30, 29]\n"
     ]
    }
   ],
   "source": [
    "print(x1)\n",
    "print(c1_dat[:3])"
   ]
  },
  {
   "cell_type": "code",
   "execution_count": 78,
   "metadata": {},
   "outputs": [
    {
     "data": {
      "text/plain": [
       "(200295,)"
      ]
     },
     "execution_count": 78,
     "metadata": {},
     "output_type": "execute_result"
    }
   ],
   "source": [
    "x1.shape"
   ]
  },
  {
   "cell_type": "markdown",
   "metadata": {},
   "source": [
    "* Create output:"
   ]
  },
  {
   "cell_type": "code",
   "execution_count": 79,
   "metadata": {},
   "outputs": [],
   "source": [
    "y = np.stack(c4_dat[:-2])"
   ]
  },
  {
   "cell_type": "code",
   "execution_count": 80,
   "metadata": {},
   "outputs": [
    {
     "data": {
      "text/plain": [
       "array([30, 29,  1, 40])"
      ]
     },
     "execution_count": 80,
     "metadata": {},
     "output_type": "execute_result"
    }
   ],
   "source": [
    "y[:4]"
   ]
  },
  {
   "cell_type": "code",
   "execution_count": 81,
   "metadata": {},
   "outputs": [
    {
     "data": {
      "text/plain": [
       "(200295,)"
      ]
     },
     "execution_count": 81,
     "metadata": {},
     "output_type": "execute_result"
    }
   ],
   "source": [
    "y.shape"
   ]
  },
  {
   "cell_type": "markdown",
   "metadata": {},
   "source": [
    "* Need to decide how many activations and how many latent factors (aka how big is the embedding matrix):"
   ]
  },
  {
   "cell_type": "code",
   "execution_count": 82,
   "metadata": {},
   "outputs": [],
   "source": [
    "n_hidden = 256\n",
    "n_fac = 42"
   ]
  },
  {
   "cell_type": "markdown",
   "metadata": {},
   "source": [
    "* Create the 3-char model as a `nn.Module`.\n",
    "  * Note: we are creating 3 matrixes. One for characters, one for activations between FC and one for softmax output. Each arrow colour represents the same matrix:"
   ]
  },
  {
   "cell_type": "markdown",
   "metadata": {},
   "source": [
    "<img src=\"https://i.gyazo.com/ab0a054793b8dc961cff8b1672881212.gif\" width=\"400px\">"
   ]
  },
  {
   "cell_type": "code",
   "execution_count": 83,
   "metadata": {},
   "outputs": [],
   "source": [
    "class Char3Model(nn.Module):\n",
    "    def __init__(self, vocab_size, n_fac):\n",
    "        super().__init__()\n",
    "        \n",
    "        self.e = nn.Embedding(vocab_size, n_fac)\n",
    "        \n",
    "        # Green arrow from the diagram\n",
    "        self.l_in = nn.Linear(n_fac, n_hidden)\n",
    "        \n",
    "        # Orange arrow from diagram (hidden to hidden operation)\n",
    "        self.l_hidden = nn.Linear(n_hidden, n_hidden)\n",
    "        \n",
    "        # Blue arrow from diagram (hidden to output operation)\n",
    "        self.l_out = nn.Linear(n_hidden, vocab_size)\n",
    "        \n",
    "    def forward(self, c1, c2, c3):\n",
    "        in1 = F.relu(self.l_in(self.e(c1)))\n",
    "        in2 = F.relu(self.l_in(self.e(c2)))\n",
    "        in3 = F.relu(self.l_in(self.e(c3)))\n",
    "        \n",
    "        # Start with empty activations to allow us to make RNN a for loop later\n",
    "        h = V(torch.zeros(in1.size()))\n",
    "        \n",
    "        h = F.tanh(self.l_hidden(h+in1))\n",
    "        h = F.tanh(self.l_hidden(h+in2))\n",
    "        h = F.tanh(self.l_hidden(h+in3))\n",
    "        \n",
    "        return F.log_softmax(self.l_out(h))"
   ]
  },
  {
   "cell_type": "markdown",
   "metadata": {},
   "source": [
    "#### 01:29:58 - Audience questions\n",
    "\n",
    "* Q1: What are the dimensions for each layer?\n",
    "* A1: \n",
    "  * `self.e` = length 42\n",
    "  * `self.l_in` will return something of size hidden\n",
    "  * `self.l_hidden` is square, so will return size `n_hidden` too\n",
    "  * `self.l_out` returns `vocab_size`"
   ]
  },
  {
   "cell_type": "markdown",
   "metadata": {},
   "source": [
    "* Can replace the 4 `h = ` lines in `forward`, with a for loop, which will makes it a recurrent neural net.\n",
    "\n",
    "* Only using Fast.ai for the data loader:"
   ]
  },
  {
   "cell_type": "code",
   "execution_count": 84,
   "metadata": {},
   "outputs": [],
   "source": [
    "md = ColumnarModelData.from_arrays('.', [-1], np.stack([x1, x2, x3], axis=1), y, bs=512)"
   ]
  },
  {
   "cell_type": "code",
   "execution_count": 86,
   "metadata": {},
   "outputs": [
    {
     "data": {
      "text/plain": [
       "<fastai.fastai.column_data.ColumnarModelData at 0x1c259332e8>"
      ]
     },
     "execution_count": 86,
     "metadata": {},
     "output_type": "execute_result"
    }
   ],
   "source": [
    "md"
   ]
  },
  {
   "cell_type": "code",
   "execution_count": 85,
   "metadata": {},
   "outputs": [],
   "source": [
    "m = Char3Model(vocab_size, n_fac)"
   ]
  },
  {
   "cell_type": "code",
   "execution_count": 87,
   "metadata": {},
   "outputs": [],
   "source": [
    "it = iter(md.trn_dl)\n",
    "\n",
    "# Grab a mini batch\n",
    "*xs, yt = next(it)"
   ]
  },
  {
   "cell_type": "code",
   "execution_count": 91,
   "metadata": {},
   "outputs": [
    {
     "data": {
      "text/plain": [
       "torch.Size([512])"
      ]
     },
     "execution_count": 91,
     "metadata": {},
     "output_type": "execute_result"
    }
   ],
   "source": [
    "xs[0].size()"
   ]
  },
  {
   "cell_type": "markdown",
   "metadata": {},
   "source": [
    "* Can call the model as a function by converting tensors to mini-batch:"
   ]
  },
  {
   "cell_type": "code",
   "execution_count": 92,
   "metadata": {},
   "outputs": [],
   "source": [
    "t = m(*V(xs))"
   ]
  },
  {
   "cell_type": "code",
   "execution_count": 93,
   "metadata": {},
   "outputs": [
    {
     "data": {
      "text/plain": [
       "Variable containing:\n",
       "-4.1909 -4.5987 -4.4961  ...  -4.4480 -4.5405 -4.3157\n",
       "-4.3500 -4.3171 -4.7837  ...  -4.7370 -4.5965 -4.1207\n",
       "-4.1188 -4.5435 -4.5411  ...  -4.5079 -4.5598 -4.1349\n",
       "          ...             ⋱             ...          \n",
       "-4.3233 -4.3477 -4.4115  ...  -4.6910 -4.5180 -4.3009\n",
       "-4.4039 -4.2938 -4.6045  ...  -4.4588 -4.4035 -4.1867\n",
       "-4.2590 -4.2989 -4.5310  ...  -4.4962 -4.8699 -4.2146\n",
       "[torch.FloatTensor of size 512x85]"
      ]
     },
     "execution_count": 93,
     "metadata": {},
     "output_type": "execute_result"
    }
   ],
   "source": [
    "t"
   ]
  },
  {
   "cell_type": "markdown",
   "metadata": {},
   "source": [
    "* Create an optimizer using standard PyTorch:"
   ]
  },
  {
   "cell_type": "code",
   "execution_count": 94,
   "metadata": {},
   "outputs": [],
   "source": [
    "opt = optim.Adam(m.parameters(), 1e-2)"
   ]
  },
  {
   "cell_type": "markdown",
   "metadata": {},
   "source": [
    "  * m.parameters() returns a list of parameters to optimize."
   ]
  },
  {
   "cell_type": "code",
   "execution_count": 95,
   "metadata": {},
   "outputs": [
    {
     "data": {
      "application/vnd.jupyter.widget-view+json": {
       "model_id": "d4c0f099ae01424b83fcc54301d91294",
       "version_major": 2,
       "version_minor": 0
      },
      "text/plain": [
       "HBox(children=(IntProgress(value=0, description='Epoch', max=1), HTML(value='')))"
      ]
     },
     "metadata": {},
     "output_type": "display_data"
    },
    {
     "name": "stdout",
     "output_type": "stream",
     "text": [
      "epoch      trn_loss   val_loss                              \n",
      "    0      2.079127   6.939734  \n",
      "\n"
     ]
    },
    {
     "data": {
      "text/plain": [
       "[6.939734]"
      ]
     },
     "execution_count": 95,
     "metadata": {},
     "output_type": "execute_result"
    }
   ],
   "source": [
    "fit(m, md, 1, opt, F.nll_loss)"
   ]
  },
  {
   "cell_type": "markdown",
   "metadata": {},
   "source": [
    "* Since we don't have learning rate annealing, we can decreate the lr ourselves:"
   ]
  },
  {
   "cell_type": "code",
   "execution_count": 96,
   "metadata": {},
   "outputs": [],
   "source": [
    "set_lrs(opt, 0.001)"
   ]
  },
  {
   "cell_type": "code",
   "execution_count": 97,
   "metadata": {},
   "outputs": [
    {
     "data": {
      "application/vnd.jupyter.widget-view+json": {
       "model_id": "3af20cd6fa8e4699aaf4bf1619a15c71",
       "version_major": 2,
       "version_minor": 0
      },
      "text/plain": [
       "HBox(children=(IntProgress(value=0, description='Epoch', max=1), HTML(value='')))"
      ]
     },
     "metadata": {},
     "output_type": "display_data"
    },
    {
     "name": "stdout",
     "output_type": "stream",
     "text": [
      "epoch      trn_loss   val_loss                              \n",
      "    0      1.835597   6.586843  \n",
      "\n"
     ]
    },
    {
     "data": {
      "text/plain": [
       "[6.5868425]"
      ]
     },
     "execution_count": 97,
     "metadata": {},
     "output_type": "execute_result"
    }
   ],
   "source": [
    "fit(m, md, 1, opt, F.nll_loss)"
   ]
  },
  {
   "cell_type": "code",
   "execution_count": 98,
   "metadata": {},
   "outputs": [
    {
     "data": {
      "application/vnd.jupyter.widget-view+json": {
       "model_id": "ff0fc7be60cc4b879d0cd9e13df6d416",
       "version_major": 2,
       "version_minor": 0
      },
      "text/plain": [
       "HBox(children=(IntProgress(value=0, description='Epoch', max=1), HTML(value='')))"
      ]
     },
     "metadata": {},
     "output_type": "display_data"
    },
    {
     "name": "stdout",
     "output_type": "stream",
     "text": [
      "epoch      trn_loss   val_loss                              \n",
      "    0      1.794173   6.583341  \n",
      "\n"
     ]
    },
    {
     "data": {
      "text/plain": [
       "[6.5833406]"
      ]
     },
     "execution_count": 98,
     "metadata": {},
     "output_type": "execute_result"
    }
   ],
   "source": [
    "fit(m, md, 1, opt, F.nll_loss)"
   ]
  },
  {
   "cell_type": "markdown",
   "metadata": {},
   "source": [
    "* Write a function to test the model:"
   ]
  },
  {
   "cell_type": "code",
   "execution_count": 99,
   "metadata": {},
   "outputs": [],
   "source": [
    "def get_next(inp):\n",
    "    idxs = T(np.array([char_indices[c] for c in inp]))\n",
    "    p = m(*VV(idxs))\n",
    "    i = np.argmax(to_np(p))\n",
    "    return chars[i]"
   ]
  },
  {
   "cell_type": "code",
   "execution_count": 100,
   "metadata": {},
   "outputs": [
    {
     "data": {
      "text/plain": [
       "'T'"
      ]
     },
     "execution_count": 100,
     "metadata": {},
     "output_type": "execute_result"
    }
   ],
   "source": [
    "get_next('y. ')"
   ]
  },
  {
   "cell_type": "code",
   "execution_count": 101,
   "metadata": {},
   "outputs": [
    {
     "data": {
      "text/plain": [
       "'e'"
      ]
     },
     "execution_count": 101,
     "metadata": {},
     "output_type": "execute_result"
    }
   ],
   "source": [
    "get_next('ppl')"
   ]
  },
  {
   "cell_type": "code",
   "execution_count": 104,
   "metadata": {},
   "outputs": [
    {
     "data": {
      "text/plain": [
       "'e'"
      ]
     },
     "execution_count": 104,
     "metadata": {},
     "output_type": "execute_result"
    }
   ],
   "source": [
    "get_next(' th')"
   ]
  },
  {
   "cell_type": "code",
   "execution_count": 105,
   "metadata": {},
   "outputs": [
    {
     "data": {
      "text/plain": [
       "' '"
      ]
     },
     "execution_count": 105,
     "metadata": {},
     "output_type": "execute_result"
    }
   ],
   "source": [
    "get_next('and')"
   ]
  },
  {
   "cell_type": "markdown",
   "metadata": {},
   "source": [
    "* Note that character model currently is a standard FC model, only thing slightly different is including the state of `h` in the FC layers."
   ]
  },
  {
   "cell_type": "markdown",
   "metadata": {},
   "source": [
    "### 01:37:43 - Implement char model as RNN"
   ]
  },
  {
   "cell_type": "markdown",
   "metadata": {},
   "source": [
    "* Want to simplify char model diagram using a loop:\n",
    "\n",
    "<img src=\"https://i.gyazo.com/a8ecdfd123c83a8d00daa2f9ec8a494e.gif\" width=400px>"
   ]
  },
  {
   "cell_type": "markdown",
   "metadata": {},
   "source": [
    "* Could be simplified future, by not making first char a special case:\n",
    "\n",
    "<img src=\"https://i.gyazo.com/a6c645dc2219c77f86ceec30d00c7dd3.gif\" width=400px>"
   ]
  },
  {
   "cell_type": "markdown",
   "metadata": {},
   "source": [
    "### 01:39:37 - Audience questions\n",
    "\n",
    "* Q1: Why reuse the same weight matrices - is it similar to filters in conv nets?\n",
    "* A1: Sort of. A convolution is a different operation but they do both share a single set of weights."
   ]
  },
  {
   "cell_type": "markdown",
   "metadata": {},
   "source": [
    "* This time we'll use 8 chars to predict the 9th char:"
   ]
  },
  {
   "cell_type": "code",
   "execution_count": 107,
   "metadata": {},
   "outputs": [],
   "source": [
    "cs = 8"
   ]
  },
  {
   "cell_type": "markdown",
   "metadata": {},
   "source": [
    "* For each 0 through 7, create a list of each 8th char with that starting point:"
   ]
  },
  {
   "cell_type": "code",
   "execution_count": 111,
   "metadata": {},
   "outputs": [],
   "source": [
    "c_in_dat = [[idx[i+j] for i in range(cs)] for j in range(len(idx) -cs -1)]"
   ]
  },
  {
   "cell_type": "code",
   "execution_count": 112,
   "metadata": {},
   "outputs": [
    {
     "data": {
      "text/plain": [
       "[[40, 42, 29, 30, 25, 27, 29, 1], [42, 29, 30, 25, 27, 29, 1, 1]]"
      ]
     },
     "execution_count": 112,
     "metadata": {},
     "output_type": "execute_result"
    }
   ],
   "source": [
    "c_in_dat[:2]"
   ]
  },
  {
   "cell_type": "code",
   "execution_count": 113,
   "metadata": {},
   "outputs": [],
   "source": [
    "c_out_dat = [idx[j+cs] for j in range(len(idx) - cs - 1)]"
   ]
  },
  {
   "cell_type": "code",
   "execution_count": 114,
   "metadata": {},
   "outputs": [],
   "source": [
    "xs = np.stack(c_in_dat, axis=0)"
   ]
  },
  {
   "cell_type": "code",
   "execution_count": 115,
   "metadata": {},
   "outputs": [
    {
     "data": {
      "text/plain": [
       "(600884, 8)"
      ]
     },
     "execution_count": 115,
     "metadata": {},
     "output_type": "execute_result"
    }
   ],
   "source": [
    "xs.shape"
   ]
  },
  {
   "cell_type": "code",
   "execution_count": 116,
   "metadata": {},
   "outputs": [],
   "source": [
    "y = np.stack(c_out_dat)"
   ]
  },
  {
   "cell_type": "markdown",
   "metadata": {},
   "source": [
    "* Each column is a series of 8 chars from the text:"
   ]
  },
  {
   "cell_type": "code",
   "execution_count": 117,
   "metadata": {},
   "outputs": [
    {
     "data": {
      "text/plain": [
       "array([[40, 42, 29, 30, 25, 27, 29,  1],\n",
       "       [42, 29, 30, 25, 27, 29,  1,  1],\n",
       "       [29, 30, 25, 27, 29,  1,  1,  1],\n",
       "       [30, 25, 27, 29,  1,  1,  1, 43],\n",
       "       [25, 27, 29,  1,  1,  1, 43, 45],\n",
       "       [27, 29,  1,  1,  1, 43, 45, 40],\n",
       "       [29,  1,  1,  1, 43, 45, 40, 40],\n",
       "       [ 1,  1,  1, 43, 45, 40, 40, 39]])"
      ]
     },
     "execution_count": 117,
     "metadata": {},
     "output_type": "execute_result"
    }
   ],
   "source": [
    "xs[:cs,:cs]"
   ]
  },
  {
   "cell_type": "markdown",
   "metadata": {},
   "source": [
    "* Then y is the next char:"
   ]
  },
  {
   "cell_type": "code",
   "execution_count": 118,
   "metadata": {},
   "outputs": [
    {
     "data": {
      "text/plain": [
       "array([ 1,  1, 43, 45, 40, 40, 39, 43])"
      ]
     },
     "execution_count": 118,
     "metadata": {},
     "output_type": "execute_result"
    }
   ],
   "source": [
    "y[:cs]"
   ]
  },
  {
   "cell_type": "markdown",
   "metadata": {},
   "source": [
    "#### 01:42:57 - Create and train model"
   ]
  },
  {
   "cell_type": "code",
   "execution_count": 119,
   "metadata": {},
   "outputs": [],
   "source": [
    "val_idx = get_cv_idxs(len(idx) - cs - 1)"
   ]
  },
  {
   "cell_type": "code",
   "execution_count": 120,
   "metadata": {},
   "outputs": [],
   "source": [
    "md = ColumnarModelData.from_arrays('.', val_idx, xs, y, bs=512)"
   ]
  },
  {
   "cell_type": "code",
   "execution_count": 127,
   "metadata": {},
   "outputs": [],
   "source": [
    "class CharLoopModel(nn.Module):\n",
    "    def __init__(self, vocab_size, n_fac):\n",
    "        super().__init__()\n",
    "        self.e = nn.Embedding(vocab_size, n_fac)\n",
    "        self.l_in = nn.Linear(n_fac, n_hidden)\n",
    "        self.l_hidden = nn.Linear(n_hidden, n_hidden)\n",
    "        self.l_out = nn.Linear(n_hidden, vocab_size)\n",
    "        \n",
    "    def forward(self, *cs):\n",
    "        bs = cs[0].size(0)\n",
    "        \n",
    "        h = V(torch.zeros(bs, n_hidden))\n",
    "        for c in cs:\n",
    "            inp = F.relu(self.l_in(self.e(c)))\n",
    "            h = F.tanh(self.l_hidden(h+inp))\n",
    "            \n",
    "        return F.log_softmax(self.l_out(h))"
   ]
  },
  {
   "cell_type": "code",
   "execution_count": 128,
   "metadata": {},
   "outputs": [],
   "source": [
    "m = CharLoopModel(vocab_size, n_fac)\n",
    "opt = optim.Adam(m.parameters(), 1e-2)"
   ]
  },
  {
   "cell_type": "markdown",
   "metadata": {},
   "source": [
    "* Why use a hyperbolic tanh (`F.tanh`)?\n",
    "  * Very common to use in a state-to-state transition because it prevents values getting too high or too lower.\n",
    "  * Similar to a sigmoid but appears to return values from -1 to 1."
   ]
  },
  {
   "cell_type": "code",
   "execution_count": 129,
   "metadata": {},
   "outputs": [
    {
     "data": {
      "application/vnd.jupyter.widget-view+json": {
       "model_id": "7465aa34886843e3936787250244433c",
       "version_major": 2,
       "version_minor": 0
      },
      "text/plain": [
       "HBox(children=(IntProgress(value=0, description='Epoch', max=1), HTML(value='')))"
      ]
     },
     "metadata": {},
     "output_type": "display_data"
    },
    {
     "name": "stdout",
     "output_type": "stream",
     "text": [
      "epoch      trn_loss   val_loss                              \n",
      "    0      2.014126   1.988078  \n",
      "\n"
     ]
    },
    {
     "data": {
      "text/plain": [
       "[1.9880784]"
      ]
     },
     "execution_count": 129,
     "metadata": {},
     "output_type": "execute_result"
    }
   ],
   "source": [
    "fit(m, md, 1, opt, F.nll_loss)"
   ]
  },
  {
   "cell_type": "code",
   "execution_count": 130,
   "metadata": {},
   "outputs": [],
   "source": [
    "set_lrs(opt, 0.001)"
   ]
  },
  {
   "cell_type": "code",
   "execution_count": 131,
   "metadata": {},
   "outputs": [
    {
     "data": {
      "application/vnd.jupyter.widget-view+json": {
       "model_id": "5bc2fd4a9f4f4274927d476c861232a0",
       "version_major": 2,
       "version_minor": 0
      },
      "text/plain": [
       "HBox(children=(IntProgress(value=0, description='Epoch', max=1), HTML(value='')))"
      ]
     },
     "metadata": {},
     "output_type": "display_data"
    },
    {
     "name": "stdout",
     "output_type": "stream",
     "text": [
      "epoch      trn_loss   val_loss                              \n",
      "    0      1.718956   1.710837  \n",
      "\n"
     ]
    },
    {
     "data": {
      "text/plain": [
       "[1.7108371]"
      ]
     },
     "execution_count": 131,
     "metadata": {},
     "output_type": "execute_result"
    }
   ],
   "source": [
    "fit(m, md, 1, opt, F.nll_loss)"
   ]
  },
  {
   "cell_type": "markdown",
   "metadata": {},
   "source": [
    "* Might want to rethink adding the h to inp because you might loose some information in the process. Instead, consider concatting them:"
   ]
  },
  {
   "cell_type": "code",
   "execution_count": 138,
   "metadata": {},
   "outputs": [],
   "source": [
    "class CharLoopConcatModel(nn.Module):\n",
    "    def __init__(self, vocab_size, n_fac):\n",
    "        super().__init__()\n",
    "        self.e = nn.Embedding(vocab_size, n_fac)\n",
    "        \n",
    "        # Note: we're adding the hidden layer dimensions to layer\n",
    "        self.l_in = nn.Linear(n_fac + n_hidden, n_hidden)\n",
    "        \n",
    "        self.l_hidden = nn.Linear(n_hidden, n_hidden)\n",
    "        self.l_out = nn.Linear(n_hidden, vocab_size)\n",
    "        \n",
    "    def forward(self, *cs):\n",
    "        bs = cs[0].size(0)\n",
    "        h = V(torch.zeros(bs, n_hidden))\n",
    "        for c in cs:\n",
    "            # Use cat instead of `h+inp`\n",
    "            inp = torch.cat((h, self.e(c)), 1)\n",
    "            inp = F.relu(self.l_in(inp))\n",
    "            h = F.tanh(self.l_hidden(inp))\n",
    "            \n",
    "        return F.log_softmax(self.l_out(h))"
   ]
  },
  {
   "cell_type": "code",
   "execution_count": 139,
   "metadata": {},
   "outputs": [],
   "source": [
    "m = CharLoopConcatModel(vocab_size, n_fac)\n",
    "opt = optim.Adam(m.parameters(), 1e-3)"
   ]
  },
  {
   "cell_type": "code",
   "execution_count": 140,
   "metadata": {},
   "outputs": [
    {
     "data": {
      "application/vnd.jupyter.widget-view+json": {
       "model_id": "595b65199e764df08beaddfe59e0cad6",
       "version_major": 2,
       "version_minor": 0
      },
      "text/plain": [
       "HBox(children=(IntProgress(value=0, description='Epoch', max=1), HTML(value='')))"
      ]
     },
     "metadata": {},
     "output_type": "display_data"
    },
    {
     "name": "stdout",
     "output_type": "stream",
     "text": [
      "epoch      trn_loss   val_loss                              \n",
      "    0      1.80335    1.776143  \n",
      "\n"
     ]
    },
    {
     "data": {
      "text/plain": [
       "[1.7761427]"
      ]
     },
     "execution_count": 140,
     "metadata": {},
     "output_type": "execute_result"
    }
   ],
   "source": [
    "fit(m, md, 1, opt, F.nll_loss)"
   ]
  },
  {
   "cell_type": "code",
   "execution_count": 141,
   "metadata": {},
   "outputs": [],
   "source": [
    "set_lrs(opt, 1e-4)"
   ]
  },
  {
   "cell_type": "code",
   "execution_count": 142,
   "metadata": {},
   "outputs": [
    {
     "data": {
      "application/vnd.jupyter.widget-view+json": {
       "model_id": "79d8516472f24f329f87d37736f402e2",
       "version_major": 2,
       "version_minor": 0
      },
      "text/plain": [
       "HBox(children=(IntProgress(value=0, description='Epoch', max=1), HTML(value='')))"
      ]
     },
     "metadata": {},
     "output_type": "display_data"
    },
    {
     "name": "stdout",
     "output_type": "stream",
     "text": [
      "epoch      trn_loss   val_loss                              \n",
      "    0      1.684319   1.694439  \n",
      "\n"
     ]
    },
    {
     "data": {
      "text/plain": [
       "[1.6944394]"
      ]
     },
     "execution_count": 142,
     "metadata": {},
     "output_type": "execute_result"
    }
   ],
   "source": [
    "fit(m, md, 1, opt, F.nll_loss)"
   ]
  },
  {
   "cell_type": "markdown",
   "metadata": {},
   "source": [
    "* Can test model as above:"
   ]
  },
  {
   "cell_type": "code",
   "execution_count": 143,
   "metadata": {},
   "outputs": [],
   "source": [
    "def get_next(inp):\n",
    "    idxs = T(np.array([char_indices[c] for c in inp]))\n",
    "    p = m(*VV(idxs))\n",
    "    i = np.argmax(to_np(p))\n",
    "    return chars[i]"
   ]
  },
  {
   "cell_type": "code",
   "execution_count": 144,
   "metadata": {},
   "outputs": [
    {
     "data": {
      "text/plain": [
       "'e'"
      ]
     },
     "execution_count": 144,
     "metadata": {},
     "output_type": "execute_result"
    }
   ],
   "source": [
    "get_next('for thos')"
   ]
  },
  {
   "cell_type": "code",
   "execution_count": 145,
   "metadata": {},
   "outputs": [
    {
     "data": {
      "text/plain": [
       "'t'"
      ]
     },
     "execution_count": 145,
     "metadata": {},
     "output_type": "execute_result"
    }
   ],
   "source": [
    "get_next('part of ')"
   ]
  },
  {
   "cell_type": "code",
   "execution_count": 146,
   "metadata": {},
   "outputs": [
    {
     "data": {
      "text/plain": [
       "'n'"
      ]
     },
     "execution_count": 146,
     "metadata": {},
     "output_type": "execute_result"
    }
   ],
   "source": [
    "get_next('who is i')"
   ]
  },
  {
   "cell_type": "markdown",
   "metadata": {},
   "source": [
    "### 01:48:47 - Implement RNN with PyTorch"
   ]
  },
  {
   "cell_type": "markdown",
   "metadata": {},
   "source": [
    "* PyTorch has tools to write the RNN loop and build the appropriate linear layers, using the `nn.RNN` class:"
   ]
  },
  {
   "cell_type": "code",
   "execution_count": 152,
   "metadata": {},
   "outputs": [],
   "source": [
    "class CharRnn(nn.Module):\n",
    "    def __init__(self, vocab_size, n_fac):\n",
    "        super().__init__()\n",
    "        self.e = nn.Embedding(vocab_size, n_fac)\n",
    "        \n",
    "        self.rnn = nn.RNN(n_fac, n_hidden)\n",
    "        \n",
    "        self.l_out = nn.Linear(n_hidden, vocab_size)\n",
    "        \n",
    "    def forward(self, *cs):\n",
    "        bs = cs[0].size(0)\n",
    "        h = V(torch.zeros(1, bs, n_hidden))\n",
    "        inp = self.e(torch.stack(cs))\n",
    "        \n",
    "        # Runs the for loop above. Note that it still requires a starting point.\n",
    "        # Note that in some cases, it can be useful to save hidden state.\n",
    "        outp, h = self.rnn(inp, h)\n",
    "        \n",
    "        # outp is a list of outputs. Want to grab the last one.\n",
    "        return F.log_softmax(self.l_out(outp[-1]))"
   ]
  },
  {
   "cell_type": "markdown",
   "metadata": {},
   "source": [
    "* One minor difference between out implementation and PyTorches: `h` is a list of activations from each layer. That's why we have to get the last one: `outp[-1]`"
   ]
  },
  {
   "cell_type": "code",
   "execution_count": 148,
   "metadata": {},
   "outputs": [],
   "source": [
    "m = CharRnn(vocab_size, n_fac)\n",
    "opt = optim.Adam(m.parameters(), 1e-3)"
   ]
  },
  {
   "cell_type": "code",
   "execution_count": 153,
   "metadata": {},
   "outputs": [
    {
     "data": {
      "application/vnd.jupyter.widget-view+json": {
       "model_id": "607baca71a9a46d9ac8e3c2c47115fbd",
       "version_major": 2,
       "version_minor": 0
      },
      "text/plain": [
       "HBox(children=(IntProgress(value=0, description='Epoch', max=4), HTML(value='')))"
      ]
     },
     "metadata": {},
     "output_type": "display_data"
    },
    {
     "name": "stdout",
     "output_type": "stream",
     "text": [
      "epoch      trn_loss   val_loss                              \n",
      "    0      1.863854   1.84218   \n",
      "    1      1.668912   1.666394                              \n",
      "    2      1.593248   1.587343                              \n",
      "    3      1.535342   1.552545                              \n",
      "\n"
     ]
    },
    {
     "data": {
      "text/plain": [
       "[1.5525452]"
      ]
     },
     "execution_count": 153,
     "metadata": {},
     "output_type": "execute_result"
    }
   ],
   "source": [
    "fit(m, md, 4, opt, F.nll_loss)"
   ]
  },
  {
   "cell_type": "code",
   "execution_count": 154,
   "metadata": {},
   "outputs": [],
   "source": [
    "set_lrs(opt, 1e-4)"
   ]
  },
  {
   "cell_type": "code",
   "execution_count": 155,
   "metadata": {},
   "outputs": [
    {
     "data": {
      "application/vnd.jupyter.widget-view+json": {
       "model_id": "a092909b063c4266af367c7e481242bd",
       "version_major": 2,
       "version_minor": 0
      },
      "text/plain": [
       "HBox(children=(IntProgress(value=0, description='Epoch', max=2), HTML(value='')))"
      ]
     },
     "metadata": {},
     "output_type": "display_data"
    },
    {
     "name": "stdout",
     "output_type": "stream",
     "text": [
      "epoch      trn_loss   val_loss                              \n",
      "    0      1.473912   1.50956   \n",
      "    1      1.453243   1.503829                              \n",
      "\n"
     ]
    },
    {
     "data": {
      "text/plain": [
       "[1.5038285]"
      ]
     },
     "execution_count": 155,
     "metadata": {},
     "output_type": "execute_result"
    }
   ],
   "source": [
    "fit(m, md, 2, opt, F.nll_loss)"
   ]
  },
  {
   "cell_type": "markdown",
   "metadata": {},
   "source": [
    "* Test model again:"
   ]
  },
  {
   "cell_type": "code",
   "execution_count": 160,
   "metadata": {},
   "outputs": [],
   "source": [
    "def get_next(inp):\n",
    "    idxs = T(np.array([char_indices[c] for c in inp]))\n",
    "    p = m(*VV(idxs))\n",
    "    i = np.argmax(to_np(p))\n",
    "    return chars[i]"
   ]
  },
  {
   "cell_type": "code",
   "execution_count": 161,
   "metadata": {},
   "outputs": [
    {
     "data": {
      "text/plain": [
       "'e'"
      ]
     },
     "execution_count": 161,
     "metadata": {},
     "output_type": "execute_result"
    }
   ],
   "source": [
    "get_next('for thos')"
   ]
  },
  {
   "cell_type": "code",
   "execution_count": 162,
   "metadata": {},
   "outputs": [],
   "source": [
    "def get_next_n(inp, n):\n",
    "    res = inp\n",
    "    for i in range(n):\n",
    "        c = get_next(inp)\n",
    "        res += c\n",
    "        inp = inp[1:] + c\n",
    "    return res"
   ]
  },
  {
   "cell_type": "code",
   "execution_count": 163,
   "metadata": {},
   "outputs": [
    {
     "data": {
      "text/plain": [
       "'for those and the same the same the same the sam'"
      ]
     },
     "execution_count": 163,
     "metadata": {},
     "output_type": "execute_result"
    }
   ],
   "source": [
    "get_next_n('for thos', 40)"
   ]
  },
  {
   "cell_type": "markdown",
   "metadata": {},
   "source": [
    "* Useful to try to reimplement `nn.RNN` yourself and see if you get the same results out of PyTorch's implementation."
   ]
  },
  {
   "cell_type": "markdown",
   "metadata": {},
   "source": [
    "### 01:55:30 - Multi-output model\n",
    "\n",
    "* One more change to model: returning an output after every iteration (note where the triangle is placed)\n",
    "\n",
    "<img src=\"https://i.gyazo.com/cd7bc803f2b4a7aafed7817fac8e3b6e.gif\" width=400px>"
   ]
  },
  {
   "cell_type": "markdown",
   "metadata": {},
   "source": [
    "* Change to the for loop would be to accumulate the softmax outputs for each iteration:\n",
    "\n",
    "  ```\n",
    "  res = []\n",
    "  for c in cs:\n",
    "    # Use cat instead of `h+inp`\n",
    "    inp = torch.cat((h, self.e(c)), 1)\n",
    "    inp = F.relu(self.l_in(inp))\n",
    "    h = F.tanh(self.l_hidden(inp))\n",
    "    res.append(F.log_softmax(self.l_out(h))\n",
    "  ```"
   ]
  },
  {
   "cell_type": "markdown",
   "metadata": {},
   "source": [
    "* Then, instead of picking 8 chars and predicting the 9th, take 8 characters in a single `x` instance, and use the corresponding chars offset by one in `y`.\n",
    "* First, take non-overlapping sets of chars:"
   ]
  },
  {
   "cell_type": "code",
   "execution_count": 164,
   "metadata": {},
   "outputs": [],
   "source": [
    "c_in_dat = [[idx[i + j] for i in range(cs)] for j in range(0, len(idx) - cs - 1, cs)]"
   ]
  },
  {
   "cell_type": "code",
   "execution_count": 166,
   "metadata": {},
   "outputs": [
    {
     "data": {
      "text/plain": [
       "(75111, 8)"
      ]
     },
     "execution_count": 166,
     "metadata": {},
     "output_type": "execute_result"
    }
   ],
   "source": [
    "xs = np.stack(c_in_dat)\n",
    "xs.shape"
   ]
  },
  {
   "cell_type": "code",
   "execution_count": null,
   "metadata": {},
   "outputs": [],
   "source": [
    "* Create same thing, offset by 1:"
   ]
  },
  {
   "cell_type": "code",
   "execution_count": 170,
   "metadata": {},
   "outputs": [],
   "source": [
    "c_out_dat = [[idx[i+j] for i in range(cs)] for j in range(1, len(idx) - cs, cs)]"
   ]
  },
  {
   "cell_type": "code",
   "execution_count": 171,
   "metadata": {},
   "outputs": [
    {
     "data": {
      "text/plain": [
       "(75111, 8)"
      ]
     },
     "execution_count": 171,
     "metadata": {},
     "output_type": "execute_result"
    }
   ],
   "source": [
    "ys = np.stack(c_out_dat)\n",
    "ys.shape"
   ]
  },
  {
   "cell_type": "code",
   "execution_count": 172,
   "metadata": {},
   "outputs": [
    {
     "data": {
      "text/plain": [
       "array([[40, 42, 29, 30, 25, 27, 29,  1],\n",
       "       [ 1,  1, 43, 45, 40, 40, 39, 43],\n",
       "       [33, 38, 31,  2, 73, 61, 54, 73],\n",
       "       [ 2, 44, 71, 74, 73, 61,  2, 62],\n",
       "       [72,  2, 54,  2, 76, 68, 66, 54],\n",
       "       [67,  9,  9, 76, 61, 54, 73,  2],\n",
       "       [73, 61, 58, 67, 24,  2, 33, 72],\n",
       "       [ 2, 73, 61, 58, 71, 58,  2, 67]])"
      ]
     },
     "execution_count": 172,
     "metadata": {},
     "output_type": "execute_result"
    }
   ],
   "source": [
    "xs[:cs, :cs]"
   ]
  },
  {
   "cell_type": "code",
   "execution_count": 173,
   "metadata": {},
   "outputs": [
    {
     "data": {
      "text/plain": [
       "array([[42, 29, 30, 25, 27, 29,  1,  1],\n",
       "       [ 1, 43, 45, 40, 40, 39, 43, 33],\n",
       "       [38, 31,  2, 73, 61, 54, 73,  2],\n",
       "       [44, 71, 74, 73, 61,  2, 62, 72],\n",
       "       [ 2, 54,  2, 76, 68, 66, 54, 67],\n",
       "       [ 9,  9, 76, 61, 54, 73,  2, 73],\n",
       "       [61, 58, 67, 24,  2, 33, 72,  2],\n",
       "       [73, 61, 58, 71, 58,  2, 67, 68]])"
      ]
     },
     "execution_count": 173,
     "metadata": {},
     "output_type": "execute_result"
    }
   ],
   "source": [
    "ys[:cs, :cs]"
   ]
  },
  {
   "cell_type": "markdown",
   "metadata": {},
   "source": [
    "* Allows for training model \"more efficiently\"."
   ]
  },
  {
   "cell_type": "code",
   "execution_count": 175,
   "metadata": {},
   "outputs": [],
   "source": [
    "val_idx = get_cv_idxs(len(xs) - cs - 1)"
   ]
  },
  {
   "cell_type": "code",
   "execution_count": 176,
   "metadata": {},
   "outputs": [],
   "source": [
    "md = ColumnarModelData.from_arrays('.', val_idx, xs, ys, bs=512)"
   ]
  },
  {
   "cell_type": "code",
   "execution_count": 180,
   "metadata": {},
   "outputs": [],
   "source": [
    "class CharSeqRnn(nn.Module):\n",
    "    def __init__(self, vocab_size, n_fac):\n",
    "        super().__init__()\n",
    "        self.e = nn.Embedding(vocab_size, n_fac)\n",
    "        self.rnn = nn.RNN(n_fac, n_hidden)\n",
    "        self.l_out = nn.Linear(n_hidden, vocab_size)\n",
    "        \n",
    "    def forward(self, *cs):\n",
    "        bs = cs[0].size(0)\n",
    "        h = V(torch.zeros(1, bs, n_hidden))\n",
    "        inp = self.e(torch.stack(cs))\n",
    "        outp, h = self.rnn(inp, h)\n",
    "        \n",
    "        # Note: that the only change here is that we're taking all outputs\n",
    "        # instead of just the last.\n",
    "        return F.log_softmax(self.l_out(outp))"
   ]
  },
  {
   "cell_type": "code",
   "execution_count": 178,
   "metadata": {},
   "outputs": [],
   "source": [
    "m = CharSeqRnn(vocab_size, n_fac)\n",
    "opt = optim.Adam(m.parameters(), 1e-3)"
   ]
  },
  {
   "cell_type": "code",
   "execution_count": 185,
   "metadata": {},
   "outputs": [],
   "source": [
    "it = iter(md.trn_dl)\n",
    "*xst,yt = next(it)"
   ]
  },
  {
   "cell_type": "code",
   "execution_count": 186,
   "metadata": {},
   "outputs": [
    {
     "data": {
      "text/plain": [
       "torch.Size([512, 8])"
      ]
     },
     "execution_count": 186,
     "metadata": {},
     "output_type": "execute_result"
    }
   ],
   "source": [
    "yt.size()"
   ]
  },
  {
   "cell_type": "markdown",
   "metadata": {},
   "source": [
    "* (02:00:41) One complexity: using negative log likelihood loss function, expects to receive 2 rank 1 tensors (with mini-batch: rank 2).\n",
    "  * In this output, we have 8 timesteps each with 84 probabilities (a rank 3 tensor).\n",
    "  * Can fix it as follows:"
   ]
  },
  {
   "cell_type": "code",
   "execution_count": 187,
   "metadata": {},
   "outputs": [],
   "source": [
    "def nll_loss_seq(inp, targ):\n",
    "    (sequence_length,\n",
    "     batch_size, \n",
    "     num_hidden\n",
    "    ) = inp.size()\n",
    "    # Have to transpose so the axises match the input.\n",
    "    # Then flatter.\n",
    "    targ = targ.transpose(0, 1).contiguous().view(-1)\n",
    "    # Flatten input and calculate negative log likelihood loss.\n",
    "    return F.nll_loss(inp.view(-1, num_hidden), targ)"
   ]
  },
  {
   "cell_type": "code",
   "execution_count": 188,
   "metadata": {},
   "outputs": [
    {
     "data": {
      "application/vnd.jupyter.widget-view+json": {
       "model_id": "c491e1aa9a9947b6b70565b4f79b5f9d",
       "version_major": 2,
       "version_minor": 0
      },
      "text/plain": [
       "HBox(children=(IntProgress(value=0, description='Epoch', max=4), HTML(value='')))"
      ]
     },
     "metadata": {},
     "output_type": "display_data"
    },
    {
     "name": "stdout",
     "output_type": "stream",
     "text": [
      "epoch      trn_loss   val_loss                              \n",
      "    0      1.118946   0.951573  \n",
      "    1      0.843984   0.777325                               \n",
      "    2      0.722619   0.691261                               \n",
      "    3      0.651092   0.636679                               \n",
      "\n"
     ]
    },
    {
     "data": {
      "text/plain": [
       "[0.6366791]"
      ]
     },
     "execution_count": 188,
     "metadata": {},
     "output_type": "execute_result"
    }
   ],
   "source": [
    "fit(m, md, 4, opt, nll_loss_seq)"
   ]
  },
  {
   "cell_type": "markdown",
   "metadata": {},
   "source": [
    "* `fit` just implementes the training loop: should be all standard PyTorch stuff except the data."
   ]
  },
  {
   "cell_type": "markdown",
   "metadata": {},
   "source": [
    "#### 02:06:05 - Audience questions\n",
    "\n",
    "* Q1. Should the sequence length be much longer in the multi-output model, given the first input only has 0s to go off?\n",
    "* A1. Ideally, you'd line up the model, so that each batch passes some state to the next batch.\n",
    "  * Could move the zero initialisation for `V(torch.zeros(1, bs, n_hidden))` into the constructor, then it's shared between forward prop calls."
   ]
  },
  {
   "cell_type": "markdown",
   "metadata": {},
   "source": [
    "### 02:08:20 - Using the identity matrix to initialise recurrent weight matrix\n",
    "\n",
    "* If matrix multiple increases activations each time, it could cause exploding or vanishing gradients.\n",
    "  * Want to ensure initial `l_hidden` should be of a size that doesn't cause activations to increase or decrease.\n",
    "  * Geoffrey Hinton paper [A Simple Way To Initialize Recurrent Networks of Rectified Linear Units](https://arxiv.org/abs/1504.00941) proposes using identity matrix to initialize recurrent weight matrix.  \n",
    "* Performed in one line below:"
   ]
  },
  {
   "cell_type": "code",
   "execution_count": 193,
   "metadata": {},
   "outputs": [],
   "source": [
    "m = CharSeqRnn(vocab_size, n_fac)\n",
    "opt = optim.Adam(m.parameters(), 1e-2)"
   ]
  },
  {
   "cell_type": "code",
   "execution_count": 194,
   "metadata": {},
   "outputs": [
    {
     "data": {
      "text/plain": [
       "\n",
       "    1     0     0  ...      0     0     0\n",
       "    0     1     0  ...      0     0     0\n",
       "    0     0     1  ...      0     0     0\n",
       "       ...          ⋱          ...       \n",
       "    0     0     0  ...      1     0     0\n",
       "    0     0     0  ...      0     1     0\n",
       "    0     0     0  ...      0     0     1\n",
       "[torch.FloatTensor of size 256x256]"
      ]
     },
     "execution_count": 194,
     "metadata": {},
     "output_type": "execute_result"
    }
   ],
   "source": [
    "m.rnn.weight_hh_l0.data.copy_(torch.eye(n_hidden))"
   ]
  },
  {
   "cell_type": "code",
   "execution_count": 195,
   "metadata": {},
   "outputs": [
    {
     "data": {
      "application/vnd.jupyter.widget-view+json": {
       "model_id": "4a116160f2654c33aecd020d62c07b71",
       "version_major": 2,
       "version_minor": 0
      },
      "text/plain": [
       "HBox(children=(IntProgress(value=0, description='Epoch', max=4), HTML(value='')))"
      ]
     },
     "metadata": {},
     "output_type": "display_data"
    },
    {
     "name": "stdout",
     "output_type": "stream",
     "text": [
      "epoch      trn_loss   val_loss                               \n",
      "    0      0.805777   0.713271  \n",
      "    1      0.668829   0.642471                               \n",
      "    2      0.622007   0.617288                               \n",
      "    3      0.601317   0.615366                               \n",
      "\n"
     ]
    },
    {
     "data": {
      "text/plain": [
       "[0.6153661]"
      ]
     },
     "execution_count": 195,
     "metadata": {},
     "output_type": "execute_result"
    }
   ],
   "source": [
    "fit(m, md, 4, opt, nll_loss_seq)"
   ]
  },
  {
   "cell_type": "code",
   "execution_count": 196,
   "metadata": {},
   "outputs": [],
   "source": [
    "set_lrs(opt, 1e-3)"
   ]
  },
  {
   "cell_type": "code",
   "execution_count": 197,
   "metadata": {},
   "outputs": [
    {
     "data": {
      "application/vnd.jupyter.widget-view+json": {
       "model_id": "64c81c695d7e4e45a5c6bafd6f427f17",
       "version_major": 2,
       "version_minor": 0
      },
      "text/plain": [
       "HBox(children=(IntProgress(value=0, description='Epoch', max=4), HTML(value='')))"
      ]
     },
     "metadata": {},
     "output_type": "display_data"
    },
    {
     "name": "stdout",
     "output_type": "stream",
     "text": [
      "epoch      trn_loss   val_loss                               \n",
      "    0      0.527287   0.541712  \n",
      "    1      0.502475   0.529744                               \n",
      "    2      0.488283   0.52347                                \n",
      "    3      0.478211   0.519096                               \n",
      "\n"
     ]
    },
    {
     "data": {
      "text/plain": [
       "[0.5190958]"
      ]
     },
     "execution_count": 197,
     "metadata": {},
     "output_type": "execute_result"
    }
   ],
   "source": [
    "fit(m, md, 4, opt, nll_loss_seq)"
   ]
  },
  {
   "cell_type": "markdown",
   "metadata": {},
   "source": [
    "* Clearly that helped a lot!"
   ]
  },
  {
   "cell_type": "code",
   "execution_count": null,
   "metadata": {},
   "outputs": [],
   "source": []
  }
 ],
 "metadata": {
  "kernelspec": {
   "display_name": "Python 3",
   "language": "python",
   "name": "python3"
  },
  "language_info": {
   "codemirror_mode": {
    "name": "ipython",
    "version": 3
   },
   "file_extension": ".py",
   "mimetype": "text/x-python",
   "name": "python",
   "nbconvert_exporter": "python",
   "pygments_lexer": "ipython3",
   "version": "3.6.5"
  }
 },
 "nbformat": 4,
 "nbformat_minor": 2
}
