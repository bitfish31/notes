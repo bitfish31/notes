{
 "cells": [
  {
   "cell_type": "markdown",
   "metadata": {},
   "source": [
    "# Lesson 10\n",
    "\n",
    "## 00:00:14 - Review of last week\n",
    "\n",
    "* Last week: lots of people struggling with the material from last week.\n",
    "  * By Lesson 14, you'll have a second go at Object Detection.\n",
    "* Multiple objects is similar to the single bounding box problem, except we have to solve the \"matching problems\"\n",
    "  * Create far more activations than ground truth bounding boxes, and match each ground truth object to a set of the activations.\n",
    "* If you're stuck: revisit Lesson 8.\n",
    "  \n",
    "## 00:02:42 - Multiple objects revision\n",
    "\n",
    "* More activations.\n",
    "* Took advantage of convolutional natural of network to try to have activiations that had a receptive field that was similar to ground truth objects we're predicting.\n",
    "  * [Chloe Sultan](http://forums.fast.ai/t/part-2-lesson-9-wiki/14028/375) mapped out the size of the grids as the network downsamples using stride 2 convolutions.\n",
    "  \n",
    "<img src=\"http://forums.fast.ai/uploads/default/optimized/2X/a/a7942de9d5bf6c3afe50e10d55116c6c7fb5b721_1_669x500.png\" width=\"700px\">\n",
    "\n",
    "* How did she calculate the numbers?\n",
    "  * Could use PDB set trace to view the output at each step of the network.\n",
    "* Talked about increasing K: number of activations using different zooms and sizes.\n",
    "* Got down to a small num of bounding boxes using NMS.\n",
    "  * A paper has come out to try to calculate an end-to-end network (not using NMS)\n",
    "\n",
    "\n",
    "## 00:07:04 - Reading papers\n",
    "\n",
    "* Not enough people reading papers in study group: papers are the \"real ground truth\".\n",
    "  * ``SSD_MultiHead.forward`` is not doing the same thing as the SSD paper: the paper may have a better version.\n",
    "  * Uses a smaller k but a lot more smaller grids.\n",
    "* Useful to map code and equations together:\n",
    "\n",
    "<img src=\"https://i.gyazo.com/84dc304d3d8eab72b6fcbc1895424aa5.gif\" width=\"700px\">\n",
    "\n",
    "  * Some people are code people who learn the math from the code and vice versa.\n",
    "  \n",
    "## 00:10:08 - Math notation\n",
    "\n",
    "* Math notation can be hard to lookup.\n",
    "* [List of mathematical symbols](https://en.wikipedia.org/wiki/List_of_mathematical_symbols) Wikipedia article is a useful reference.\n",
    "* Nobody learns all of math in one go: even top researchers need to research math symbols.\n",
    "\n",
    "## 00:11:17 - Recreating results in papers\n",
    "\n",
    "* Key figure from retina loss figure was created in Excel by Sarada Lee from the forums.\n",
    "\n",
    "\n",
    "## 00:14:12 - NLP\n",
    "\n",
    "* Seen the idea of taking a pretrained model, removing the top layer and getting it to do something similar.\n",
    " * Want to see if that idea applies to NLP.\n",
    "* Next lesson: combine NLP and computer vision.\n",
    "  * learn to find word structures from images (image captioning)\n",
    "  * learn to find images from word structures\n",
    "\n",
    "## 00:18:56 - torchtext to fastai.text\n",
    "\n",
    "* torchtext has a number of limitations:\n",
    "  * quite slow\n",
    "    * doesn't do parallel processing.\n",
    "    * doesn't cache results.\n",
    "  * hard to do simple things like multi label problems.\n",
    "* `fastai.text` is a replacement for `fastai.nlp`\n",
    "\n",
    "## 00:20:30 - IMDB revisited\n",
    "\n",
    "* Dataset of movie reviews."
   ]
  },
  {
   "cell_type": "code",
   "execution_count": 1,
   "metadata": {},
   "outputs": [],
   "source": [
    "from fastai.text import *\n",
    "import html\n",
    "from pathlib import Path"
   ]
  },
  {
   "cell_type": "code",
   "execution_count": 2,
   "metadata": {},
   "outputs": [
    {
     "data": {
      "text/plain": [
       "True"
      ]
     },
     "execution_count": 2,
     "metadata": {},
     "output_type": "execute_result"
    }
   ],
   "source": [
    "import torch\n",
    "torch.cuda.is_available()"
   ]
  },
  {
   "cell_type": "code",
   "execution_count": 3,
   "metadata": {},
   "outputs": [],
   "source": [
    "PATH = Path('./data/aclImdb/')"
   ]
  },
  {
   "cell_type": "markdown",
   "metadata": {},
   "source": [
    "### ** Start do not rerun **"
   ]
  },
  {
   "cell_type": "code",
   "execution_count": 76,
   "metadata": {},
   "outputs": [
    {
     "name": "stdout",
     "output_type": "stream",
     "text": [
      "Collecting https://github.com/explosion/spacy-models/releases/download/en_core_web_sm-2.0.0/en_core_web_sm-2.0.0.tar.gz\n",
      "\u001b[?25l  Downloading https://github.com/explosion/spacy-models/releases/download/en_core_web_sm-2.0.0/en_core_web_sm-2.0.0.tar.gz (37.4MB)\n",
      "\u001b[K    100% |████████████████████████████████| 37.4MB 606kB/s ta 0:00:0111\n",
      "\u001b[?25hInstalling collected packages: en-core-web-sm\n",
      "  Running setup.py install for en-core-web-sm ... \u001b[?25ldone\n",
      "\u001b[?25hSuccessfully installed en-core-web-sm-2.0.0\n",
      "\n",
      "\u001b[93m    Linking successful\u001b[0m\n",
      "    /home/lex/anaconda3/envs/fastai/lib/python3.6/site-packages/en_core_web_sm\n",
      "    -->\n",
      "    /home/lex/anaconda3/envs/fastai/lib/python3.6/site-packages/spacy/data/en\n",
      "\n",
      "    You can now load the model via spacy.load('en')\n",
      "\n"
     ]
    }
   ],
   "source": [
    "!python -m spacy download en"
   ]
  },
  {
   "cell_type": "code",
   "execution_count": 4,
   "metadata": {},
   "outputs": [
    {
     "name": "stdout",
     "output_type": "stream",
     "text": [
      "--2018-07-28 17:09:05--  http://ai.stanford.edu/~amaas/data/sentiment/aclImdb_v1.tar.gz\n",
      "Resolving ai.stanford.edu (ai.stanford.edu)... 171.64.68.10\n",
      "Connecting to ai.stanford.edu (ai.stanford.edu)|171.64.68.10|:80... connected.\n",
      "HTTP request sent, awaiting response... 200 OK\n",
      "Length: 84125825 (80M) [application/x-gzip]\n",
      "Saving to: 'data/aclImdb_v1.tar.gz’\n",
      "\n",
      "aclImdb_v1.tar.gz   100%[===================>]  80.23M  1.46MB/s    in 67s     \n",
      "\n",
      "2018-07-28 17:10:13 (1.20 MB/s) - 'data/aclImdb_v1.tar.gz’ saved [84125825/84125825]\n",
      "\n"
     ]
    }
   ],
   "source": [
    "!wget http://ai.stanford.edu/~amaas/data/sentiment/aclImdb_v1.tar.gz  --directory-prefix=data"
   ]
  },
  {
   "cell_type": "code",
   "execution_count": 6,
   "metadata": {},
   "outputs": [],
   "source": [
    "!tar -xzf data/aclImdb_v1.tar.gz -C data"
   ]
  },
  {
   "cell_type": "markdown",
   "metadata": {},
   "source": [
    "### ** End do not rerun **"
   ]
  },
  {
   "cell_type": "code",
   "execution_count": 4,
   "metadata": {},
   "outputs": [],
   "source": [
    "BEGINNING_OF_SENTENCE_TAG = 'xbos'  # beginning of sentence tag\n",
    "DATAFIELD_TAG = 'xfld'  # data field tag\n",
    "\n",
    "CLAS_PATH = Path('data/imdb_clas/')\n",
    "CLAS_PATH.mkdir(exist_ok=True)\n",
    "\n",
    "LM_PATH = Path('data/imdb_lm/')\n",
    "LM_PATH.mkdir(exist_ok=True)\n",
    "\n",
    "CLASSES = ['neg', 'pos', 'unsup']"
   ]
  },
  {
   "cell_type": "markdown",
   "metadata": {},
   "source": [
    "### ** Start do not rerun **"
   ]
  },
  {
   "cell_type": "markdown",
   "metadata": {},
   "source": [
    "### 00:21:27 - Preparing data for language model and classification model\n",
    "\n",
    "* Basic path of NLP: convert sentences into numbers.\n",
    "* ``fastai.text`` doesn't many helper functions: gives you more flexibility."
   ]
  },
  {
   "cell_type": "markdown",
   "metadata": {},
   "source": [
    "* Data set has 3 classes:\n",
    "  * negative\n",
    "  * positive\n",
    "  * unsup (unsupervised - aka unlabelled)"
   ]
  },
  {
   "cell_type": "code",
   "execution_count": 5,
   "metadata": {},
   "outputs": [],
   "source": [
    "def get_texts(path):\n",
    "    texts, labels = [], []\n",
    "    for idx, label in enumerate(CLASSES):\n",
    "        for fname in (path / label).glob('*.*'):\n",
    "            texts.append(fname.open('r').read())\n",
    "            labels.append(idx)\n",
    "\n",
    "    return np.array(texts), np.array(labels)\n",
    "            \n",
    "train_texts, train_labels = get_texts(PATH / 'train')\n",
    "val_texts, val_labels = get_texts(PATH / 'test')"
   ]
  },
  {
   "cell_type": "code",
   "execution_count": 6,
   "metadata": {},
   "outputs": [
    {
     "data": {
      "text/plain": [
       "(75000, 25000)"
      ]
     },
     "execution_count": 6,
     "metadata": {},
     "output_type": "execute_result"
    }
   ],
   "source": [
    "len(train_texts), len(val_texts)"
   ]
  },
  {
   "cell_type": "markdown",
   "metadata": {},
   "source": [
    "* Approach above is much easier than the convoluted torch text method - reading text is not that hard."
   ]
  },
  {
   "cell_type": "code",
   "execution_count": 7,
   "metadata": {},
   "outputs": [],
   "source": [
    "col_names = ['labels', 'text']"
   ]
  },
  {
   "cell_type": "code",
   "execution_count": 8,
   "metadata": {},
   "outputs": [],
   "source": [
    "np.random.seed(42)\n",
    "\n",
    "train_idx = np.random.permutation(len(train_texts))\n",
    "val_idx = np.random.permutation(len(val_texts))"
   ]
  },
  {
   "cell_type": "code",
   "execution_count": 11,
   "metadata": {},
   "outputs": [],
   "source": [
    "train_texts = train_texts[train_idx]\n",
    "val_texts = val_texts[val_idx]"
   ]
  },
  {
   "cell_type": "code",
   "execution_count": 12,
   "metadata": {},
   "outputs": [
    {
     "data": {
      "text/plain": [
       "(75000,)"
      ]
     },
     "execution_count": 12,
     "metadata": {},
     "output_type": "execute_result"
    }
   ],
   "source": [
    "train_texts.shape"
   ]
  },
  {
   "cell_type": "code",
   "execution_count": 13,
   "metadata": {},
   "outputs": [
    {
     "data": {
      "text/plain": [
       "'A Paul Naschy vehicle in which he plays an East Indian guru named (what else?) Krishna who may or may not be responsible for gang of murderous zombies on the loose in London, but the real \\'stars\\' of this flick are the unintentional humor and the relentlessly kitschy soundtrack (the end title theme is particularly memorable, in that \"so bad, it\\'s good\" category). Other things to watch out for include the stock footage of London, grinning zombies, a blinking corpse, and an \"out of left field\" plot twist. Stupendously bad, but terrific fun for those into this sort of thing.'"
      ]
     },
     "execution_count": 13,
     "metadata": {},
     "output_type": "execute_result"
    }
   ],
   "source": [
    "train_texts[0]"
   ]
  },
  {
   "cell_type": "markdown",
   "metadata": {},
   "source": [
    "### 00:25:50 - Classification path vs language model path"
   ]
  },
  {
   "cell_type": "markdown",
   "metadata": {},
   "source": [
    "* Classification model requires labels."
   ]
  },
  {
   "cell_type": "code",
   "execution_count": 14,
   "metadata": {},
   "outputs": [],
   "source": [
    "df_train = pd.DataFrame({'text': train_texts, 'labels': train_labels}, columns=col_names)\n",
    "df_val = pd.DataFrame({'text': val_texts, 'labels': val_labels}, columns=col_names)"
   ]
  },
  {
   "cell_type": "markdown",
   "metadata": {},
   "source": [
    "* 00:26:31: For the classification model, we remove all labels with a category of 2 which represents unsupervised."
   ]
  },
  {
   "cell_type": "code",
   "execution_count": 15,
   "metadata": {},
   "outputs": [
    {
     "data": {
      "text/html": [
       "<div>\n",
       "<style scoped>\n",
       "    .dataframe tbody tr th:only-of-type {\n",
       "        vertical-align: middle;\n",
       "    }\n",
       "\n",
       "    .dataframe tbody tr th {\n",
       "        vertical-align: top;\n",
       "    }\n",
       "\n",
       "    .dataframe thead th {\n",
       "        text-align: right;\n",
       "    }\n",
       "</style>\n",
       "<table border=\"1\" class=\"dataframe\">\n",
       "  <thead>\n",
       "    <tr style=\"text-align: right;\">\n",
       "      <th></th>\n",
       "      <th>labels</th>\n",
       "      <th>text</th>\n",
       "    </tr>\n",
       "  </thead>\n",
       "  <tbody>\n",
       "    <tr>\n",
       "      <th>0</th>\n",
       "      <td>0</td>\n",
       "      <td>A Paul Naschy vehicle in which he plays an Eas...</td>\n",
       "    </tr>\n",
       "    <tr>\n",
       "      <th>1</th>\n",
       "      <td>0</td>\n",
       "      <td>There's really no way to beat around the bush ...</td>\n",
       "    </tr>\n",
       "    <tr>\n",
       "      <th>2</th>\n",
       "      <td>0</td>\n",
       "      <td>I went to see Hamlet because I was in between ...</td>\n",
       "    </tr>\n",
       "    <tr>\n",
       "      <th>3</th>\n",
       "      <td>0</td>\n",
       "      <td>This 'remake' of Lars Von Trier's series does ...</td>\n",
       "    </tr>\n",
       "    <tr>\n",
       "      <th>4</th>\n",
       "      <td>0</td>\n",
       "      <td>This movie is worse than Disaster Movie a wort...</td>\n",
       "    </tr>\n",
       "  </tbody>\n",
       "</table>\n",
       "</div>"
      ],
      "text/plain": [
       "   labels                                               text\n",
       "0       0  A Paul Naschy vehicle in which he plays an Eas...\n",
       "1       0  There's really no way to beat around the bush ...\n",
       "2       0  I went to see Hamlet because I was in between ...\n",
       "3       0  This 'remake' of Lars Von Trier's series does ...\n",
       "4       0  This movie is worse than Disaster Movie a wort..."
      ]
     },
     "execution_count": 15,
     "metadata": {},
     "output_type": "execute_result"
    }
   ],
   "source": [
    "df_train[df_train['labels'] != 2].to_csv(CLAS_PATH / 'train.csv', header=False, index=False)\n",
    "df_val.to_csv(CLAS_PATH / 'test.csv', header=False, index=False)\n",
    "\n",
    "(CLAS_PATH / 'classes.txt').open('w').writelines(f'{o}\\n' for o in CLASSES)\n",
    "\n",
    "df_train.head()"
   ]
  },
  {
   "cell_type": "markdown",
   "metadata": {},
   "source": [
    "* For the language model, we can create our own validation set by concatting the original train / val, then taking a random 90/10 split:"
   ]
  },
  {
   "cell_type": "code",
   "execution_count": 16,
   "metadata": {},
   "outputs": [],
   "source": [
    "train_texts, val_texts = sklearn.model_selection.train_test_split(np.concatenate([train_texts, val_texts]), test_size=0.1)"
   ]
  },
  {
   "cell_type": "code",
   "execution_count": 17,
   "metadata": {},
   "outputs": [
    {
     "data": {
      "text/plain": [
       "(90000, 10000)"
      ]
     },
     "execution_count": 17,
     "metadata": {},
     "output_type": "execute_result"
    }
   ],
   "source": [
    "len(train_texts), len(val_texts)"
   ]
  },
  {
   "cell_type": "markdown",
   "metadata": {},
   "source": [
    "* Language model has no labels so we just use 0s (allowing for a consistent format):"
   ]
  },
  {
   "cell_type": "code",
   "execution_count": 18,
   "metadata": {},
   "outputs": [],
   "source": [
    "df_train = pd.DataFrame({'text': train_texts, 'labels': [0] * len(train_texts)}, columns=col_names)\n",
    "df_val = pd.DataFrame({'text': val_texts, 'labels': [0] * len(val_texts)}, columns=col_names)\n",
    "\n",
    "df_train.to_csv(LM_PATH / 'train.csv', header=False, index=False)\n",
    "df_val.to_csv(LM_PATH / 'test.csv', header=False, index=False)"
   ]
  },
  {
   "cell_type": "markdown",
   "metadata": {},
   "source": [
    "### 00:28:02 - Tokenisation\n",
    "\n",
    "* Convert document to a list of tokens: like a list of words but with more tokens.\n",
    "  * Spacy does the heavy lifting for tokenisation.\n",
    "* Before passing to Spacy, we do some cleaning, which is based on what Jeremy has seen so far:"
   ]
  },
  {
   "cell_type": "code",
   "execution_count": 19,
   "metadata": {},
   "outputs": [],
   "source": [
    "chunk_size = 24000"
   ]
  },
  {
   "cell_type": "code",
   "execution_count": 20,
   "metadata": {},
   "outputs": [],
   "source": [
    "re1 = re.compile(r' +')\n",
    "\n",
    "def fixup(x):\n",
    "    x = (x\n",
    "        .replace('#39;', \"'\")\n",
    "        .replace('amp;', '&')\n",
    "        .replace('#146;', \"'\")\n",
    "        .replace('nbsp;', ' ')\n",
    "        .replace('#36;', '$')\n",
    "        .replace('\\\\n', \"\\n\")\n",
    "        .replace('quot;', \"'\")\n",
    "        .replace('<br />', \"\\n\")\n",
    "        .replace('\\\\\"', '\"')\n",
    "        .replace('<unk>', 'u_n')\n",
    "        .replace(' @.@ ', '.')\n",
    "        .replace(' @-@ ', '-')\n",
    "        .replace('\\\\', ' \\\\ '))\n",
    "\n",
    "    return re1.sub(' ', html.unescape(x))"
   ]
  },
  {
   "cell_type": "markdown",
   "metadata": {},
   "source": [
    "* 00:29:40 - We then call `get_all` which calls `get_texts` which applies fixup amongst other things.\n",
    "  * ``get_texts``: converts labels to ints.\n",
    "    * Adds `beginning of sentence tags`\n",
    "    * Adds `datafield_tag` that let's you have different types of fields (like title, body etc)\n",
    "  * ``\n",
    "  * ``Tokenizer().proc_all_mp`` - uses multi processing to tokenize, which Spacy doesn't do that well by default."
   ]
  },
  {
   "cell_type": "code",
   "execution_count": 21,
   "metadata": {},
   "outputs": [],
   "source": [
    "def get_texts(df, num_labels=1):\n",
    "    labels = df.iloc[:, range(num_labels)].values.astype(np.int64)\n",
    "    texts = f'\\n{BEGINNING_OF_SENTENCE_TAG} {DATAFIELD_TAG} 1' + df[num_labels].astype(str)\n",
    "    for i in range(num_labels + 1, len(df.columns)):\n",
    "        texts += f' {DATAFIELD_TAG} [i - num_labels]' + df[i].astype(str)\n",
    "    texts = texts.apply(fixup).values.astype(str)\n",
    "    \n",
    "    core_partitions = partition_by_cores(texts)\n",
    "    tok = Tokenizer().proc_all_mp(core_partitions)\n",
    "    return tok, list(labels)"
   ]
  },
  {
   "cell_type": "code",
   "execution_count": 22,
   "metadata": {},
   "outputs": [],
   "source": [
    "def get_all(df, n_lbls):\n",
    "    tok, labels = [], []\n",
    "    for i, r in enumerate(df):\n",
    "        print(i)\n",
    "        tok_, labels_ = get_texts(r, n_lbls)\n",
    "        tok += tok_\n",
    "        labels += labels_\n",
    "    return tok, labels"
   ]
  },
  {
   "cell_type": "markdown",
   "metadata": {},
   "source": [
    "* We pass in an addition arg to Pandas called `chunksize` which lets us work on a bit at a time."
   ]
  },
  {
   "cell_type": "code",
   "execution_count": 23,
   "metadata": {},
   "outputs": [],
   "source": [
    "df_train = pd.read_csv(LM_PATH / 'train.csv', header=None, chunksize=chunk_size)\n",
    "df_val = pd.read_csv(LM_PATH / 'test.csv', header=None, chunksize=chunk_size)"
   ]
  },
  {
   "cell_type": "markdown",
   "metadata": {},
   "source": [
    "### 00:31:31 - Audience questions\n",
    "\n",
    "* Q1: Should I discard foreign text characters?\n",
    "* A1: Keep them. Let the data tell you what characters matter.\n",
    "\n",
    "* Tradition ML: lemmatisation and normalisation\n",
    "  * Throwing away information that could be useful."
   ]
  },
  {
   "cell_type": "code",
   "execution_count": 24,
   "metadata": {},
   "outputs": [
    {
     "name": "stdout",
     "output_type": "stream",
     "text": [
      "0\n",
      "1\n",
      "2\n",
      "3\n",
      "0\n"
     ]
    }
   ],
   "source": [
    "tok_trn, train_labels = get_all(df_train, 1)\n",
    "tok_val, val_labels = get_all(df_val, 1)"
   ]
  },
  {
   "cell_type": "code",
   "execution_count": 25,
   "metadata": {},
   "outputs": [],
   "source": [
    "(LM_PATH / 'tmp').mkdir(exist_ok=True)"
   ]
  },
  {
   "cell_type": "code",
   "execution_count": 26,
   "metadata": {},
   "outputs": [],
   "source": [
    "np.save(LM_PATH / 'tmp'/ 'tok_trn.npy', tok_trn)\n",
    "np.save(LM_PATH / 'tmp'/ 'tok_val.npy', tok_val)"
   ]
  },
  {
   "cell_type": "markdown",
   "metadata": {},
   "source": [
    "### ** End do not rerun **"
   ]
  },
  {
   "cell_type": "markdown",
   "metadata": {},
   "source": [
    "### 00:35:40 - Examining tokenisation"
   ]
  },
  {
   "cell_type": "code",
   "execution_count": 27,
   "metadata": {},
   "outputs": [],
   "source": [
    "tok_trn = np.load(LM_PATH / 'tmp' / 'tok_trn.npy')\n",
    "tok_val = np.load(LM_PATH / 'tmp' / 'tok_val.npy')"
   ]
  },
  {
   "cell_type": "code",
   "execution_count": 28,
   "metadata": {},
   "outputs": [
    {
     "data": {
      "text/plain": [
       "\"\\n xbos xfld 1like classic hollywood musicals , the plot is just an excuse . a must see for those interested in french music hall ( including a song by édith piaf ) and for the wonderful 10 plus minute cancan finale . the dancing in the film is not at all like what usually passes for cancan . \\n\\n some might object to the technicolor costumes and the bright lighting , but it gives you a clear view of some grand costumes and sets . \\n\\n consider it jean renoir 's love letter to the paris he grew up in . certainly the jean renoir film for people who do n't like his serious films or who only like his hollywood productions . \\n\\n\""
      ]
     },
     "execution_count": 28,
     "metadata": {},
     "output_type": "execute_result"
    }
   ],
   "source": [
    "' '.join(tok_trn[0])"
   ]
  },
  {
   "cell_type": "markdown",
   "metadata": {},
   "source": [
    "* `t_up` will note that the following characters were uppercase.\n",
    "  * Allows for using the same token but not loosing information encoded in casing: \"screw you\" vs \"SCREW YOU\""
   ]
  },
  {
   "cell_type": "markdown",
   "metadata": {},
   "source": [
    "### 00:38:08 - Numericalising"
   ]
  },
  {
   "cell_type": "markdown",
   "metadata": {},
   "source": [
    "* Make a list of all words in order and use the index of the word at that point."
   ]
  },
  {
   "cell_type": "code",
   "execution_count": 29,
   "metadata": {},
   "outputs": [
    {
     "data": {
      "text/plain": [
       "[('the', 1202538),\n",
       " ('.', 991832),\n",
       " (',', 985363),\n",
       " ('and', 587739),\n",
       " ('a', 580733),\n",
       " ('of', 524290),\n",
       " ('to', 484158),\n",
       " ('is', 393516),\n",
       " ('it', 339202),\n",
       " ('in', 337431),\n",
       " ('i', 288859),\n",
       " ('that', 260975),\n",
       " ('this', 257489),\n",
       " ('\"', 235112),\n",
       " (\"'s\", 221356),\n",
       " ('-', 187623),\n",
       " ('was', 180076),\n",
       " ('\\n\\n', 179206),\n",
       " ('as', 164825),\n",
       " ('with', 159002),\n",
       " ('for', 158231),\n",
       " ('movie', 157585),\n",
       " ('but', 149963),\n",
       " ('film', 143691),\n",
       " ('you', 123786)]"
      ]
     },
     "execution_count": 29,
     "metadata": {},
     "output_type": "execute_result"
    }
   ],
   "source": [
    "freq = Counter(p for o in tok_trn for p in o)\n",
    "freq.most_common(25)"
   ]
  },
  {
   "cell_type": "markdown",
   "metadata": {},
   "source": [
    "* We limit the vocab to the top 60000 words, with a min frequency of twice."
   ]
  },
  {
   "cell_type": "code",
   "execution_count": 30,
   "metadata": {},
   "outputs": [],
   "source": [
    "max_vocab = 60000\n",
    "min_freq = 2"
   ]
  },
  {
   "cell_type": "code",
   "execution_count": 31,
   "metadata": {},
   "outputs": [],
   "source": [
    "itos = [o for o, c in freq.most_common(max_vocab) if c > min_freq]"
   ]
  },
  {
   "cell_type": "markdown",
   "metadata": {},
   "source": [
    "* Also want to add tokens for unknown and padding."
   ]
  },
  {
   "cell_type": "code",
   "execution_count": 32,
   "metadata": {},
   "outputs": [],
   "source": [
    "itos.insert(0, '_pad_')\n",
    "itos.insert(0, '_unk_')"
   ]
  },
  {
   "cell_type": "code",
   "execution_count": 33,
   "metadata": {},
   "outputs": [
    {
     "data": {
      "text/plain": [
       "['_unk_', '_pad_', 'the', '.', ',', 'and', 'a', 'of', 'to', 'is']"
      ]
     },
     "execution_count": 33,
     "metadata": {},
     "output_type": "execute_result"
    }
   ],
   "source": [
    "itos[:10]"
   ]
  },
  {
   "cell_type": "code",
   "execution_count": 34,
   "metadata": {},
   "outputs": [
    {
     "data": {
      "text/plain": [
       "['cabel',\n",
       " 'murph',\n",
       " 'mousette',\n",
       " 'bonifant',\n",
       " 'jessy',\n",
       " 'griffins',\n",
       " 'shiraishi',\n",
       " 'prefecture',\n",
       " 'eriko',\n",
       " 'haruhiko']"
      ]
     },
     "execution_count": 34,
     "metadata": {},
     "output_type": "execute_result"
    }
   ],
   "source": [
    "itos[-10:]"
   ]
  },
  {
   "cell_type": "markdown",
   "metadata": {},
   "source": [
    "* Create a string to id dictionary:"
   ]
  },
  {
   "cell_type": "code",
   "execution_count": 35,
   "metadata": {},
   "outputs": [],
   "source": [
    "stoi = collections.defaultdict(lambda: 0, {v: k for k, v in enumerate(itos)})"
   ]
  },
  {
   "cell_type": "code",
   "execution_count": 36,
   "metadata": {},
   "outputs": [
    {
     "data": {
      "text/plain": [
       "(60002, 60002)"
      ]
     },
     "execution_count": 36,
     "metadata": {},
     "output_type": "execute_result"
    }
   ],
   "source": [
    "len(itos), len(stoi)"
   ]
  },
  {
   "cell_type": "markdown",
   "metadata": {},
   "source": [
    "Can now call that for every word in every sentence to get an array of numbers:"
   ]
  },
  {
   "cell_type": "code",
   "execution_count": 37,
   "metadata": {},
   "outputs": [],
   "source": [
    "trn_lm = np.array([[stoi[o] for o in p] for p in tok_trn])\n",
    "val_lm = np.array([[stoi[o] for o in p] for p in tok_val])"
   ]
  },
  {
   "cell_type": "code",
   "execution_count": 38,
   "metadata": {},
   "outputs": [
    {
     "data": {
      "text/plain": [
       "'39 40 41 5982 393 364 3716 4 2 128 9 55 46 1417 3 6 226 82 22 162 926 11 712 239 2304 30 597 6 654 45 0 26402 27 5 22 2 423 180 897 879 20401 2024 3 2 1250 11 2 25 9 32 43 42 51 62 650 3919 22 20401 3 19 63 254 3206 8 2 5245 1360 5 2 1881 1548 4 24 10 424 26 6 747 666 7 63 1696 1360 5 717 3 19 1247 10 1488 9943 16 132 3076 8 2 1509 34 2283 70 11 3 447 2 1488 9943 25 22 98 47 56 29 51 35 625 123 53 47 79 51 35 364 2625 3 19'"
      ]
     },
     "execution_count": 38,
     "metadata": {},
     "output_type": "execute_result"
    }
   ],
   "source": [
    "' '.join(str(o) for o in trn_lm[0])"
   ]
  },
  {
   "cell_type": "markdown",
   "metadata": {},
   "source": [
    "* Important to save vocabulary when you save the numericalised results:"
   ]
  },
  {
   "cell_type": "code",
   "execution_count": 39,
   "metadata": {},
   "outputs": [],
   "source": [
    "np.save(LM_PATH / 'tmp' / 'train_ids.npy', trn_lm)\n",
    "np.save(LM_PATH / 'tmp' / 'val_ids.npy', val_lm)\n",
    "\n",
    "pickle.dump(itos, open(LM_PATH / 'tmp' / 'itos.pkl', 'wb'))"
   ]
  },
  {
   "cell_type": "code",
   "execution_count": 40,
   "metadata": {},
   "outputs": [],
   "source": [
    "trn_lm = np.load(LM_PATH / 'tmp' / 'train_ids.npy')\n",
    "val_lm = np.load(LM_PATH / 'tmp' / 'val_ids.npy')\n",
    "itos = pickle.load(open(LM_PATH / 'tmp' / 'itos.pkl', 'rb'))"
   ]
  },
  {
   "cell_type": "code",
   "execution_count": 41,
   "metadata": {},
   "outputs": [
    {
     "data": {
      "text/plain": [
       "(60002, 90000)"
      ]
     },
     "execution_count": 41,
     "metadata": {},
     "output_type": "execute_result"
    }
   ],
   "source": [
    "vs = len(itos)\n",
    "vs,len(trn_lm)"
   ]
  },
  {
   "cell_type": "markdown",
   "metadata": {},
   "source": [
    "### 00:42:20 - Pretrained models in NLP\n",
    "\n",
    "* Jeremy's insight: we know that pretraining a IMDB language model can give us great performance on a classification problem.\n",
    "  * Could we improve upon it by training the language model on a bigger dataset?"
   ]
  },
  {
   "cell_type": "markdown",
   "metadata": {},
   "source": [
    "* Can download the language model from here:"
   ]
  },
  {
   "cell_type": "code",
   "execution_count": 42,
   "metadata": {},
   "outputs": [],
   "source": [
    "WT_PATH = Path('./models/wt103')\n",
    "WT_PATH.mkdir(exist_ok=True)"
   ]
  },
  {
   "cell_type": "markdown",
   "metadata": {},
   "source": [
    "### **Start do not rerun**"
   ]
  },
  {
   "cell_type": "code",
   "execution_count": 119,
   "metadata": {},
   "outputs": [
    {
     "name": "stdout",
     "output_type": "stream",
     "text": [
      "--2018-07-29 11:40:49--  http://files.fast.ai/models/wt103/bwd_wt103.h5\n",
      "Resolving files.fast.ai (files.fast.ai)... 67.205.15.147\n",
      "Connecting to files.fast.ai (files.fast.ai)|67.205.15.147|:80... connected.\n",
      "HTTP request sent, awaiting response... 200 OK\n",
      "Length: 462387687 (441M) [text/plain]\n",
      "Saving to: 'models/wt103/bwd_wt103.h5’\n",
      "\n",
      "bwd_wt103.h5        100%[===================>] 440.97M  1.50MB/s    in 5m 14s  \n",
      "\n",
      "2018-07-29 11:46:03 (1.40 MB/s) - 'models/wt103/bwd_wt103.h5’ saved [462387687/462387687]\n",
      "\n",
      "--2018-07-29 11:46:04--  http://files.fast.ai/models/wt103/bwd_wt103_enc.h5\n",
      "Resolving files.fast.ai (files.fast.ai)... 67.205.15.147\n",
      "Connecting to files.fast.ai (files.fast.ai)|67.205.15.147|:80... connected.\n",
      "HTTP request sent, awaiting response... 200 OK\n",
      "Length: 462387634 (441M) [text/plain]\n",
      "Saving to: 'models/wt103/bwd_wt103_enc.h5’\n",
      "\n",
      "bwd_wt103_enc.h5    100%[===================>] 440.97M  1.55MB/s    in 5m 6s   \n",
      "\n",
      "2018-07-29 11:51:11 (1.44 MB/s) - 'models/wt103/bwd_wt103_enc.h5’ saved [462387634/462387634]\n",
      "\n",
      "--2018-07-29 11:51:11--  http://files.fast.ai/models/wt103/fwd_wt103.h5\n",
      "Resolving files.fast.ai (files.fast.ai)... 67.205.15.147\n",
      "Connecting to files.fast.ai (files.fast.ai)|67.205.15.147|:80... connected.\n",
      "HTTP request sent, awaiting response... 200 OK\n",
      "Length: 462387687 (441M) [text/plain]\n",
      "Saving to: 'models/wt103/fwd_wt103.h5’\n",
      "\n",
      "fwd_wt103.h5        100%[===================>] 440.97M  1.49MB/s    in 5m 9s   \n",
      "\n",
      "2018-07-29 11:56:20 (1.43 MB/s) - 'models/wt103/fwd_wt103.h5’ saved [462387687/462387687]\n",
      "\n",
      "--2018-07-29 11:56:21--  http://files.fast.ai/models/wt103/fwd_wt103_enc.h5\n",
      "Resolving files.fast.ai (files.fast.ai)... 67.205.15.147\n",
      "Connecting to files.fast.ai (files.fast.ai)|67.205.15.147|:80... connected.\n",
      "HTTP request sent, awaiting response... 200 OK\n",
      "Length: 462387634 (441M) [text/plain]\n",
      "Saving to: 'models/wt103/fwd_wt103_enc.h5’\n",
      "\n",
      "fwd_wt103_enc.h5    100%[===================>] 440.97M  1.56MB/s    in 5m 5s   \n",
      "\n",
      "2018-07-29 12:01:27 (1.44 MB/s) - 'models/wt103/fwd_wt103_enc.h5’ saved [462387634/462387634]\n",
      "\n",
      "--2018-07-29 12:01:27--  http://files.fast.ai/models/wt103/itos_wt103.pkl\n",
      "Resolving files.fast.ai (files.fast.ai)... 67.205.15.147\n",
      "Connecting to files.fast.ai (files.fast.ai)|67.205.15.147|:80... connected.\n",
      "HTTP request sent, awaiting response... 200 OK\n",
      "Length: 4161252 (4.0M) [text/plain]\n",
      "Saving to: 'models/wt103/itos_wt103.pkl’\n",
      "\n",
      "itos_wt103.pkl      100%[===================>]   3.97M  1.06MB/s    in 4.2s    \n",
      "\n",
      "2018-07-29 12:01:32 (957 KB/s) - 'models/wt103/itos_wt103.pkl’ saved [4161252/4161252]\n",
      "\n"
     ]
    }
   ],
   "source": [
    "!wget http://files.fast.ai/models/wt103/bwd_wt103.h5 --directory-prefix={WT_PATH}\n",
    "!wget http://files.fast.ai/models/wt103/bwd_wt103_enc.h5 --directory-prefix={WT_PATH}\n",
    "!wget http://files.fast.ai/models/wt103/fwd_wt103.h5 --directory-prefix={WT_PATH}\n",
    "!wget http://files.fast.ai/models/wt103/fwd_wt103_enc.h5 --directory-prefix={WT_PATH}\n",
    "!wget http://files.fast.ai/models/wt103/itos_wt103.pkl --directory-prefix={WT_PATH}"
   ]
  },
  {
   "cell_type": "markdown",
   "metadata": {},
   "source": [
    "### ** End do not rerun **"
   ]
  },
  {
   "cell_type": "code",
   "execution_count": 43,
   "metadata": {},
   "outputs": [],
   "source": [
    "em_sz = 400\n",
    "num_hidden = 1150\n",
    "num_layers = 3"
   ]
  },
  {
   "cell_type": "code",
   "execution_count": 44,
   "metadata": {},
   "outputs": [],
   "source": [
    "PRE_LM_PATH = WT_PATH / 'fwd_wt103.h5'"
   ]
  },
  {
   "cell_type": "code",
   "execution_count": 45,
   "metadata": {},
   "outputs": [],
   "source": [
    "weights = torch.load(PRE_LM_PATH, map_location=lambda storage, loc: storage)"
   ]
  },
  {
   "cell_type": "code",
   "execution_count": 46,
   "metadata": {},
   "outputs": [],
   "source": [
    "enc_weights = to_np(weights['0.encoder.weight'])\n",
    "row_m = enc_weights.mean(0)"
   ]
  },
  {
   "cell_type": "markdown",
   "metadata": {},
   "source": [
    "* Should be an extremely obvious idea since we've done it in nearly every class so far.\n",
    "  * People in NLP community took a while to come around to the idea."
   ]
  },
  {
   "cell_type": "markdown",
   "metadata": {},
   "source": [
    "* Wikitext103 was built with a different vocab than the idea model.\n",
    "  * Need to convert between the two as follows:"
   ]
  },
  {
   "cell_type": "code",
   "execution_count": 47,
   "metadata": {},
   "outputs": [],
   "source": [
    "itos2 = pickle.load((WT_PATH / 'itos_wt103.pkl').open('rb'))\n",
    "stoi2 = collections.defaultdict(lambda: -1, {v: k for k, v in enumerate(itos2)})"
   ]
  },
  {
   "cell_type": "code",
   "execution_count": 48,
   "metadata": {},
   "outputs": [],
   "source": [
    "new_w = np.zeros((vs, em_sz), dtype=np.float32)\n",
    "for i, w in enumerate(itos):\n",
    "    r = stoi2[w]\n",
    "    # Use the mean if the word isn't in Wikitext\n",
    "    new_w[i] = enc_weights[r] if r >= 0 else row_m"
   ]
  },
  {
   "cell_type": "code",
   "execution_count": 49,
   "metadata": {},
   "outputs": [],
   "source": [
    "weights['0.encoder.weight'] = T(new_w)\n",
    "weights['0.encoder_with_dropout.embed.weight'] = T(np.copy(new_w))\n",
    "\n",
    "# Decoder: uses the same weights as encoder.\n",
    "weights['1.decoder.weight'] = T(np.copy(new_w))"
   ]
  },
  {
   "cell_type": "markdown",
   "metadata": {},
   "source": [
    "### 00:50:21 - Creating language model"
   ]
  },
  {
   "cell_type": "code",
   "execution_count": 50,
   "metadata": {},
   "outputs": [],
   "source": [
    "wd = 1e-7\n",
    "bptt = 70\n",
    "bs = 52\n",
    "opt_fn = partial(optim.Adam, betas=(0.8, 0.99))"
   ]
  },
  {
   "cell_type": "code",
   "execution_count": 51,
   "metadata": {},
   "outputs": [
    {
     "data": {
      "text/plain": [
       "(24900410, 389068)"
      ]
     },
     "execution_count": 51,
     "metadata": {},
     "output_type": "execute_result"
    }
   ],
   "source": [
    "t = len(np.concatenate(trn_lm))\n",
    "t, t // 64"
   ]
  },
  {
   "cell_type": "code",
   "execution_count": 52,
   "metadata": {},
   "outputs": [],
   "source": [
    "trn_dl = LanguageModelLoader(np.concatenate(trn_lm), bs, bptt)\n",
    "val_dl = LanguageModelLoader(np.concatenate(val_lm), bs, bptt)\n",
    "md = LanguageModelData(PATH, 1, vs, trn_dl, val_dl, bs=bs, bptt=bptt)"
   ]
  },
  {
   "cell_type": "markdown",
   "metadata": {},
   "source": [
    "* Dropout types are described in detail in this paper: [Regularizing and Optimizing LSTM Language Models](https://arxiv.org/abs/1708.02182)."
   ]
  },
  {
   "cell_type": "code",
   "execution_count": 53,
   "metadata": {},
   "outputs": [],
   "source": [
    "drops = np.array([0.25, 0.1, 0.2, 0.02, 0.15]) * 0.7"
   ]
  },
  {
   "cell_type": "markdown",
   "metadata": {},
   "source": [
    "* 00:51:16 - Can grab the model from the model data object."
   ]
  },
  {
   "cell_type": "code",
   "execution_count": 54,
   "metadata": {},
   "outputs": [],
   "source": [
    "learner = md.get_model(\n",
    "    opt_fn, em_sz, num_hidden, num_layers, dropouti=drops[0], dropout=drops[1],\n",
    "    wdrop=drops[2], dropoute=drops[3])"
   ]
  },
  {
   "cell_type": "code",
   "execution_count": 55,
   "metadata": {},
   "outputs": [],
   "source": [
    "learner.metrics = [accuracy]\n",
    "learner.unfreeze()"
   ]
  },
  {
   "cell_type": "code",
   "execution_count": 56,
   "metadata": {},
   "outputs": [
    {
     "data": {
      "text/plain": [
       "[(WeightDrop(\n",
       "    (module): LSTM(400, 1150)\n",
       "  ), LockedDropout(\n",
       "  )), (WeightDrop(\n",
       "    (module): LSTM(1150, 1150)\n",
       "  ), LockedDropout(\n",
       "  )), (WeightDrop(\n",
       "    (module): LSTM(1150, 400)\n",
       "  ), LockedDropout(\n",
       "  )), (LinearDecoder(\n",
       "    (decoder): Linear(in_features=400, out_features=60002, bias=False)\n",
       "    (dropout): LockedDropout(\n",
       "    )\n",
       "  ), LockedDropout(\n",
       "  ))]"
      ]
     },
     "execution_count": 56,
     "metadata": {},
     "output_type": "execute_result"
    }
   ],
   "source": [
    "learner.get_layer_groups()"
   ]
  },
  {
   "cell_type": "code",
   "execution_count": 57,
   "metadata": {},
   "outputs": [],
   "source": [
    "learner.model.load_state_dict(weights)"
   ]
  },
  {
   "cell_type": "code",
   "execution_count": 69,
   "metadata": {},
   "outputs": [],
   "source": [
    "lr = 1e-3\n",
    "lrs = lr"
   ]
  },
  {
   "cell_type": "markdown",
   "metadata": {},
   "source": [
    "* 00:51:21 - Call `learner.fit` to retrain just the layer layer:\n",
    "  * Last layer is embedding weights."
   ]
  },
  {
   "cell_type": "code",
   "execution_count": 59,
   "metadata": {},
   "outputs": [
    {
     "data": {
      "application/vnd.jupyter.widget-view+json": {
       "model_id": "de18a0f6f6fb4856ac8635dcd479cf0d",
       "version_major": 2,
       "version_minor": 0
      },
      "text/plain": [
       "HBox(children=(IntProgress(value=0, description='Epoch', max=1), HTML(value='')))"
      ]
     },
     "metadata": {},
     "output_type": "display_data"
    },
    {
     "name": "stdout",
     "output_type": "stream",
     "text": [
      "epoch      trn_loss   val_loss   accuracy                     \n",
      "    0      4.544017   4.261341   0.27452   \n",
      "\n"
     ]
    },
    {
     "data": {
      "text/plain": [
       "[array([4.26134]), 0.27451986084199703]"
      ]
     },
     "execution_count": 59,
     "metadata": {},
     "output_type": "execute_result"
    }
   ],
   "source": [
    "learner.fit(lrs / 2, 1, wds=wd, use_clr=(32, 2), cycle_len=1)"
   ]
  },
  {
   "cell_type": "code",
   "execution_count": 60,
   "metadata": {},
   "outputs": [],
   "source": [
    "learner.save('lm_last_ft')"
   ]
  },
  {
   "cell_type": "code",
   "execution_count": 61,
   "metadata": {},
   "outputs": [],
   "source": [
    "learner.load('lm_last_ft')"
   ]
  },
  {
   "cell_type": "code",
   "execution_count": 63,
   "metadata": {},
   "outputs": [],
   "source": [
    "learner.unfreeze()"
   ]
  },
  {
   "cell_type": "code",
   "execution_count": 64,
   "metadata": {},
   "outputs": [
    {
     "data": {
      "application/vnd.jupyter.widget-view+json": {
       "model_id": "61b2b4e82b7a4c1295e5c76627d3ed4b",
       "version_major": 2,
       "version_minor": 0
      },
      "text/plain": [
       "HBox(children=(IntProgress(value=0, description='Epoch', max=1), HTML(value='')))"
      ]
     },
     "metadata": {},
     "output_type": "display_data"
    },
    {
     "name": "stdout",
     "output_type": "stream",
     "text": [
      "epoch      trn_loss   val_loss   accuracy                     \n",
      "    0      4.880095   4.650325   0.238805  \n",
      "\n"
     ]
    }
   ],
   "source": [
    "learner.lr_find(start_lr=lrs/10, end_lr=lrs*10, linear=True)"
   ]
  },
  {
   "cell_type": "code",
   "execution_count": 66,
   "metadata": {},
   "outputs": [
    {
     "data": {
      "image/png": "[encoded data removed]",
      "text/plain": [
       "<Figure size 432x288 with 1 Axes>"
      ]
     },
     "metadata": {},
     "output_type": "display_data"
    }
   ],
   "source": [
    "learner.sched.plot()"
   ]
  },
  {
   "cell_type": "markdown",
   "metadata": {},
   "source": [
    "* Now to train a few epoch of same model:"
   ]
  },
  {
   "cell_type": "code",
   "execution_count": 70,
   "metadata": {},
   "outputs": [],
   "source": [
    "lr = 0.0005\n",
    "lrs = lr"
   ]
  },
  {
   "cell_type": "code",
   "execution_count": 71,
   "metadata": {},
   "outputs": [
    {
     "data": {
      "application/vnd.jupyter.widget-view+json": {
       "model_id": "42bf6cfd1bb44c8db3d068c44b22cbec",
       "version_major": 2,
       "version_minor": 0
      },
      "text/plain": [
       "HBox(children=(IntProgress(value=0, description='Epoch', max=15), HTML(value='')))"
      ]
     },
     "metadata": {},
     "output_type": "display_data"
    },
    {
     "name": "stdout",
     "output_type": "stream",
     "text": [
      "epoch      trn_loss   val_loss   accuracy                     \n",
      "    0      4.488005   4.208726   0.279219  \n",
      "    1      4.38779    4.146933   0.284608                     \n",
      "    2      4.339405   4.103692   0.288879                     \n",
      "    3      4.298558   4.075471   0.291703                     \n",
      "    4      4.260384   4.054879   0.293725                     \n",
      "    5      4.238347   4.039256   0.295072                     \n",
      "    6      4.230653   4.028909   0.296314                     \n",
      "    7      4.207525   4.017993   0.297614                     \n",
      "    8      4.190072   4.010223   0.298589                     \n",
      "    9      4.171842   4.001197   0.299301                     \n",
      "    10     4.179247   3.995295   0.299863                     \n",
      "    11     4.165434   3.990507   0.300163                     \n",
      "    12     4.142475   3.985639   0.30096                      \n",
      "    13     4.136125   3.982005   0.301323                     \n",
      "    14     4.127443   3.979073   0.301641                     \n"
     ]
    },
    {
     "data": {
      "text/plain": [
       "[array([3.97907]), 0.30164107122502404]"
      ]
     },
     "execution_count": 71,
     "metadata": {},
     "output_type": "execute_result"
    }
   ],
   "source": [
    "learner.fit(lrs, 1, wds=wd, use_clr=(20, 10), cycle_len=15)"
   ]
  },
  {
   "cell_type": "code",
   "execution_count": 73,
   "metadata": {},
   "outputs": [],
   "source": [
    "learner.save('lm1')"
   ]
  },
  {
   "cell_type": "code",
   "execution_count": 74,
   "metadata": {},
   "outputs": [],
   "source": [
    "learner.save_encoder('lm1_enc')"
   ]
  },
  {
   "cell_type": "code",
   "execution_count": 77,
   "metadata": {},
   "outputs": [
    {
     "data": {
      "image/png": "[encoded data removed]",
      "text/plain": [
       "<Figure size 432x288 with 1 Axes>"
      ]
     },
     "metadata": {},
     "output_type": "display_data"
    }
   ],
   "source": [
    "learner.sched.plot_loss()"
   ]
  },
  {
   "cell_type": "markdown",
   "metadata": {},
   "source": [
    "Note that results are better than Lesson 4's model after the first epoch."
   ]
  },
  {
   "cell_type": "markdown",
   "metadata": {},
   "source": [
    "### 00:52:40 - Audience question\n",
    "\n",
    "* Q1: What is the Wikitext 103 model, is it AUD LSTM again??\n",
    "* A1: Yes."
   ]
  },
  {
   "cell_type": "markdown",
   "metadata": {},
   "source": [
    "## 00:53:09 - Fast.ai doc project\n",
    "\n",
    "* Trying to build great documentation for Fast.ai project.\n",
    "  * Uses [AsciiDoc](https://www.methods.co.nz/asciidoc/) which is Markdown but with a lot more features."
   ]
  },
  {
   "cell_type": "markdown",
   "metadata": {},
   "source": [
    "## 00:58:36 - Language model vs word2vec\n",
    "\n",
    "* Word2Vec is simply a word embedding matrix, giving each word a vector, this model includes other pretrained layers (400 dim embedding matrix, 3 hidden layers and 1150 activations per layer).\n",
    "  * Huge difference in levels of capabilities.\n",
    "\n",
    "## 01:00:25 - Audience questions\n",
    "\n",
    "* Q1: What if Numpy array doesn't fit in memory?\n",
    "* A1: Usually doesn't come up: can fit a lot of ints in memory.\n",
    "\n",
    "* Q2: What is the idea behind averaging the weights of embeddings for words that aren't in the training corpus?\n",
    "* A2: Have to set weights to something. Could set to 0 but that's an extreme value. Could set to random: but what would the mean and std be of the numbers?\n",
    "\n",
    "## 01:02:20 - LanguageModelLoader\n",
    "\n",
    "* \n",
    "\n",
    "### 01:15:?? - Audience questions\n",
    "\n",
    "* Q1: Does this work on text corpuses for any language. Would you have to retrain?\n",
    "* A1: It would work but you'd obviously have to train on a big corpus. The pretrained weights would only be suitable for English language.\n",
    "\n",
    "## 01:16:53 - RNN Encoder\n",
    "\n",
    "* Standard RNN module based on Stephen Merity's paper [Regularizing and Optimizing LSTM Language Models](https://arxiv.org/pdf/1708.02182.pdf)"
   ]
  },
  {
   "cell_type": "markdown",
   "metadata": {},
   "source": [
    "* BPTT randomisation:\n",
    "  * Halve the backprop through time 5% of the time.\n",
    "  * Make the sequence length a normally distributed random number with a std of 5."
   ]
  },
  {
   "cell_type": "code",
   "execution_count": null,
   "metadata": {},
   "outputs": [],
   "source": [
    "from fastai.core import BasicModel"
   ]
  },
  {
   "cell_type": "code",
   "execution_count": null,
   "metadata": {},
   "outputs": [],
   "source": [
    "class LanguageModel(BasicModel):\n",
    "    def get_layers_groups(self):\n",
    "        m = self.model[0]\n",
    "        return [*zip(m.rnns, m.dropouths), (self.model[1], m.dropouti)]\n",
    "    \n",
    "    \n",
    "class LanguageModelData():\n",
    "    def __init__(self, path, pad_idx, nt, trn_dl, val_dl, test_dl=None, bptt=70, backwards=False, **kwargs):\n",
    "        self.path, self.pad_idx, self.nt = path, pad_idx, nt\n",
    "        self.trn_dl, self.val_dl, self.test_dl = trn_dl, val_dl, test_dl\n",
    "        \n",
    "    def get_model(self, opt_fn, emd_sz, n_hid, n_layers, **kwargs):\n",
    "        m = get_language_model(self.nt, emb_sz, n_hid, n_layers, self.pad_idx, **kwargs)\n",
    "        model = LanguageModel(to_gpu(m))\n",
    "        return RNN_Learner(self, model, opt_fn=opt_fn)\n",
    "    \n",
    "\n",
    "class RNN_Learner(Learner):\n",
    "    def __init__(self, data, models, **kwargs):\n",
    "        super().__init__(data, models, **kwargs)\n",
    "        self.crit = F.cross_entropy"
   ]
  },
  {
   "cell_type": "code",
   "execution_count": null,
   "metadata": {},
   "outputs": [],
   "source": [
    "def get_language_model(\n",
    "    n_tok, emb_sz, nhid, nlayers, pad_token,\n",
    "    dropout=0.4, dropouth=0.3, dropouti=0.5, dropoute=0.1,\n",
    "    wdrop=0.5, tie_weights=True\n",
    "):\n",
    "    rnn_enc = RNN_Encoder(\n",
    "        n_tok, emb_sz, nhid=nhid, nlayers=nlayers, pad_token=pad_token,\n",
    "        dropouth=dropouth, dropouti=dropouti, dropoute=dropoute,\n",
    "        wdrop=wdrop\n",
    "    )\n",
    "    enc = rnn_enc.encoder if tie_weights else None\n",
    "    return SequentialRNN(\n",
    "        rnn_enc, LinearDecoder(n_tok, emb_sz, dropout, tie_encoder=enc)\n",
    "    )\n",
    "    \n",
    "def get_rnn_classifier(\n",
    "    bptt, max_seq, n_class, n_tok, emb_sz,\n",
    "    n_hid, n_layers, pad_token, layers, drops, bidir=False,\n",
    "    dropouth=0.3, dropouti=0.5, dropoute=0.1, wdrop=0.5\n",
    "):\n",
    "    rnn_enc = MultiBatchRNN(\n",
    "        bptt, max_seq, n_tok, emb_sz, n_hid, n_layers, pad_token,\n",
    "        layers, drops, bidir=bidir, dropouth=dropouth,\n",
    "        dropouti=dropouto, dropoute=dropoute, wdrop=wdrop\n",
    "    )\n",
    "    return SequentialRNN(rnn_enc, PoolingLinearClassifier(layers, drop))"
   ]
  },
  {
   "cell_type": "code",
   "execution_count": null,
   "metadata": {},
   "outputs": [],
   "source": [
    "class RNN_Encoder(nn.Module):\n",
    "    initrange = 0.1\n",
    "    \n",
    "    def __init__(self, ntoken, emb_sz, nhid, nlayers, pad_token, bidir=False,)"
   ]
  }
 ],
 "metadata": {
  "kernelspec": {
   "display_name": "Python 3",
   "language": "python",
   "name": "python3"
  },
  "language_info": {
   "codemirror_mode": {
    "name": "ipython",
    "version": 3
   },
   "file_extension": ".py",
   "mimetype": "text/x-python",
   "name": "python",
   "nbconvert_exporter": "python",
   "pygments_lexer": "ipython3",
   "version": "3.6.6"
  }
 },
 "nbformat": 4,
 "nbformat_minor": 2
}
