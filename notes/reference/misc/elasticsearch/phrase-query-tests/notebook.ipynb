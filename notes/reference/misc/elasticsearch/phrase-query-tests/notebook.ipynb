{
 "cells": [
  {
   "cell_type": "code",
   "execution_count": 40,
   "metadata": {
    "collapsed": false
   },
   "outputs": [],
   "source": [
    "import requests\n",
    "import bz2\n",
    "import json\n",
    "from xml.etree.cElementTree import iterparse\n",
    "import time\n",
    "\n",
    "import numpy as np\n",
    "import matplotlib.pyplot as plt\n",
    "\n",
    "%matplotlib inline  "
   ]
  },
  {
   "cell_type": "code",
   "execution_count": 41,
   "metadata": {
    "collapsed": false
   },
   "outputs": [
    {
     "data": {
      "text/plain": [
       "<Response [200]>"
      ]
     },
     "execution_count": 41,
     "metadata": {},
     "output_type": "execute_result"
    }
   ],
   "source": [
    "requests.delete('http://localhost:9200/wiki-test')"
   ]
  },
  {
   "cell_type": "markdown",
   "metadata": {},
   "source": [
    "## Create mappings\n",
    "\n",
    "First trial, I'm just creating a simple mapping with 2 string fields."
   ]
  },
  {
   "cell_type": "code",
   "execution_count": 42,
   "metadata": {
    "collapsed": false
   },
   "outputs": [
    {
     "name": "stdout",
     "output_type": "stream",
     "text": [
      "<Response [200]>\n"
     ]
    }
   ],
   "source": [
    "print requests.put('http://localhost:9200/wiki-test', data=\"\"\"\n",
    "{\n",
    "    \"settings\": {\n",
    "        \"number_of_shards\": 1 \n",
    "    },\n",
    "    \"mappings\": {\n",
    "        \"page\": {\n",
    "            \"properties\": {\n",
    "                \"title\": {\n",
    "                    \"type\": \"string\"\n",
    "                },\n",
    "                \"text\": {\n",
    "                    \"type\": \"string\"\n",
    "                }\n",
    "            }\n",
    "        }\n",
    "    }\n",
    "}\n",
    "\"\"\")"
   ]
  },
  {
   "cell_type": "markdown",
   "metadata": {},
   "source": [
    "## Load data\n",
    "\n",
    "I'm going to use the Requests streaming API to stream the latest, parse the XML and load in Elasticsearch. It took about 1.3 hours (4762.685485363007 seconds) to index the entire 12G dataset. [Script used here](https://github.com/lextoumbourou/study-notes/blob/master/misc/elasticsearch/phrase-query-tests/wikimedia_loader.py)."
   ]
  },
  {
   "cell_type": "markdown",
   "metadata": {},
   "source": [
    "## Define test function"
   ]
  },
  {
   "cell_type": "code",
   "execution_count": null,
   "metadata": {
    "collapsed": true
   },
   "outputs": [],
   "source": [
    "def run_test(query, time_in_secs=60):\n",
    "    \"\"\"\n",
    "    Start by clearing the cache. Then, run query until we hit or exceed ``time_in_secs``.\n",
    "    \n",
    "    Displays a plot of query time and returns some stats about them.\n",
    "    \"\"\"\n",
    "    results = []\n",
    "\n",
    "    requests.post('http://localhost:9200/wiki-test/_cache/clear')\n",
    "    \n",
    "    time_start = time.time()\n",
    "\n",
    "    while (time.time() - time_start) < time_in_secs:\n",
    "        r = requests.post(\"http://localhost:9200/wiki-test/_search\", data=query)\n",
    "        if r.status_code != 200:\n",
    "            print \"That failed:\"\n",
    "            print r.json()\n",
    "            return\n",
    "        \n",
    "        results.append(r.json()['took'])\n",
    "    \n",
    "    results = sorted(results)\n",
    "    \n",
    "    plt.ylabel('Time taken')\n",
    "    plt.plot(results)\n",
    "    plt.show()\n",
    "\n",
    "    print \"Median: {0}, Max: {1}, Min: {2}\".format(np.median(np.array(results)), max(results), min(results))"
   ]
  },
  {
   "cell_type": "markdown",
   "metadata": {},
   "source": [
    "## Test #1: standard phrase query\n",
    "\n",
    "Params:\n",
    "\n",
    "    * Data size: 10"
   ]
  },
  {
   "cell_type": "code",
   "execution_count": 31,
   "metadata": {
    "collapsed": false
   },
   "outputs": [
    {
     "data": {
      "image/png": "[encoded data removed]",
      "text/plain": [
       "<matplotlib.figure.Figure at 0x1689b0f10>"
      ]
     },
     "metadata": {},
     "output_type": "display_data"
    },
    {
     "name": "stdout",
     "output_type": "stream",
     "text": [
      "Median: 7.0, Max: 32, Min: 6\n"
     ]
    }
   ],
   "source": [
    "run_test(\"\"\"\n",
    "    {\n",
    "        \"query\": {\n",
    "            \"match_phrase\": {\n",
    "                \"text\": \"running the risk\"\n",
    "            }\n",
    "        },\n",
    "        \"size\": 20\n",
    "    }\n",
    "    \"\"\", 10)"
   ]
  },
  {
   "cell_type": "markdown",
   "metadata": {},
   "source": [
    "## Test #2: Term query (min should match at 100%)"
   ]
  },
  {
   "cell_type": "code",
   "execution_count": 32,
   "metadata": {
    "collapsed": false
   },
   "outputs": [
    {
     "data": {
      "image/png": "[encoded data removed]",
      "text/plain": [
       "<matplotlib.figure.Figure at 0x169e44450>"
      ]
     },
     "metadata": {},
     "output_type": "display_data"
    },
    {
     "name": "stdout",
     "output_type": "stream",
     "text": [
      "Median: 5.0, Max: 28, Min: 4\n"
     ]
    }
   ],
   "source": [
    "run_test(\"\"\"\n",
    "    {\n",
    "        \"query\": {\n",
    "            \"match\": {\n",
    "                \"text\": {\n",
    "                    \"query\": \"running the risk\",\n",
    "                    \"minimum_should_match\": \"100%\"\n",
    "                }\n",
    "            }\n",
    "        },\n",
    "        \"size\": 20\n",
    "    }\n",
    "    \"\"\", 10)"
   ]
  },
  {
   "cell_type": "markdown",
   "metadata": {},
   "source": [
    "## Test #3: ask for less results"
   ]
  },
  {
   "cell_type": "code",
   "execution_count": 33,
   "metadata": {
    "collapsed": false
   },
   "outputs": [
    {
     "data": {
      "image/png": "[encoded data removed]",
      "text/plain": [
       "<matplotlib.figure.Figure at 0x1699d5e50>"
      ]
     },
     "metadata": {},
     "output_type": "display_data"
    },
    {
     "name": "stdout",
     "output_type": "stream",
     "text": [
      "Median: 7.0, Max: 31, Min: 6\n"
     ]
    }
   ],
   "source": [
    "run_test(\"\"\"\n",
    "    {\n",
    "        \"query\": {\n",
    "            \"match_phrase\": {\n",
    "                \"text\": \"running the risk\"\n",
    "            }\n",
    "        },\n",
    "        \"size\": 8\n",
    "    }\n",
    "    \"\"\", 10)"
   ]
  },
  {
   "cell_type": "markdown",
   "metadata": {},
   "source": [
    "## Test #4: rescore request\n",
    "\n",
    "A [rescore request](https://www.elastic.co/guide/en/elasticsearch/reference/1.7/search-request-rescore.html) allows you to run a cheap algorithm and return the top docs from that, then perform the more expensive query against the limited selection of docs."
   ]
  },
  {
   "cell_type": "code",
   "execution_count": null,
   "metadata": {
    "collapsed": false
   },
   "outputs": [],
   "source": [
    "run_test(\"\"\"\n",
    "    {\n",
    "        \"query\": {\n",
    "            \"match\": {\n",
    "                \"text\": \"running the risk\"\n",
    "            }\n",
    "        },\n",
    "        \"rescore\": {\n",
    "           \"window_size\": 50,\n",
    "           \"query\": {\n",
    "               \"rescore_query\" : {\n",
    "                   \"match_phrase\": {\n",
    "                       \"text\": {\n",
    "                           \"query\": \"running the risk\",\n",
    "                           \"slop\": 2\n",
    "                       }\n",
    "                   }\n",
    "               },\n",
    "               \"query_weight\" : 0.7,\n",
    "               \"rescore_query_weight\" : 1.2\n",
    "            }\n",
    "         }\n",
    "    }\n",
    "    \"\"\", 10)"
   ]
  },
  {
   "cell_type": "markdown",
   "metadata": {},
   "source": [
    "## Test #5: use shingles\n",
    "\n",
    "Sources:\n",
    "\n",
    "https://www.elastic.co/blog/searching-with-shingles\n",
    "https://www.elastic.co/guide/en/elasticsearch/guide/master/shingles.html\n",
    "\n",
    "\"Shingles\" in Elasticsearch, let's you tokenize words in the index, effectively letting you perform term queries that respect positional information.\n",
    "\n",
    "What does that mean? Well, if you look at the sentence \"we are running the risk\", a shingles tokenisation process would end up storing the following terms in the index:\n",
    "\n",
    "* ``we are``\n",
    "* ``are running``\n",
    "* ``running the``\n",
    "* ``the risk``\n",
    "\n",
    "Shingles are created at index time, one [commonly recommended approach](https://www.elastic.co/guide/en/elasticsearch/guide/master/shingles.html#_producing_shingles) is to create a separate field for the bigrams and one for unigrams, which can be achieved with a multifield.\n",
    "\n",
    "To use them, you must first create an analyzer that uses the token filter."
   ]
  },
  {
   "cell_type": "code",
   "execution_count": null,
   "metadata": {
    "collapsed": true
   },
   "outputs": [],
   "source": [
    "requests.delete('http://localhost:9200/wiki-test-shingles')\n",
    "print requests.put('http://localhost:9200/wiki-test-shingles', data=\"\"\"\n",
    "{\n",
    "    \"settings\": {\n",
    "        \"number_of_shards\": 1 \n",
    "        \"analysis\": {\n",
    "            \"filter\": {\n",
    "                \"shingle_filter\": {\n",
    "                    \"type\": \"shingle\",\n",
    "                    \"min_shingle_size\": 2,\n",
    "                    \"max_shingle_size\": 2,\n",
    "                    \"output_unigrams\": false\n",
    "                }\n",
    "            },\n",
    "            \"analyzer\": {\n",
    "                \"shingle_analyzer\": {\n",
    "                    \"type\":             \"custom\",\n",
    "                    \"tokenizer\":        \"standard\",\n",
    "                    \"filter\": [\n",
    "                        \"lowercase\",\n",
    "                        \"shingle_filter\" \n",
    "                    ]\n",
    "                }\n",
    "            }\n",
    "        }\n",
    "    }\n",
    "    \"mappings\": {\n",
    "        \"page\": {\n",
    "            \"properties\": {\n",
    "                \"title\": {\n",
    "                    \"type\": \"string\"\n",
    "                },\n",
    "                \"text\": {\n",
    "                    \"type\": \"string\",\n",
    "                    \"fields\": {\n",
    "                        \"shingles\": {\n",
    "                            \"type\":     \"string\",\n",
    "                            \"analyzer\": \"shingle_analyzer\"\n",
    "                        }\n",
    "                    }\n",
    "                }\n",
    "            }\n",
    "        }\n",
    "    }\n",
    "}\n",
    "\"\"\")"
   ]
  },
  {
   "cell_type": "markdown",
   "metadata": {},
   "source": [
    "You can adjust the Shingle size based on your needs, however, note that this can dramatically increase your index size. In my tests, adding a bigram shingle field increased my index size to roughly x. A trigram shingle field increased it to x.\n",
    "\n",
    "With Shingles field up and running, you could now perform a bool query, boosting results which match the Shingles as well as the unigrams."
   ]
  },
  {
   "cell_type": "code",
   "execution_count": null,
   "metadata": {
    "collapsed": true
   },
   "outputs": [],
   "source": [
    "run_test(\"\"\"\n",
    "    {\n",
    "        \"query\": {\n",
    "            \"bool\": {\n",
    "                \"must\": {\n",
    "                    \"match\": {\n",
    "                        \"text\": {\n",
    "                            \"query\": \"running the risk\",\n",
    "                        }\n",
    "                    }\n",
    "                },\n",
    "                \"should\": {\n",
    "                    \"match\": {\n",
    "                        \"text.shingles\": {\n",
    "                            \"query\": \"running the risk\"\n",
    "                        }\n",
    "                    }\n",
    "                }\n",
    "            }\n",
    "        },\n",
    "        \"size\": 20\n",
    "    }\n",
    "    \"\"\", 10)"
   ]
  },
  {
   "cell_type": "markdown",
   "metadata": {},
   "source": [
    "## Bonus: general stuff\n",
    "\n",
    "With that out the way, the standard Elasticsearch stuff apply for checking query performance.\n",
    "\n",
    "* Filter first, with cachable filters.\n",
    "\n",
    "  Can you limit the size of the docs queried by performing a filter first? Particularly one that's cachable.\n",
    "      \n",
    "  You should check your heap size, field data size (doc_values yo) and filter evictions and other stuff. [This article](http://radar.oreilly.com/2015/04/10-elasticsearch-metrics-to-watch.html) is quite helpful for looking at stuff to monitor.\n",
    " \n",
    "      \n",
    "* Does Lucene have sufficient resources?\n",
    "    \n",
    "  The general recommendation is to give 50% of your RAM to heap (but never more than 32GB) and 50% to Lucene. You should ensure that the OS if performing plenty of caching as disk reads can slow down queries significantly.\n",
    "      \n",
    "  Also, Phrase Queries can be slightly CPU intensive, as Lucene needs to calculate term position information as well as just looking it up in the index (not a problem if you have decided to go with Shingles), so ensuring you have adequate capacity there."
   ]
  },
  {
   "cell_type": "code",
   "execution_count": null,
   "metadata": {
    "collapsed": true
   },
   "outputs": [],
   "source": []
  }
 ],
 "metadata": {
  "kernelspec": {
   "display_name": "Python 2",
   "language": "python",
   "name": "python2"
  },
  "language_info": {
   "codemirror_mode": {
    "name": "ipython",
    "version": 2
   },
   "file_extension": ".py",
   "mimetype": "text/x-python",
   "name": "python",
   "nbconvert_exporter": "python",
   "pygments_lexer": "ipython2",
   "version": "2.7.11"
  }
 },
 "nbformat": 4,
 "nbformat_minor": 0
}
